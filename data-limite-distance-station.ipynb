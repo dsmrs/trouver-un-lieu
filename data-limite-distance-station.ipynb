{
 "cells": [
  {
   "cell_type": "code",
   "execution_count": 1,
   "metadata": {},
   "outputs": [],
   "source": [
    "from urllib.request import urlopen\n",
    "import json\n",
    "import pandas as pd\n",
    "from datetime import datetime\n",
    "from random import uniform\n",
    "from time import sleep"
   ]
  },
  {
   "cell_type": "markdown",
   "metadata": {},
   "source": [
    "Pour ce faire nous commençons par importer une basée de données reprennant toutes les communes de France:\n",
    "[Base de données villes française CC-BY-SA](https://sql.sh/736-base-donnees-villes-francaises)\n"
   ]
  },
  {
   "cell_type": "code",
   "execution_count": 2,
   "metadata": {},
   "outputs": [
    {
     "output_type": "execute_result",
     "data": {
      "text/plain": "  ville_id ville_departement             ville_slug              ville_nom  \\\n0        1                01                   ozan                   OZAN   \n1        2                01  cormoranche-sur-saone  CORMORANCHE-SUR-SAONE   \n2        3                01              plagne-01                 PLAGNE   \n\n        ville_nom_simple         ville_nom_reel ville_nom_soundex  \\\n0                   ozan                   Ozan              O250   \n1  cormoranche sur saone  Cormoranche-sur-Saône         C65652625   \n2                 plagne                 Plagne              P425   \n\n  ville_nom_metaphone ville_code_postal ville_commune  ... ville_densite_2010  \\\n0                 OSN             01190           284  ...                 93   \n1          KRMRNXSRSN             01290           123  ...                107   \n2                PLKN             01130           298  ...                 20   \n\n  ville_surface ville_longitude_deg ville_latitude_deg ville_longitude_grd  \\\n0           6.6             4.91667            46.3833                2866   \n1          9.85             4.83333            46.2333                2772   \n2           6.2             5.73333            46.1833                3769   \n\n  ville_latitude_grd ville_longitude_dms ville_latitude_dms ville_zmin  \\\n0              51546              +45456             462330        170   \n1              51379              +44953             461427        168   \n2              51324              +54342             461131        560   \n\n  ville_zmax  \n0        205  \n1        211  \n2        922  \n\n[3 rows x 27 columns]",
      "text/html": "<div>\n<style scoped>\n    .dataframe tbody tr th:only-of-type {\n        vertical-align: middle;\n    }\n\n    .dataframe tbody tr th {\n        vertical-align: top;\n    }\n\n    .dataframe thead th {\n        text-align: right;\n    }\n</style>\n<table border=\"1\" class=\"dataframe\">\n  <thead>\n    <tr style=\"text-align: right;\">\n      <th></th>\n      <th>ville_id</th>\n      <th>ville_departement</th>\n      <th>ville_slug</th>\n      <th>ville_nom</th>\n      <th>ville_nom_simple</th>\n      <th>ville_nom_reel</th>\n      <th>ville_nom_soundex</th>\n      <th>ville_nom_metaphone</th>\n      <th>ville_code_postal</th>\n      <th>ville_commune</th>\n      <th>...</th>\n      <th>ville_densite_2010</th>\n      <th>ville_surface</th>\n      <th>ville_longitude_deg</th>\n      <th>ville_latitude_deg</th>\n      <th>ville_longitude_grd</th>\n      <th>ville_latitude_grd</th>\n      <th>ville_longitude_dms</th>\n      <th>ville_latitude_dms</th>\n      <th>ville_zmin</th>\n      <th>ville_zmax</th>\n    </tr>\n  </thead>\n  <tbody>\n    <tr>\n      <th>0</th>\n      <td>1</td>\n      <td>01</td>\n      <td>ozan</td>\n      <td>OZAN</td>\n      <td>ozan</td>\n      <td>Ozan</td>\n      <td>O250</td>\n      <td>OSN</td>\n      <td>01190</td>\n      <td>284</td>\n      <td>...</td>\n      <td>93</td>\n      <td>6.6</td>\n      <td>4.91667</td>\n      <td>46.3833</td>\n      <td>2866</td>\n      <td>51546</td>\n      <td>+45456</td>\n      <td>462330</td>\n      <td>170</td>\n      <td>205</td>\n    </tr>\n    <tr>\n      <th>1</th>\n      <td>2</td>\n      <td>01</td>\n      <td>cormoranche-sur-saone</td>\n      <td>CORMORANCHE-SUR-SAONE</td>\n      <td>cormoranche sur saone</td>\n      <td>Cormoranche-sur-Saône</td>\n      <td>C65652625</td>\n      <td>KRMRNXSRSN</td>\n      <td>01290</td>\n      <td>123</td>\n      <td>...</td>\n      <td>107</td>\n      <td>9.85</td>\n      <td>4.83333</td>\n      <td>46.2333</td>\n      <td>2772</td>\n      <td>51379</td>\n      <td>+44953</td>\n      <td>461427</td>\n      <td>168</td>\n      <td>211</td>\n    </tr>\n    <tr>\n      <th>2</th>\n      <td>3</td>\n      <td>01</td>\n      <td>plagne-01</td>\n      <td>PLAGNE</td>\n      <td>plagne</td>\n      <td>Plagne</td>\n      <td>P425</td>\n      <td>PLKN</td>\n      <td>01130</td>\n      <td>298</td>\n      <td>...</td>\n      <td>20</td>\n      <td>6.2</td>\n      <td>5.73333</td>\n      <td>46.1833</td>\n      <td>3769</td>\n      <td>51324</td>\n      <td>+54342</td>\n      <td>461131</td>\n      <td>560</td>\n      <td>922</td>\n    </tr>\n  </tbody>\n</table>\n<p>3 rows × 27 columns</p>\n</div>"
     },
     "metadata": {},
     "execution_count": 2
    }
   ],
   "source": [
    "communes = pd.read_csv(\"data/villes_france.csv\", sep=',', error_bad_lines=False, index_col=False, dtype='unicode')\n",
    "communes.head(3)"
   ]
  },
  {
   "cell_type": "markdown",
   "metadata": {},
   "source": [
    "Sur les 27 colomnes, nous garderons que les suivantes:"
   ]
  },
  {
   "cell_type": "code",
   "execution_count": 3,
   "metadata": {},
   "outputs": [
    {
     "output_type": "execute_result",
     "data": {
      "text/plain": "  ville_id ville_departement              ville_nom       ville_nom_simple  \\\n0        1                01                   OZAN                   ozan   \n1        2                01  CORMORANCHE-SUR-SAONE  cormoranche sur saone   \n2        3                01                 PLAGNE                 plagne   \n\n          ville_nom_reel ville_code_postal ville_commune ville_code_commune  \\\n0                   Ozan             01190           284              01284   \n1  Cormoranche-sur-Saône             01290           123              01123   \n2                 Plagne             01130           298              01298   \n\n  ville_arrondissement ville_canton ville_amdi ville_population_2010  \\\n0                    2           26          6                   618   \n1                    2           27          6                  1058   \n2                    4           03          6                   129   \n\n  ville_population_1999 ville_population_2012 ville_densite_2010  \\\n0                   469                   500                 93   \n1                   903                  1000                107   \n2                    83                   100                 20   \n\n  ville_surface ville_longitude_deg ville_latitude_deg ville_zmax  \n0           6.6             4.91667            46.3833        205  \n1          9.85             4.83333            46.2333        211  \n2           6.2             5.73333            46.1833        922  ",
      "text/html": "<div>\n<style scoped>\n    .dataframe tbody tr th:only-of-type {\n        vertical-align: middle;\n    }\n\n    .dataframe tbody tr th {\n        vertical-align: top;\n    }\n\n    .dataframe thead th {\n        text-align: right;\n    }\n</style>\n<table border=\"1\" class=\"dataframe\">\n  <thead>\n    <tr style=\"text-align: right;\">\n      <th></th>\n      <th>ville_id</th>\n      <th>ville_departement</th>\n      <th>ville_nom</th>\n      <th>ville_nom_simple</th>\n      <th>ville_nom_reel</th>\n      <th>ville_code_postal</th>\n      <th>ville_commune</th>\n      <th>ville_code_commune</th>\n      <th>ville_arrondissement</th>\n      <th>ville_canton</th>\n      <th>ville_amdi</th>\n      <th>ville_population_2010</th>\n      <th>ville_population_1999</th>\n      <th>ville_population_2012</th>\n      <th>ville_densite_2010</th>\n      <th>ville_surface</th>\n      <th>ville_longitude_deg</th>\n      <th>ville_latitude_deg</th>\n      <th>ville_zmax</th>\n    </tr>\n  </thead>\n  <tbody>\n    <tr>\n      <th>0</th>\n      <td>1</td>\n      <td>01</td>\n      <td>OZAN</td>\n      <td>ozan</td>\n      <td>Ozan</td>\n      <td>01190</td>\n      <td>284</td>\n      <td>01284</td>\n      <td>2</td>\n      <td>26</td>\n      <td>6</td>\n      <td>618</td>\n      <td>469</td>\n      <td>500</td>\n      <td>93</td>\n      <td>6.6</td>\n      <td>4.91667</td>\n      <td>46.3833</td>\n      <td>205</td>\n    </tr>\n    <tr>\n      <th>1</th>\n      <td>2</td>\n      <td>01</td>\n      <td>CORMORANCHE-SUR-SAONE</td>\n      <td>cormoranche sur saone</td>\n      <td>Cormoranche-sur-Saône</td>\n      <td>01290</td>\n      <td>123</td>\n      <td>01123</td>\n      <td>2</td>\n      <td>27</td>\n      <td>6</td>\n      <td>1058</td>\n      <td>903</td>\n      <td>1000</td>\n      <td>107</td>\n      <td>9.85</td>\n      <td>4.83333</td>\n      <td>46.2333</td>\n      <td>211</td>\n    </tr>\n    <tr>\n      <th>2</th>\n      <td>3</td>\n      <td>01</td>\n      <td>PLAGNE</td>\n      <td>plagne</td>\n      <td>Plagne</td>\n      <td>01130</td>\n      <td>298</td>\n      <td>01298</td>\n      <td>4</td>\n      <td>03</td>\n      <td>6</td>\n      <td>129</td>\n      <td>83</td>\n      <td>100</td>\n      <td>20</td>\n      <td>6.2</td>\n      <td>5.73333</td>\n      <td>46.1833</td>\n      <td>922</td>\n    </tr>\n  </tbody>\n</table>\n</div>"
     },
     "metadata": {},
     "execution_count": 3
    }
   ],
   "source": [
    "colmnuns = [\n",
    "    \"ville_id\",\n",
    "    \"ville_departement\",\n",
    "    \"ville_nom\",             # En majuscule sans accents\n",
    "    \"ville_nom_simple\",      # En minuscule sans accents ni tirets\n",
    "    \"ville_nom_reel\", \n",
    "    \"ville_code_postal\",\n",
    "    \"ville_commune\",\n",
    "    \"ville_code_commune\",    # ou INSEE\n",
    "    \"ville_arrondissement\",\n",
    "    \"ville_canton\",\n",
    "    \"ville_amdi\",\n",
    "    \"ville_population_2010\",\n",
    "    \"ville_population_1999\",\n",
    "    \"ville_population_2012\",\n",
    "    \"ville_densite_2010\",\n",
    "    \"ville_surface\",\n",
    "    \"ville_longitude_deg\",\n",
    "    \"ville_latitude_deg\",\n",
    "    \"ville_zmax\"              # L'altitude\n",
    "]           \n",
    "\n",
    "communes = communes.filter(colmnuns)\n",
    "communes.head(3)"
   ]
  },
  {
   "cell_type": "markdown",
   "metadata": {},
   "source": [
    "Maintenant nous allons reprendre uniquement les communes des départements suivants:"
   ]
  },
  {
   "cell_type": "code",
   "execution_count": 15,
   "metadata": {},
   "outputs": [
    {
     "output_type": "execute_result",
     "data": {
      "text/plain": "      ville_id ville_departement    ville_nom ville_nom_simple ville_nom_reel  \\\n11514    11515                31        LUNAX            lunax          Lunax   \n11515    11516                31  FONTENILLES      fontenilles    Fontenilles   \n11516    11517                31        ARBON            arbon          Arbon   \n\n      ville_code_postal ville_commune ville_code_commune ville_arrondissement  \\\n11514             31350           307              31307                    2   \n11515             31470           188              31188                    1   \n11516             31160           012              31012                    2   \n\n      ville_canton ville_amdi ville_population_2010 ville_population_1999  \\\n11514           06          6                    60                    56   \n11515           30          6                  4505                  2920   \n11516           01          6                    92                    76   \n\n      ville_population_2012 ville_densite_2010 ville_surface  \\\n11514                   100                 11           5.1   \n11515                  3900                222         20.22   \n11516                   100                 20          4.47   \n\n       ville_longitude_deg  ville_latitude_deg ville_zmax  \n11514             0.683333           43.333302        298  \n11515             1.200000           43.549999        280  \n11516             0.750000           43.000000        896  ",
      "text/html": "<div>\n<style scoped>\n    .dataframe tbody tr th:only-of-type {\n        vertical-align: middle;\n    }\n\n    .dataframe tbody tr th {\n        vertical-align: top;\n    }\n\n    .dataframe thead th {\n        text-align: right;\n    }\n</style>\n<table border=\"1\" class=\"dataframe\">\n  <thead>\n    <tr style=\"text-align: right;\">\n      <th></th>\n      <th>ville_id</th>\n      <th>ville_departement</th>\n      <th>ville_nom</th>\n      <th>ville_nom_simple</th>\n      <th>ville_nom_reel</th>\n      <th>ville_code_postal</th>\n      <th>ville_commune</th>\n      <th>ville_code_commune</th>\n      <th>ville_arrondissement</th>\n      <th>ville_canton</th>\n      <th>ville_amdi</th>\n      <th>ville_population_2010</th>\n      <th>ville_population_1999</th>\n      <th>ville_population_2012</th>\n      <th>ville_densite_2010</th>\n      <th>ville_surface</th>\n      <th>ville_longitude_deg</th>\n      <th>ville_latitude_deg</th>\n      <th>ville_zmax</th>\n    </tr>\n  </thead>\n  <tbody>\n    <tr>\n      <th>11514</th>\n      <td>11515</td>\n      <td>31</td>\n      <td>LUNAX</td>\n      <td>lunax</td>\n      <td>Lunax</td>\n      <td>31350</td>\n      <td>307</td>\n      <td>31307</td>\n      <td>2</td>\n      <td>06</td>\n      <td>6</td>\n      <td>60</td>\n      <td>56</td>\n      <td>100</td>\n      <td>11</td>\n      <td>5.1</td>\n      <td>0.683333</td>\n      <td>43.333302</td>\n      <td>298</td>\n    </tr>\n    <tr>\n      <th>11515</th>\n      <td>11516</td>\n      <td>31</td>\n      <td>FONTENILLES</td>\n      <td>fontenilles</td>\n      <td>Fontenilles</td>\n      <td>31470</td>\n      <td>188</td>\n      <td>31188</td>\n      <td>1</td>\n      <td>30</td>\n      <td>6</td>\n      <td>4505</td>\n      <td>2920</td>\n      <td>3900</td>\n      <td>222</td>\n      <td>20.22</td>\n      <td>1.200000</td>\n      <td>43.549999</td>\n      <td>280</td>\n    </tr>\n    <tr>\n      <th>11516</th>\n      <td>11517</td>\n      <td>31</td>\n      <td>ARBON</td>\n      <td>arbon</td>\n      <td>Arbon</td>\n      <td>31160</td>\n      <td>012</td>\n      <td>31012</td>\n      <td>2</td>\n      <td>01</td>\n      <td>6</td>\n      <td>92</td>\n      <td>76</td>\n      <td>100</td>\n      <td>20</td>\n      <td>4.47</td>\n      <td>0.750000</td>\n      <td>43.000000</td>\n      <td>896</td>\n    </tr>\n  </tbody>\n</table>\n</div>"
     },
     "metadata": {},
     "execution_count": 15
    }
   ],
   "source": [
    "departements = [\n",
    "    \"31\",  # Haute-Garonne\n",
    "    \"32\",  # Gers\n",
    "    \"65\",  # Hautes-Pyrénées\n",
    "    \"81\",  # Tarn\n",
    "]\n",
    "\n",
    "toulouse_counrtyside = communes.loc[communes['ville_departement'].isin(departements)]\n",
    "toulouse_counrtyside['ville_latitude_deg'] = toulouse_counrtyside['ville_latitude_deg'].astype('float32')\n",
    "toulouse_counrtyside['ville_longitude_deg'] = toulouse_counrtyside['ville_longitude_deg'].astype('float32')\n",
    "\n",
    "toulouse_counrtyside.head(3)"
   ]
  },
  {
   "cell_type": "code",
   "execution_count": 5,
   "metadata": {},
   "outputs": [
    {
     "output_type": "execute_result",
     "data": {
      "text/plain": "ville_id                 1849\nville_departement        1849\nville_nom                1849\nville_nom_simple         1849\nville_nom_reel           1849\nville_code_postal        1849\nville_commune            1849\nville_code_commune       1849\nville_arrondissement     1849\nville_canton             1849\nville_amdi               1849\nville_population_2010    1849\nville_population_1999    1849\nville_population_2012    1849\nville_densite_2010       1849\nville_surface            1849\nville_longitude_deg      1849\nville_latitude_deg       1849\nville_zmax               1849\ndtype: int64"
     },
     "metadata": {},
     "execution_count": 5
    }
   ],
   "source": [
    "toulouse_counrtyside.count()"
   ]
  },
  {
   "cell_type": "code",
   "execution_count": 24,
   "metadata": {},
   "outputs": [
    {
     "output_type": "execute_result",
     "data": {
      "text/plain": "   objectid id_rte500                        nature             toponyme  \\\n3        16      1595  Gare de voyageurs et de fret            Colomiers   \n11       46      2064             Gare de voyageurs      L'Isle-Jourdain   \n13       51      2088  Gare de voyageurs et de fret  Cazères-sur-Garonne   \n\n                           type   codeuic     region departement  \\\n3   gare avec accueil du public  87611467  Occitanie          31   \n11  gare avec accueil du public  87611806  Occitanie          32   \n13  gare avec accueil du public  87611079  Occitanie          31   \n\n                     date_maj  \\\n3   2018-02-07T02:00:00+01:00   \n11  2018-02-07T02:00:00+01:00   \n13  2018-02-07T02:00:00+01:00   \n\n                                            geo_shape  \\\n3   {\"type\": \"Point\", \"coordinates\": [1.3340385138...   \n11  {\"type\": \"Point\", \"coordinates\": [1.0897045076...   \n13  {\"type\": \"Point\", \"coordinates\": [1.0823282310...   \n\n                   geo_point_2d  \n3    43.6032693934,1.3340385139  \n11  43.6173114196,1.08970450764  \n13  43.2127599987,1.08232823102  ",
      "text/html": "<div>\n<style scoped>\n    .dataframe tbody tr th:only-of-type {\n        vertical-align: middle;\n    }\n\n    .dataframe tbody tr th {\n        vertical-align: top;\n    }\n\n    .dataframe thead th {\n        text-align: right;\n    }\n</style>\n<table border=\"1\" class=\"dataframe\">\n  <thead>\n    <tr style=\"text-align: right;\">\n      <th></th>\n      <th>objectid</th>\n      <th>id_rte500</th>\n      <th>nature</th>\n      <th>toponyme</th>\n      <th>type</th>\n      <th>codeuic</th>\n      <th>region</th>\n      <th>departement</th>\n      <th>date_maj</th>\n      <th>geo_shape</th>\n      <th>geo_point_2d</th>\n    </tr>\n  </thead>\n  <tbody>\n    <tr>\n      <th>3</th>\n      <td>16</td>\n      <td>1595</td>\n      <td>Gare de voyageurs et de fret</td>\n      <td>Colomiers</td>\n      <td>gare avec accueil du public</td>\n      <td>87611467</td>\n      <td>Occitanie</td>\n      <td>31</td>\n      <td>2018-02-07T02:00:00+01:00</td>\n      <td>{\"type\": \"Point\", \"coordinates\": [1.3340385138...</td>\n      <td>43.6032693934,1.3340385139</td>\n    </tr>\n    <tr>\n      <th>11</th>\n      <td>46</td>\n      <td>2064</td>\n      <td>Gare de voyageurs</td>\n      <td>L'Isle-Jourdain</td>\n      <td>gare avec accueil du public</td>\n      <td>87611806</td>\n      <td>Occitanie</td>\n      <td>32</td>\n      <td>2018-02-07T02:00:00+01:00</td>\n      <td>{\"type\": \"Point\", \"coordinates\": [1.0897045076...</td>\n      <td>43.6173114196,1.08970450764</td>\n    </tr>\n    <tr>\n      <th>13</th>\n      <td>51</td>\n      <td>2088</td>\n      <td>Gare de voyageurs et de fret</td>\n      <td>Cazères-sur-Garonne</td>\n      <td>gare avec accueil du public</td>\n      <td>87611079</td>\n      <td>Occitanie</td>\n      <td>31</td>\n      <td>2018-02-07T02:00:00+01:00</td>\n      <td>{\"type\": \"Point\", \"coordinates\": [1.0823282310...</td>\n      <td>43.2127599987,1.08232823102</td>\n    </tr>\n  </tbody>\n</table>\n</div>"
     },
     "metadata": {},
     "execution_count": 24
    }
   ],
   "source": [
    "gares = pd.read_csv(\"data/localisation-des-gares-et-haltes-ferroviaires-doccitanie.csv\", sep=';', error_bad_lines=False, index_col=False, dtype='unicode')\n",
    "departements = [\n",
    "    \"31\",  # Haute-Garonne\n",
    "    \"32\",  # Gers\n",
    "    \"65\",  # Hautes-Pyrénées\n",
    "    \"81\",  # Tarn\n",
    "        ]\n",
    "\n",
    "codeuic = [\n",
    "\"87615476\",\n",
    "\"87615484\",\n",
    "\"87615468\",\n",
    "\"87615526\",\n",
    "\"87775197\",\n",
    "\"87328021\",\n",
    "\"87615542\",\n",
    "\"87615013\",\n",
    "\"87618215\",\n",
    "\"87611723\",\n",
    "\"87618207\",\n",
    "\"87611707\",\n",
    "\"87612028\",\n",
    "\"87612002\",\n",
    "\"87616011\",\n",
    "\"87611400\",\n",
    "\"87611301\",\n",
    "\"87611665\",\n",
    "\"87611657\",\n",
    "\"87446179\",\n",
    "\"87353573\",\n",
    "\"87611467\",\n",
    "\"87611962\",\n",
    "\"87611004\",\n",
    "\"87618116\",\n",
    "\"87611384\",\n",
    "\"87353581\",\n",
    "\"87611434\",\n",
    "\"87611954\",\n",
    "\"87611392\",\n",
    "\"87353599\",\n",
    "\"87611947\",\n",
    "\"87497461\",\n",
    "\"87612010\",\n",
    "\"87611939\",\n",
    "\"87611376\",\n",
    "\"87611921\"\n",
    "]\n",
    "\n",
    "gares = gares.loc[gares['departement'].isin(departements)]\n",
    "#gares = gares.loc[~gares['codeuic'].isin(codeuic)]\n",
    "gares.head(3)"
   ]
  },
  {
   "cell_type": "code",
   "execution_count": 28,
   "metadata": {},
   "outputs": [],
   "source": [
    "# Create two lists for the loop results to be placed\n",
    "lat = []\n",
    "lon = []\n",
    "\n",
    "# For each row in a varible,\n",
    "for row in gares['geo_point_2d']:\n",
    "    # Try to,\n",
    "    try:\n",
    "        # Split the row by comma and append\n",
    "        # everything before the comma to lat\n",
    "        lat.append(float(row.split(',')[0]))\n",
    "        # Split the row by comma and append\n",
    "        # everything after the comma to lon\n",
    "        lon.append(float(row.split(',')[1]))\n",
    "    # But if you get an error\n",
    "    except:\n",
    "        # append a missing value to lat\n",
    "        lat.append(np.NaN)\n",
    "        # append a missing value to lon\n",
    "        lon.append(np.NaN)\n",
    "\n",
    "# Create two new columns from lat and lon\n",
    "gares['latitude'] = lat\n",
    "gares['longitude'] = lon"
   ]
  },
  {
   "cell_type": "markdown",
   "metadata": {},
   "source": [
    "Let's see the distance between two points"
   ]
  },
  {
   "cell_type": "code",
   "execution_count": 25,
   "metadata": {},
   "outputs": [
    {
     "output_type": "execute_result",
     "data": {
      "text/plain": "60.48662575516235"
     },
     "metadata": {},
     "execution_count": 25
    }
   ],
   "source": [
    "from math import radians, cos, sin, asin, sqrt\n",
    "\n",
    "def haversine(lon1, lat1, lon2, lat2):\n",
    "    \"\"\"\n",
    "    Calculate the great circle distance between two points \n",
    "    on the earth (specified in decimal degrees)\n",
    "    \"\"\"\n",
    "    # convert decimal degrees to radians \n",
    "    lon1, lat1, lon2, lat2 = map(radians, [lon1, lat1, lon2, lat2])\n",
    "\n",
    "    # haversine formula \n",
    "    dlon = lon2 - lon1 \n",
    "    dlat = lat2 - lat1 \n",
    "    a = sin(dlat/2)**2 + cos(lat1) * cos(lat2) * sin(dlon/2)**2\n",
    "    c = 2 * asin(sqrt(a)) \n",
    "    r = 6371 # Radius of earth in kilometers. Use 3956 for miles\n",
    "    return c * r\n",
    "haversine(0.683333,43.333302,1.3340385139, 43.6032693934)"
   ]
  },
  {
   "cell_type": "code",
   "execution_count": 29,
   "metadata": {},
   "outputs": [],
   "source": [
    "df_all = pd.merge(toulouse_counrtyside.assign(key=0), gares.assign(key=0), on='key').drop('key', axis=1)"
   ]
  },
  {
   "cell_type": "code",
   "execution_count": 42,
   "metadata": {},
   "outputs": [],
   "source": [
    "df_all['DISTANCE_GARE'] = df_all.apply(\n",
    "    (lambda row: haversine(\n",
    "        row['ville_longitude_deg'], row['ville_latitude_deg'],\n",
    "        row['longitude'], row['latitude']\n",
    "    )),\n",
    "    axis=1\n",
    ")"
   ]
  },
  {
   "cell_type": "code",
   "execution_count": 41,
   "metadata": {},
   "outputs": [
    {
     "output_type": "stream",
     "name": "stdout",
     "text": "0.566667 43.15\n43.6561845416 1.97438119387\n"
    }
   ],
   "source": [
    "toulouse_counrtyside['ville_longitude_deg'].count()*gares['latitude'].count()\n",
    "df_all['DISTANCE_GARE'].count()\n",
    "print(toulouse_counrtyside['ville_longitude_deg'].iloc[3], toulouse_counrtyside['ville_latitude_deg'].iloc[3])\n",
    "print(gares['latitude'].iloc[3], gares['longitude'].iloc[3])\n"
   ]
  },
  {
   "cell_type": "code",
   "execution_count": 43,
   "metadata": {},
   "outputs": [],
   "source": [
    "closest = df_all.loc[df_all.groupby([\"ville_id\", 'ville_latitude_deg', 'ville_longitude_deg'])[\"DISTANCE_GARE\"].idxmin()]"
   ]
  },
  {
   "cell_type": "code",
   "execution_count": 44,
   "metadata": {},
   "outputs": [],
   "source": [
    "toulouse_counrtyside_w_dist = toulouse_counrtyside.merge(\n",
    "    closest,\n",
    "    on=[\"ville_id\", 'ville_latitude_deg', 'ville_longitude_deg'],\n",
    "    suffixes=('', '_cl')\n",
    ").drop(['latitude', 'latitude'], axis=1)"
   ]
  },
  {
   "cell_type": "code",
   "execution_count": 45,
   "metadata": {},
   "outputs": [
    {
     "output_type": "execute_result",
     "data": {
      "text/plain": "     ville_id ville_departement                  ville_nom  \\\n103     11618                31                 FENOUILLET   \n555     12070                31  MONTASTRUC-LA-CONSEILLERE   \n313     11828                31        AVIGNONET-LAURAGAIS   \n1809    33330                81                    CARMAUX   \n336     11851                31                     LABEGE   \n1687    33208                81          VIELMUR-SUR-AGOUT   \n30      11545                31                    CAZERES   \n\n               ville_nom_simple             ville_nom_reel ville_code_postal  \\\n103                  fenouillet                 Fenouillet             31150   \n555   montastruc la conseillere  Montastruc-la-Conseillère             31380   \n313         avignonet lauragais        Avignonet-Lauragais             31290   \n1809                    carmaux                    Carmaux             81400   \n336                      labege                     Labège             31670   \n1687          vielmur sur agout          Vielmur-sur-Agout             81570   \n30                      cazeres                    Cazères             31220   \n\n     ville_commune ville_code_commune ville_arrondissement ville_canton  ...  \\\n103            182              31182                    3           49  ...   \n555            358              31358                    3           19  ...   \n313            037              31037                    3           38  ...   \n1809           060              81060                    1           97  ...   \n336            254              31254                    3           10  ...   \n1687           315              81315                    2           35  ...   \n30             135              31135                    1           11  ...   \n\n                       toponyme                         type   codeuic  \\\n103      Fenouillet-Saint-Alban            halte ferroviaire  87611962   \n555   Montastruc-la-Conseillère            halte ferroviaire  87615369   \n313                   Avignonet            halte ferroviaire  87616011   \n1809                    Carmaux  gare avec accueil du public  87615625   \n336              Labège-Village            halte ferroviaire  87612028   \n1687          Vielmur-sur-Agout            halte ferroviaire  87775197   \n30          Cazères-sur-Garonne  gare avec accueil du public  87611079   \n\n         region departement                   date_maj  \\\n103   Occitanie          31  2018-02-07T02:00:00+01:00   \n555   Occitanie          31  2018-02-07T02:00:00+01:00   \n313   Occitanie          31  2018-02-07T02:00:00+01:00   \n1809  Occitanie          81  2018-02-07T02:00:00+01:00   \n336   Occitanie          31  2018-02-07T02:00:00+01:00   \n1687  Occitanie          81  2018-02-07T02:00:00+01:00   \n30    Occitanie          31  2018-02-07T02:00:00+01:00   \n\n                                              geo_shape  \\\n103   {\"type\": \"Point\", \"coordinates\": [1.4013341146...   \n555   {\"type\": \"Point\", \"coordinates\": [1.5974276883...   \n313   {\"type\": \"Point\", \"coordinates\": [1.7876235476...   \n1809  {\"type\": \"Point\", \"coordinates\": [2.1523689320...   \n336   {\"type\": \"Point\", \"coordinates\": [1.5333464811...   \n1687  {\"type\": \"Point\", \"coordinates\": [2.0894428718...   \n30    {\"type\": \"Point\", \"coordinates\": [1.0823282310...   \n\n                     geo_point_2d longitude DISTANCE_GARE  \n103   43.6843233667,1.40133411461  1.401334      0.156389  \n555   43.7157469018,1.59742768831  1.597428      0.232393  \n313   43.3639242339,1.78762354766  1.787624      0.242190  \n1809   44.048256148,2.15236893204  2.152369      0.270941  \n336   43.5300993993,1.53334648112  1.533346      0.355725  \n1687  43.6240880687,2.08944287185  2.089443      0.387672  \n30    43.2127599987,1.08232823102  1.082328      0.445731  \n\n[7 rows x 48 columns]",
      "text/html": "<div>\n<style scoped>\n    .dataframe tbody tr th:only-of-type {\n        vertical-align: middle;\n    }\n\n    .dataframe tbody tr th {\n        vertical-align: top;\n    }\n\n    .dataframe thead th {\n        text-align: right;\n    }\n</style>\n<table border=\"1\" class=\"dataframe\">\n  <thead>\n    <tr style=\"text-align: right;\">\n      <th></th>\n      <th>ville_id</th>\n      <th>ville_departement</th>\n      <th>ville_nom</th>\n      <th>ville_nom_simple</th>\n      <th>ville_nom_reel</th>\n      <th>ville_code_postal</th>\n      <th>ville_commune</th>\n      <th>ville_code_commune</th>\n      <th>ville_arrondissement</th>\n      <th>ville_canton</th>\n      <th>...</th>\n      <th>toponyme</th>\n      <th>type</th>\n      <th>codeuic</th>\n      <th>region</th>\n      <th>departement</th>\n      <th>date_maj</th>\n      <th>geo_shape</th>\n      <th>geo_point_2d</th>\n      <th>longitude</th>\n      <th>DISTANCE_GARE</th>\n    </tr>\n  </thead>\n  <tbody>\n    <tr>\n      <th>103</th>\n      <td>11618</td>\n      <td>31</td>\n      <td>FENOUILLET</td>\n      <td>fenouillet</td>\n      <td>Fenouillet</td>\n      <td>31150</td>\n      <td>182</td>\n      <td>31182</td>\n      <td>3</td>\n      <td>49</td>\n      <td>...</td>\n      <td>Fenouillet-Saint-Alban</td>\n      <td>halte ferroviaire</td>\n      <td>87611962</td>\n      <td>Occitanie</td>\n      <td>31</td>\n      <td>2018-02-07T02:00:00+01:00</td>\n      <td>{\"type\": \"Point\", \"coordinates\": [1.4013341146...</td>\n      <td>43.6843233667,1.40133411461</td>\n      <td>1.401334</td>\n      <td>0.156389</td>\n    </tr>\n    <tr>\n      <th>555</th>\n      <td>12070</td>\n      <td>31</td>\n      <td>MONTASTRUC-LA-CONSEILLERE</td>\n      <td>montastruc la conseillere</td>\n      <td>Montastruc-la-Conseillère</td>\n      <td>31380</td>\n      <td>358</td>\n      <td>31358</td>\n      <td>3</td>\n      <td>19</td>\n      <td>...</td>\n      <td>Montastruc-la-Conseillère</td>\n      <td>halte ferroviaire</td>\n      <td>87615369</td>\n      <td>Occitanie</td>\n      <td>31</td>\n      <td>2018-02-07T02:00:00+01:00</td>\n      <td>{\"type\": \"Point\", \"coordinates\": [1.5974276883...</td>\n      <td>43.7157469018,1.59742768831</td>\n      <td>1.597428</td>\n      <td>0.232393</td>\n    </tr>\n    <tr>\n      <th>313</th>\n      <td>11828</td>\n      <td>31</td>\n      <td>AVIGNONET-LAURAGAIS</td>\n      <td>avignonet lauragais</td>\n      <td>Avignonet-Lauragais</td>\n      <td>31290</td>\n      <td>037</td>\n      <td>31037</td>\n      <td>3</td>\n      <td>38</td>\n      <td>...</td>\n      <td>Avignonet</td>\n      <td>halte ferroviaire</td>\n      <td>87616011</td>\n      <td>Occitanie</td>\n      <td>31</td>\n      <td>2018-02-07T02:00:00+01:00</td>\n      <td>{\"type\": \"Point\", \"coordinates\": [1.7876235476...</td>\n      <td>43.3639242339,1.78762354766</td>\n      <td>1.787624</td>\n      <td>0.242190</td>\n    </tr>\n    <tr>\n      <th>1809</th>\n      <td>33330</td>\n      <td>81</td>\n      <td>CARMAUX</td>\n      <td>carmaux</td>\n      <td>Carmaux</td>\n      <td>81400</td>\n      <td>060</td>\n      <td>81060</td>\n      <td>1</td>\n      <td>97</td>\n      <td>...</td>\n      <td>Carmaux</td>\n      <td>gare avec accueil du public</td>\n      <td>87615625</td>\n      <td>Occitanie</td>\n      <td>81</td>\n      <td>2018-02-07T02:00:00+01:00</td>\n      <td>{\"type\": \"Point\", \"coordinates\": [2.1523689320...</td>\n      <td>44.048256148,2.15236893204</td>\n      <td>2.152369</td>\n      <td>0.270941</td>\n    </tr>\n    <tr>\n      <th>336</th>\n      <td>11851</td>\n      <td>31</td>\n      <td>LABEGE</td>\n      <td>labege</td>\n      <td>Labège</td>\n      <td>31670</td>\n      <td>254</td>\n      <td>31254</td>\n      <td>3</td>\n      <td>10</td>\n      <td>...</td>\n      <td>Labège-Village</td>\n      <td>halte ferroviaire</td>\n      <td>87612028</td>\n      <td>Occitanie</td>\n      <td>31</td>\n      <td>2018-02-07T02:00:00+01:00</td>\n      <td>{\"type\": \"Point\", \"coordinates\": [1.5333464811...</td>\n      <td>43.5300993993,1.53334648112</td>\n      <td>1.533346</td>\n      <td>0.355725</td>\n    </tr>\n    <tr>\n      <th>1687</th>\n      <td>33208</td>\n      <td>81</td>\n      <td>VIELMUR-SUR-AGOUT</td>\n      <td>vielmur sur agout</td>\n      <td>Vielmur-sur-Agout</td>\n      <td>81570</td>\n      <td>315</td>\n      <td>81315</td>\n      <td>2</td>\n      <td>35</td>\n      <td>...</td>\n      <td>Vielmur-sur-Agout</td>\n      <td>halte ferroviaire</td>\n      <td>87775197</td>\n      <td>Occitanie</td>\n      <td>81</td>\n      <td>2018-02-07T02:00:00+01:00</td>\n      <td>{\"type\": \"Point\", \"coordinates\": [2.0894428718...</td>\n      <td>43.6240880687,2.08944287185</td>\n      <td>2.089443</td>\n      <td>0.387672</td>\n    </tr>\n    <tr>\n      <th>30</th>\n      <td>11545</td>\n      <td>31</td>\n      <td>CAZERES</td>\n      <td>cazeres</td>\n      <td>Cazères</td>\n      <td>31220</td>\n      <td>135</td>\n      <td>31135</td>\n      <td>1</td>\n      <td>11</td>\n      <td>...</td>\n      <td>Cazères-sur-Garonne</td>\n      <td>gare avec accueil du public</td>\n      <td>87611079</td>\n      <td>Occitanie</td>\n      <td>31</td>\n      <td>2018-02-07T02:00:00+01:00</td>\n      <td>{\"type\": \"Point\", \"coordinates\": [1.0823282310...</td>\n      <td>43.2127599987,1.08232823102</td>\n      <td>1.082328</td>\n      <td>0.445731</td>\n    </tr>\n  </tbody>\n</table>\n<p>7 rows × 48 columns</p>\n</div>"
     },
     "metadata": {},
     "execution_count": 45
    }
   ],
   "source": [
    "toulouse_counrtyside_w_dist.sort_values(by=['DISTANCE_GARE']).head(7)"
   ]
  },
  {
   "cell_type": "code",
   "execution_count": 14,
   "metadata": {},
   "outputs": [],
   "source": [
    "toulouse_counrtyside_w_dist.to_csv('data/tls-communes-gares.csv', encoding='utf-8')"
   ]
  }
 ],
 "metadata": {
  "kernelspec": {
   "display_name": "Python 3.7.5 64-bit",
   "language": "python",
   "name": "python37564bitdf7e01cea00f4b91bf0d4f98b0317dd3"
  },
  "language_info": {
   "codemirror_mode": {
    "name": "ipython",
    "version": 3
   },
   "file_extension": ".py",
   "mimetype": "text/x-python",
   "name": "python",
   "nbconvert_exporter": "python",
   "pygments_lexer": "ipython3",
   "version": "3.7.5-final"
  }
 },
 "nbformat": 4,
 "nbformat_minor": 1
}