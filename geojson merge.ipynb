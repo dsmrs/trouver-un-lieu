{
 "cells": [
  {
   "cell_type": "code",
   "execution_count": 16,
   "metadata": {},
   "outputs": [],
   "source": [
    "import folium\n",
    "import json"
   ]
  },
  {
   "cell_type": "code",
   "execution_count": 17,
   "metadata": {},
   "outputs": [],
   "source": [
    "import pandas as pd\n",
    "import numpy as np"
   ]
  },
  {
   "cell_type": "code",
   "execution_count": 18,
   "metadata": {},
   "outputs": [],
   "source": [
    "map_durations = folium.Map(\n",
    "    location=[43.6,1.43333],\n",
    "    zoom_start=9,\n",
    "    tiles='Stamen Terrain'\n",
    ")"
   ]
  },
  {
   "cell_type": "code",
   "execution_count": 19,
   "metadata": {},
   "outputs": [],
   "source": [
    "durations = pd.read_csv(\"data/durations_avoid_toll.csv\", sep=',', error_bad_lines=False, index_col=False, dtype='str')\n",
    "durations['base_duration_toulouse'] = durations['base_duration_toulouse'].astype('int')"
   ]
  },
  {
   "cell_type": "code",
   "execution_count": 20,
   "metadata": {},
   "outputs": [
    {
     "output_type": "execute_result",
     "data": {
      "text/plain": "  Unnamed: 0 ville_code_commune duration_toulouse distance_toulouse  \\\n0          0              09045              5796            104006   \n1          1              09098              5818             91446   \n2          2              09302              6938            121621   \n3          3              09327              5291             87831   \n4          4              09310              3786             62644   \n\n   base_duration_toulouse  \n0                    5605  \n1                    5676  \n2                    6814  \n3                    5174  \n4                    3595  ",
      "text/html": "<div>\n<style scoped>\n    .dataframe tbody tr th:only-of-type {\n        vertical-align: middle;\n    }\n\n    .dataframe tbody tr th {\n        vertical-align: top;\n    }\n\n    .dataframe thead th {\n        text-align: right;\n    }\n</style>\n<table border=\"1\" class=\"dataframe\">\n  <thead>\n    <tr style=\"text-align: right;\">\n      <th></th>\n      <th>Unnamed: 0</th>\n      <th>ville_code_commune</th>\n      <th>duration_toulouse</th>\n      <th>distance_toulouse</th>\n      <th>base_duration_toulouse</th>\n    </tr>\n  </thead>\n  <tbody>\n    <tr>\n      <th>0</th>\n      <td>0</td>\n      <td>09045</td>\n      <td>5796</td>\n      <td>104006</td>\n      <td>5605</td>\n    </tr>\n    <tr>\n      <th>1</th>\n      <td>1</td>\n      <td>09098</td>\n      <td>5818</td>\n      <td>91446</td>\n      <td>5676</td>\n    </tr>\n    <tr>\n      <th>2</th>\n      <td>2</td>\n      <td>09302</td>\n      <td>6938</td>\n      <td>121621</td>\n      <td>6814</td>\n    </tr>\n    <tr>\n      <th>3</th>\n      <td>3</td>\n      <td>09327</td>\n      <td>5291</td>\n      <td>87831</td>\n      <td>5174</td>\n    </tr>\n    <tr>\n      <th>4</th>\n      <td>4</td>\n      <td>09310</td>\n      <td>3786</td>\n      <td>62644</td>\n      <td>3595</td>\n    </tr>\n  </tbody>\n</table>\n</div>"
     },
     "metadata": {},
     "execution_count": 20
    }
   ],
   "source": [
    "durations.head()"
   ]
  },
  {
   "cell_type": "code",
   "execution_count": 21,
   "metadata": {},
   "outputs": [
    {
     "output_type": "execute_result",
     "data": {
      "text/plain": "  Unnamed: 0 ville_code_commune duration_toulouse distance_toulouse  \\\n0          0              09045              5796            104006   \n1          1              09098              5818             91446   \n2          2              09302              6938            121621   \n3          3              09327              5291             87831   \n4          4              09310              3786             62644   \n\n   base_duration_toulouse  \n0                      23  \n1                      24  \n2                      43  \n3                      16  \n4                      10  ",
      "text/html": "<div>\n<style scoped>\n    .dataframe tbody tr th:only-of-type {\n        vertical-align: middle;\n    }\n\n    .dataframe tbody tr th {\n        vertical-align: top;\n    }\n\n    .dataframe thead th {\n        text-align: right;\n    }\n</style>\n<table border=\"1\" class=\"dataframe\">\n  <thead>\n    <tr style=\"text-align: right;\">\n      <th></th>\n      <th>Unnamed: 0</th>\n      <th>ville_code_commune</th>\n      <th>duration_toulouse</th>\n      <th>distance_toulouse</th>\n      <th>base_duration_toulouse</th>\n    </tr>\n  </thead>\n  <tbody>\n    <tr>\n      <th>0</th>\n      <td>0</td>\n      <td>09045</td>\n      <td>5796</td>\n      <td>104006</td>\n      <td>23</td>\n    </tr>\n    <tr>\n      <th>1</th>\n      <td>1</td>\n      <td>09098</td>\n      <td>5818</td>\n      <td>91446</td>\n      <td>24</td>\n    </tr>\n    <tr>\n      <th>2</th>\n      <td>2</td>\n      <td>09302</td>\n      <td>6938</td>\n      <td>121621</td>\n      <td>43</td>\n    </tr>\n    <tr>\n      <th>3</th>\n      <td>3</td>\n      <td>09327</td>\n      <td>5291</td>\n      <td>87831</td>\n      <td>16</td>\n    </tr>\n    <tr>\n      <th>4</th>\n      <td>4</td>\n      <td>09310</td>\n      <td>3786</td>\n      <td>62644</td>\n      <td>10</td>\n    </tr>\n  </tbody>\n</table>\n</div>"
     },
     "metadata": {},
     "execution_count": 21
    }
   ],
   "source": [
    "durations['base_duration_toulouse'] = abs(durations['base_duration_toulouse']-4200)/60\n",
    "durations['base_duration_toulouse'] = durations['base_duration_toulouse'].astype('int')\n",
    "durations.head()"
   ]
  },
  {
   "cell_type": "code",
   "execution_count": 22,
   "metadata": {},
   "outputs": [
    {
     "output_type": "execute_result",
     "data": {
      "text/plain": "Unnamed: 0                1421\nville_code_commune        1421\nduration_toulouse         1421\ndistance_toulouse         1421\nbase_duration_toulouse    1421\ndtype: int64"
     },
     "metadata": {},
     "execution_count": 22
    }
   ],
   "source": [
    "durations_1h10 = durations.loc[durations['base_duration_toulouse'].between(0, 30)]\n",
    "durations_1h10.count()"
   ]
  },
  {
   "cell_type": "code",
   "execution_count": 23,
   "metadata": {},
   "outputs": [
    {
     "output_type": "execute_result",
     "data": {
      "text/plain": "  Unnamed: 0 ville_id ville_departement    ville_nom ville_nom_simple  \\\n0          0    11515                31        LUNAX            lunax   \n1          1    11516                31  FONTENILLES      fontenilles   \n2          2    11517                31        ARBON            arbon   \n\n  ville_nom_reel ville_code_postal ville_commune ville_code_commune  \\\n0          Lunax             31350           307              31307   \n1    Fontenilles             31470           188              31188   \n2          Arbon             31160           012              31012   \n\n  ville_arrondissement  ...          toponyme                         type  \\\n0                    2  ...     Saint-Gaudens  gare avec accueil du public   \n1                    1  ...     Brax-Léguevin            halte ferroviaire   \n2                    2  ...  Saléchan-Siradan            halte ferroviaire   \n\n    codeuic     region departement                   date_maj  \\\n0  87611137  Occitanie          31  2018-02-07T02:00:00+01:00   \n1  87611822  Occitanie          31  2018-02-07T02:00:00+01:00   \n2  87618710  Occitanie          65  2018-02-07T02:00:00+01:00   \n\n                                           geo_shape  \\\n0  {\"type\": \"Point\", \"coordinates\": [0.7295495840...   \n1  {\"type\": \"Point\", \"coordinates\": [1.2368284981...   \n2  {\"type\": \"Point\", \"coordinates\": [0.6316603800...   \n\n                   geo_point_2d       longitude       DISTANCE_GARE  \n0  43.1050472275,0.729549584049  0.729549584049   25.65553024001165  \n1    43.614782443,1.23682849814   1.23682849814   7.790452997325855  \n2   42.9630705836,0.63166038007   0.63166038007  10.465834372036376  \n\n[3 rows x 49 columns]",
      "text/html": "<div>\n<style scoped>\n    .dataframe tbody tr th:only-of-type {\n        vertical-align: middle;\n    }\n\n    .dataframe tbody tr th {\n        vertical-align: top;\n    }\n\n    .dataframe thead th {\n        text-align: right;\n    }\n</style>\n<table border=\"1\" class=\"dataframe\">\n  <thead>\n    <tr style=\"text-align: right;\">\n      <th></th>\n      <th>Unnamed: 0</th>\n      <th>ville_id</th>\n      <th>ville_departement</th>\n      <th>ville_nom</th>\n      <th>ville_nom_simple</th>\n      <th>ville_nom_reel</th>\n      <th>ville_code_postal</th>\n      <th>ville_commune</th>\n      <th>ville_code_commune</th>\n      <th>ville_arrondissement</th>\n      <th>...</th>\n      <th>toponyme</th>\n      <th>type</th>\n      <th>codeuic</th>\n      <th>region</th>\n      <th>departement</th>\n      <th>date_maj</th>\n      <th>geo_shape</th>\n      <th>geo_point_2d</th>\n      <th>longitude</th>\n      <th>DISTANCE_GARE</th>\n    </tr>\n  </thead>\n  <tbody>\n    <tr>\n      <th>0</th>\n      <td>0</td>\n      <td>11515</td>\n      <td>31</td>\n      <td>LUNAX</td>\n      <td>lunax</td>\n      <td>Lunax</td>\n      <td>31350</td>\n      <td>307</td>\n      <td>31307</td>\n      <td>2</td>\n      <td>...</td>\n      <td>Saint-Gaudens</td>\n      <td>gare avec accueil du public</td>\n      <td>87611137</td>\n      <td>Occitanie</td>\n      <td>31</td>\n      <td>2018-02-07T02:00:00+01:00</td>\n      <td>{\"type\": \"Point\", \"coordinates\": [0.7295495840...</td>\n      <td>43.1050472275,0.729549584049</td>\n      <td>0.729549584049</td>\n      <td>25.65553024001165</td>\n    </tr>\n    <tr>\n      <th>1</th>\n      <td>1</td>\n      <td>11516</td>\n      <td>31</td>\n      <td>FONTENILLES</td>\n      <td>fontenilles</td>\n      <td>Fontenilles</td>\n      <td>31470</td>\n      <td>188</td>\n      <td>31188</td>\n      <td>1</td>\n      <td>...</td>\n      <td>Brax-Léguevin</td>\n      <td>halte ferroviaire</td>\n      <td>87611822</td>\n      <td>Occitanie</td>\n      <td>31</td>\n      <td>2018-02-07T02:00:00+01:00</td>\n      <td>{\"type\": \"Point\", \"coordinates\": [1.2368284981...</td>\n      <td>43.614782443,1.23682849814</td>\n      <td>1.23682849814</td>\n      <td>7.790452997325855</td>\n    </tr>\n    <tr>\n      <th>2</th>\n      <td>2</td>\n      <td>11517</td>\n      <td>31</td>\n      <td>ARBON</td>\n      <td>arbon</td>\n      <td>Arbon</td>\n      <td>31160</td>\n      <td>012</td>\n      <td>31012</td>\n      <td>2</td>\n      <td>...</td>\n      <td>Saléchan-Siradan</td>\n      <td>halte ferroviaire</td>\n      <td>87618710</td>\n      <td>Occitanie</td>\n      <td>65</td>\n      <td>2018-02-07T02:00:00+01:00</td>\n      <td>{\"type\": \"Point\", \"coordinates\": [0.6316603800...</td>\n      <td>42.9630705836,0.63166038007</td>\n      <td>0.63166038007</td>\n      <td>10.465834372036376</td>\n    </tr>\n  </tbody>\n</table>\n<p>3 rows × 49 columns</p>\n</div>"
     },
     "metadata": {},
     "execution_count": 23
    }
   ],
   "source": [
    "dist_gares = pd.read_csv(\"data/tls-communes-gares.csv\", sep=',', error_bad_lines=False, index_col=False, dtype='str')\n",
    "dist_gares.head(3)"
   ]
  },
  {
   "cell_type": "code",
   "execution_count": 24,
   "metadata": {},
   "outputs": [
    {
     "output_type": "execute_result",
     "data": {
      "text/plain": "Unnamed: 0                  724\nville_id                    724\nville_departement           724\nville_nom                   724\nville_nom_simple            724\nville_nom_reel              724\nville_code_postal           724\nville_commune               724\nville_code_commune          724\nville_arrondissement        724\nville_canton                724\nville_amdi                  724\nville_population_2010       724\nville_population_1999       724\nville_population_2012       724\nville_densite_2010          724\nville_surface               724\nville_longitude_deg         724\nville_latitude_deg          724\nville_zmax                  724\nville_departement_cl        724\nville_nom_cl                724\nville_nom_simple_cl         724\nville_nom_reel_cl           724\nville_code_postal_cl        724\nville_commune_cl            724\nville_code_commune_cl       724\nville_arrondissement_cl     724\nville_canton_cl             724\nville_amdi_cl               724\nville_population_2010_cl    724\nville_population_1999_cl    724\nville_population_2012_cl    724\nville_densite_2010_cl       724\nville_surface_cl            724\nville_zmax_cl               724\nobjectid                    724\nid_rte500                   724\nnature                      724\ntoponyme                    724\ntype                        724\ncodeuic                     724\nregion                      724\ndepartement                 724\ndate_maj                    724\ngeo_shape                   724\ngeo_point_2d                724\nlongitude                   724\nDISTANCE_GARE               724\ndtype: int64"
     },
     "metadata": {},
     "execution_count": 24
    }
   ],
   "source": [
    "dist_gares = pd.read_csv(\"data/tls-communes-gares.csv\", sep=',', error_bad_lines=False, index_col=False, dtype='str')\n",
    "dist_gares['DISTANCE_GARE'] = dist_gares['DISTANCE_GARE'].astype('float')\n",
    "dist_gare_10km = dist_gares.loc[dist_gares['DISTANCE_GARE'].between(0,10)]\n",
    "dist_gare_10km.count()"
   ]
  },
  {
   "cell_type": "code",
   "execution_count": 25,
   "metadata": {},
   "outputs": [
    {
     "output_type": "execute_result",
     "data": {
      "text/plain": "array(['31005', '31009', '31013', '31014', '31018', '31021', '31023',\n       '31028', '31030', '31031', '31034', '31038', '31039', '31045',\n       '31047', '31050', '31059', '31065', '31066', '31071', '31076',\n       '31083', '31084', '31086', '31094', '31095', '31107', '31110',\n       '31112', '31114', '31124', '31131', '31134', '31135', '31143',\n       '31147', '31153', '31155', '31158', '31159', '31167', '31174',\n       '31175', '31183', '31193', '31196', '31197', '31198', '31208',\n       '31209', '31217', '31219', '31224', '31225', '31226', '31229',\n       '31237', '31238', '31241', '31245', '31246', '31247', '31250',\n       '31255', '31258', '31260', '31261', '31268', '31270', '31274',\n       '31278', '31280', '31286', '31289', '31292', '31294', '31296',\n       '31300', '31302', '31303', '31305', '31306', '31308', '31311',\n       '31312', '31313', '31314', '31315', '31317', '31318', '31321',\n       '31323', '31324', '31327', '31336', '31344', '31346', '31348',\n       '31349', '31357', '31362', '31367', '31372', '31375', '31376',\n       '31379', '31383', '31386', '31387', '31390', '31391', '31406',\n       '31408', '31416', '31422', '31425', '31426', '31427', '31430',\n       '31435', '31440', '31449', '31452', '31455', '31457', '31459',\n       '31461', '31472', '31474', '31476', '31477', '31483', '31487',\n       '31492', '31503', '31504', '31505', '31509', '31513', '31517',\n       '31523', '31525', '31529', '31530', '31535', '31536', '31537',\n       '31539', '31542', '31545', '31550', '31552', '31554', '31556',\n       '31564', '31565', '31577', '31585', '31586', '31591', '32002',\n       '32012', '32013', '32014', '32018', '32019', '32040', '32051',\n       '32056', '32060', '32076', '32089', '32091', '32092', '32117',\n       '32123', '32147', '32157', '32165', '32182', '32183', '32200',\n       '32201', '32207', '32221', '32229', '32237', '32247', '32279',\n       '32282', '32288', '32298', '32307', '32312', '32316', '32331',\n       '32348', '32356', '32359', '32379', '32381', '32388', '32399',\n       '32406', '32448', '32467', '65051', '65087', '65230', '65287',\n       '65307', '65407', '65444', '81004', '81007', '81008', '81009',\n       '81012', '81013', '81018', '81020', '81029', '81033', '81035',\n       '81038', '81041', '81045', '81046', '81048', '81051', '81052',\n       '81056', '81059', '81060', '81061', '81063', '81064', '81067',\n       '81068', '81069', '81070', '81072', '81074', '81079', '81080',\n       '81087', '81090', '81093', '81095', '81097', '81099', '81101',\n       '81102', '81104', '81106', '81108', '81111', '81112', '81113',\n       '81114', '81122', '81123', '81131', '81133', '81141', '81144',\n       '81145', '81146', '81148', '81149', '81150', '81152', '81154',\n       '81156', '81164', '81165', '81166', '81168', '81170', '81171',\n       '81172', '81176', '81184', '81186', '81191', '81197', '81199',\n       '81201', '81202', '81211', '81218', '81220', '81224', '81225',\n       '81228', '81230', '81232', '81234', '81236', '81243', '81244',\n       '81249', '81254', '81255', '81261', '81262', '81263', '81265',\n       '81271', '81274', '81275', '81283', '81284', '81290', '81291',\n       '81292', '81294', '81297', '81300', '81302', '81304', '81306',\n       '81309', '81313', '81316', '81319', '81320', '81322', '81326'],\n      dtype=object)"
     },
     "metadata": {},
     "execution_count": 25
    }
   ],
   "source": [
    "gare_and_durations = np.intersect1d(dist_gare_10km['ville_code_commune'],durations_1h10['ville_code_commune'])\n",
    "gare_and_durations"
   ]
  },
  {
   "cell_type": "code",
   "execution_count": 26,
   "metadata": {},
   "outputs": [],
   "source": [
    "elections = pd.read_csv('data/resulats-presidentielles-communes.csv')"
   ]
  },
  {
   "cell_type": "code",
   "execution_count": 33,
   "metadata": {},
   "outputs": [
    {
     "output_type": "error",
     "ename": "TabError",
     "evalue": "inconsistent use of tabs and spaces in indentation (<ipython-input-33-1c0689ef4881>, line 22)",
     "traceback": [
      "\u001b[0;36m  File \u001b[0;32m\"<ipython-input-33-1c0689ef4881>\"\u001b[0;36m, line \u001b[0;32m22\u001b[0m\n\u001b[0;31m    feature['properties'][\"stroke-width\"]=2\u001b[0m\n\u001b[0m                                           ^\u001b[0m\n\u001b[0;31mTabError\u001b[0m\u001b[0;31m:\u001b[0m inconsistent use of tabs and spaces in indentation\n"
     ]
    }
   ],
   "source": [
    "multi_polygone = {\n",
    "    \"type\": \"Polygon\",\n",
    "    \"coordinates\": []\n",
    "} \n",
    "with open('data/communes-occitanie.geojson','r') as fp:\n",
    "    communes_cc = json.load(fp)\n",
    "    \n",
    "print(communes_cc['features'][0])\n",
    "\n",
    "#communes_cc['features'] = [f for f['properties']['code'] in durations_1h10['ville_code_commune'].values] \n",
    "colorrscale = {\n",
    "    'RN' : '#0B2545',\n",
    "    'LR' : '#134074',\n",
    "    'LRM': '#6F9CEB',\n",
    "    'FI': '#E84855'\n",
    "}\n",
    "\n",
    "def style_function(feature):\n",
    "    INSEE = feature['properties']['code']\n",
    "    election = elections.loc[elections['INSEE'] == int(INSEE)]['partis'].values\n",
    "    feature['properties']['stroke']='#555555'\n",
    "\tfeature['properties']['stroke-width']=2\n",
    "\tfeature['properties']['stroke-opacity']=1\n",
    "\tfeature['properties']['fill']='#white' if len(election) < 1 else colorrscale[election[0]]\n",
    "\tfeature['properties']['fill-opacity']=0.5\n",
    "    return feature\n",
    "\n",
    "new_feats=[]\n",
    "print(durations_1h10['ville_code_commune'].values)\n",
    "for f in communes_cc['features']:\n",
    "    if f['properties']['code'] in gare_and_durations:\n",
    "        f = style_function(f)\n",
    "        new_feats.append(f)\n",
    "        multi_polygone['coordinates'].append(f['geometry']['coordinates'])\n",
    "        \n",
    "communes_cc['features'] = new_feats\n",
    "print(len(communes_cc['features']))"
   ]
  },
  {
   "cell_type": "code",
   "execution_count": 28,
   "metadata": {},
   "outputs": [
    {
     "output_type": "error",
     "ename": "NameError",
     "evalue": "name 'communes_cc' is not defined",
     "traceback": [
      "\u001b[0;31m---------------------------------------------------------------------------\u001b[0m",
      "\u001b[0;31mNameError\u001b[0m                                 Traceback (most recent call last)",
      "\u001b[0;32m<ipython-input-28-663d6798131b>\u001b[0m in \u001b[0;36m<module>\u001b[0;34m\u001b[0m\n\u001b[1;32m      1\u001b[0m \u001b[0;32mwith\u001b[0m \u001b[0mopen\u001b[0m\u001b[0;34m(\u001b[0m\u001b[0;34m'data/geo_1h10_avoid_toll_stations.json'\u001b[0m\u001b[0;34m,\u001b[0m \u001b[0;34m'w'\u001b[0m\u001b[0;34m)\u001b[0m \u001b[0;32mas\u001b[0m \u001b[0mf\u001b[0m\u001b[0;34m:\u001b[0m\u001b[0;34m\u001b[0m\u001b[0;34m\u001b[0m\u001b[0m\n\u001b[0;32m----> 2\u001b[0;31m     \u001b[0mjson\u001b[0m\u001b[0;34m.\u001b[0m\u001b[0mdump\u001b[0m\u001b[0;34m(\u001b[0m\u001b[0mcommunes_cc\u001b[0m\u001b[0;34m,\u001b[0m \u001b[0mf\u001b[0m\u001b[0;34m)\u001b[0m\u001b[0;34m\u001b[0m\u001b[0;34m\u001b[0m\u001b[0m\n\u001b[0m\u001b[1;32m      3\u001b[0m \u001b[0;34m\u001b[0m\u001b[0m\n\u001b[1;32m      4\u001b[0m \u001b[0;31m#    'data/geo_1h10.json'\u001b[0m\u001b[0;34m\u001b[0m\u001b[0;34m\u001b[0m\u001b[0;34m\u001b[0m\u001b[0m\n",
      "\u001b[0;31mNameError\u001b[0m: name 'communes_cc' is not defined"
     ]
    }
   ],
   "source": [
    "with open('data/geo_1h10_avoid_toll_stations.json', 'w') as f:\n",
    "    json.dump(communes_cc, f)\n",
    "\n",
    "#    'data/geo_1h10.json'\n"
   ]
  },
  {
   "cell_type": "code",
   "execution_count": 29,
   "metadata": {},
   "outputs": [
    {
     "output_type": "error",
     "ename": "NameError",
     "evalue": "name 'communes_cc' is not defined",
     "traceback": [
      "\u001b[0;31m---------------------------------------------------------------------------\u001b[0m",
      "\u001b[0;31mNameError\u001b[0m                                 Traceback (most recent call last)",
      "\u001b[0;32m<ipython-input-29-0ab4b88b6144>\u001b[0m in \u001b[0;36m<module>\u001b[0;34m\u001b[0m\n\u001b[1;32m      1\u001b[0m folium.GeoJson(\n\u001b[0;32m----> 2\u001b[0;31m     \u001b[0mcommunes_cc\u001b[0m\u001b[0;34m,\u001b[0m\u001b[0;34m\u001b[0m\u001b[0;34m\u001b[0m\u001b[0m\n\u001b[0m\u001b[1;32m      3\u001b[0m     \u001b[0mstyle_function\u001b[0m\u001b[0;34m=\u001b[0m\u001b[0mstyle_function\u001b[0m\u001b[0;34m\u001b[0m\u001b[0;34m\u001b[0m\u001b[0m\n\u001b[1;32m      4\u001b[0m ).add_to(map_durations)\n",
      "\u001b[0;31mNameError\u001b[0m: name 'communes_cc' is not defined"
     ]
    }
   ],
   "source": [
    "folium.GeoJson(\n",
    "    communes_cc,\n",
    "    style_function=style_function\n",
    ").add_to(map_durations)\n"
   ]
  },
  {
   "cell_type": "code",
   "execution_count": 30,
   "metadata": {
    "scrolled": false
   },
   "outputs": [
    {
     "output_type": "execute_result",
     "data": {
      "text/plain": "<folium.folium.Map at 0x7f2262a92ed0>",
      "text/html": "<div style=\"width:100%;\"><div style=\"position:relative;width:100%;height:0;padding-bottom:60%;\"><iframe src=\"about:blank\" style=\"position:absolute;width:100%;height:100%;left:0;top:0;border:none !important;\" data-html=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 onload=\"this.contentDocument.open();this.contentDocument.write(atob(this.getAttribute('data-html')));this.contentDocument.close();\" allowfullscreen webkitallowfullscreen mozallowfullscreen></iframe></div></div>"
     },
     "metadata": {},
     "execution_count": 30
    }
   ],
   "source": [
    "map_durations"
   ]
  },
  {
   "cell_type": "code",
   "execution_count": null,
   "metadata": {},
   "outputs": [],
   "source": []
  },
  {
   "cell_type": "code",
   "execution_count": null,
   "metadata": {},
   "outputs": [],
   "source": []
  },
  {
   "cell_type": "code",
   "execution_count": null,
   "metadata": {},
   "outputs": [],
   "source": []
  }
 ],
 "metadata": {
  "kernelspec": {
   "display_name": "Python 3.7.5 64-bit",
   "language": "python",
   "name": "python37564bitdf7e01cea00f4b91bf0d4f98b0317dd3"
  },
  "language_info": {
   "codemirror_mode": {
    "name": "ipython",
    "version": 3
   },
   "file_extension": ".py",
   "mimetype": "text/x-python",
   "name": "python",
   "nbconvert_exporter": "python",
   "pygments_lexer": "ipython3",
   "version": "3.7.5-final"
  }
 },
 "nbformat": 4,
 "nbformat_minor": 1
}