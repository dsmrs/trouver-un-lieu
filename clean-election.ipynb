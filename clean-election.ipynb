{
 "cells": [
  {
   "cell_type": "code",
   "execution_count": 2,
   "metadata": {},
   "outputs": [],
   "source": [
    "import pandas as pd"
   ]
  },
  {
   "cell_type": "code",
   "execution_count": 6,
   "metadata": {},
   "outputs": [
    {
     "output_type": "execute_result",
     "data": {
      "text/plain": "  Code du département Libellé du département  Code de la commune  \\\n0                   1                    Ain                   1   \n1                   1                    Ain                   2   \n2                   1                    Ain                   4   \n3                   1                    Ain                   5   \n4                   1                    Ain                   6   \n\n     Libellé de la commune  Inscrits  Abstentions  % Abs/Ins  Votants  \\\n0  L'Abergement-Clémenciat       598           92      15.38      506   \n1    L'Abergement-de-Varey       209           25      11.96      184   \n2        Ambérieu-en-Bugey      8586         1962      22.85     6624   \n3      Ambérieux-en-Dombes      1172          215      18.34      957   \n4                  Ambléon        99           20      20.20       79   \n\n   % Vot/Ins  Blancs  ...  Voix.9  % Voix/Ins.9  % Voix/Exp.9  N°Panneau.10  \\\n0      84.62       2  ...       2          0.33          0.40             8   \n1      88.04       6  ...       0          0.00          0.00             8   \n2      77.15     114  ...      40          0.47          0.62             7   \n3      81.66      21  ...       5          0.43          0.54             7   \n4      79.80       2  ...       0          0.00          0.00            10   \n\n   Sexe.10      Nom.10  Prénom.10  Voix.10  % Voix/Ins.10 % Voix/Exp.10  \n0        M    LASSALLE       Jean        2           0.33          0.40  \n1        M    LASSALLE       Jean        0           0.00          0.00  \n2        M   CHEMINADE    Jacques        5           0.06          0.08  \n3        M   CHEMINADE    Jacques        0           0.00          0.00  \n4        M  ASSELINEAU   François        0           0.00          0.00  \n\n[5 rows x 95 columns]",
      "text/html": "<div>\n<style scoped>\n    .dataframe tbody tr th:only-of-type {\n        vertical-align: middle;\n    }\n\n    .dataframe tbody tr th {\n        vertical-align: top;\n    }\n\n    .dataframe thead th {\n        text-align: right;\n    }\n</style>\n<table border=\"1\" class=\"dataframe\">\n  <thead>\n    <tr style=\"text-align: right;\">\n      <th></th>\n      <th>Code du département</th>\n      <th>Libellé du département</th>\n      <th>Code de la commune</th>\n      <th>Libellé de la commune</th>\n      <th>Inscrits</th>\n      <th>Abstentions</th>\n      <th>% Abs/Ins</th>\n      <th>Votants</th>\n      <th>% Vot/Ins</th>\n      <th>Blancs</th>\n      <th>...</th>\n      <th>Voix.9</th>\n      <th>% Voix/Ins.9</th>\n      <th>% Voix/Exp.9</th>\n      <th>N°Panneau.10</th>\n      <th>Sexe.10</th>\n      <th>Nom.10</th>\n      <th>Prénom.10</th>\n      <th>Voix.10</th>\n      <th>% Voix/Ins.10</th>\n      <th>% Voix/Exp.10</th>\n    </tr>\n  </thead>\n  <tbody>\n    <tr>\n      <th>0</th>\n      <td>1</td>\n      <td>Ain</td>\n      <td>1</td>\n      <td>L'Abergement-Clémenciat</td>\n      <td>598</td>\n      <td>92</td>\n      <td>15.38</td>\n      <td>506</td>\n      <td>84.62</td>\n      <td>2</td>\n      <td>...</td>\n      <td>2</td>\n      <td>0.33</td>\n      <td>0.40</td>\n      <td>8</td>\n      <td>M</td>\n      <td>LASSALLE</td>\n      <td>Jean</td>\n      <td>2</td>\n      <td>0.33</td>\n      <td>0.40</td>\n    </tr>\n    <tr>\n      <th>1</th>\n      <td>1</td>\n      <td>Ain</td>\n      <td>2</td>\n      <td>L'Abergement-de-Varey</td>\n      <td>209</td>\n      <td>25</td>\n      <td>11.96</td>\n      <td>184</td>\n      <td>88.04</td>\n      <td>6</td>\n      <td>...</td>\n      <td>0</td>\n      <td>0.00</td>\n      <td>0.00</td>\n      <td>8</td>\n      <td>M</td>\n      <td>LASSALLE</td>\n      <td>Jean</td>\n      <td>0</td>\n      <td>0.00</td>\n      <td>0.00</td>\n    </tr>\n    <tr>\n      <th>2</th>\n      <td>1</td>\n      <td>Ain</td>\n      <td>4</td>\n      <td>Ambérieu-en-Bugey</td>\n      <td>8586</td>\n      <td>1962</td>\n      <td>22.85</td>\n      <td>6624</td>\n      <td>77.15</td>\n      <td>114</td>\n      <td>...</td>\n      <td>40</td>\n      <td>0.47</td>\n      <td>0.62</td>\n      <td>7</td>\n      <td>M</td>\n      <td>CHEMINADE</td>\n      <td>Jacques</td>\n      <td>5</td>\n      <td>0.06</td>\n      <td>0.08</td>\n    </tr>\n    <tr>\n      <th>3</th>\n      <td>1</td>\n      <td>Ain</td>\n      <td>5</td>\n      <td>Ambérieux-en-Dombes</td>\n      <td>1172</td>\n      <td>215</td>\n      <td>18.34</td>\n      <td>957</td>\n      <td>81.66</td>\n      <td>21</td>\n      <td>...</td>\n      <td>5</td>\n      <td>0.43</td>\n      <td>0.54</td>\n      <td>7</td>\n      <td>M</td>\n      <td>CHEMINADE</td>\n      <td>Jacques</td>\n      <td>0</td>\n      <td>0.00</td>\n      <td>0.00</td>\n    </tr>\n    <tr>\n      <th>4</th>\n      <td>1</td>\n      <td>Ain</td>\n      <td>6</td>\n      <td>Ambléon</td>\n      <td>99</td>\n      <td>20</td>\n      <td>20.20</td>\n      <td>79</td>\n      <td>79.80</td>\n      <td>2</td>\n      <td>...</td>\n      <td>0</td>\n      <td>0.00</td>\n      <td>0.00</td>\n      <td>10</td>\n      <td>M</td>\n      <td>ASSELINEAU</td>\n      <td>François</td>\n      <td>0</td>\n      <td>0.00</td>\n      <td>0.00</td>\n    </tr>\n  </tbody>\n</table>\n<p>5 rows × 95 columns</p>\n</div>"
     },
     "metadata": {},
     "execution_count": 6
    }
   ],
   "source": [
    "election_moins_1000 = pd.read_csv(\"data/presidentielle_2017_T1.csv\")\n",
    "election_moins_1000.head(5)"
   ]
  },
  {
   "cell_type": "code",
   "execution_count": 7,
   "metadata": {},
   "outputs": [],
   "source": [
    "departements = [\n",
    "    31,  # Haute-Garonne\n",
    "    32,  # Gers\n",
    "    65,  # Hautes-Pyrénées\n",
    "    81,  # Tarn\n",
    "]\n",
    "\n",
    "election_moins_1000 = election_moins_1000.loc[election_moins_1000['Code du département'].isin(departements)]"
   ]
  },
  {
   "cell_type": "code",
   "execution_count": 8,
   "metadata": {},
   "outputs": [
    {
     "output_type": "execute_result",
     "data": {
      "text/plain": "      Code du département Libellé du département  Code de la commune  \\\n11412                  31          Haute-Garonne                   1   \n11413                  31          Haute-Garonne                   2   \n11414                  31          Haute-Garonne                   3   \n11415                  31          Haute-Garonne                   4   \n\n      Libellé de la commune  Inscrits  Abstentions  % Abs/Ins  Votants  \\\n11412               Agassac        90           14      15.56       76   \n11413                Aignes       206           26      12.62      180   \n11414          Aigrefeuille       989           99      10.01      890   \n11415           Ayguesvives      2058          227      11.03     1831   \n\n       % Vot/Ins  Blancs  ...  % Voix/Ins.9  % Voix/Exp.9  N°Panneau.10  \\\n11412      84.44       2  ...          0.00          0.00            10   \n11413      87.38       2  ...          0.00          0.00            10   \n11414      89.99      16  ...          0.40          0.46             5   \n11415      88.97      23  ...          0.29          0.33             7   \n\n       Sexe.10      Nom.10  Prénom.10  Voix.10  % Voix/Ins.10  % Voix/Exp.10  \\\n11412        M  ASSELINEAU   François        0            0.0           0.00   \n11413        M  ASSELINEAU   François        0            0.0           0.00   \n11414        F     ARTHAUD   Nathalie        2            0.2           0.23   \n11415        M   CHEMINADE    Jacques        2            0.1           0.11   \n\n       INSEE  \n11412  31001  \n11413  31002  \n11414  31003  \n11415  31004  \n\n[4 rows x 96 columns]",
      "text/html": "<div>\n<style scoped>\n    .dataframe tbody tr th:only-of-type {\n        vertical-align: middle;\n    }\n\n    .dataframe tbody tr th {\n        vertical-align: top;\n    }\n\n    .dataframe thead th {\n        text-align: right;\n    }\n</style>\n<table border=\"1\" class=\"dataframe\">\n  <thead>\n    <tr style=\"text-align: right;\">\n      <th></th>\n      <th>Code du département</th>\n      <th>Libellé du département</th>\n      <th>Code de la commune</th>\n      <th>Libellé de la commune</th>\n      <th>Inscrits</th>\n      <th>Abstentions</th>\n      <th>% Abs/Ins</th>\n      <th>Votants</th>\n      <th>% Vot/Ins</th>\n      <th>Blancs</th>\n      <th>...</th>\n      <th>% Voix/Ins.9</th>\n      <th>% Voix/Exp.9</th>\n      <th>N°Panneau.10</th>\n      <th>Sexe.10</th>\n      <th>Nom.10</th>\n      <th>Prénom.10</th>\n      <th>Voix.10</th>\n      <th>% Voix/Ins.10</th>\n      <th>% Voix/Exp.10</th>\n      <th>INSEE</th>\n    </tr>\n  </thead>\n  <tbody>\n    <tr>\n      <th>11412</th>\n      <td>31</td>\n      <td>Haute-Garonne</td>\n      <td>1</td>\n      <td>Agassac</td>\n      <td>90</td>\n      <td>14</td>\n      <td>15.56</td>\n      <td>76</td>\n      <td>84.44</td>\n      <td>2</td>\n      <td>...</td>\n      <td>0.00</td>\n      <td>0.00</td>\n      <td>10</td>\n      <td>M</td>\n      <td>ASSELINEAU</td>\n      <td>François</td>\n      <td>0</td>\n      <td>0.0</td>\n      <td>0.00</td>\n      <td>31001</td>\n    </tr>\n    <tr>\n      <th>11413</th>\n      <td>31</td>\n      <td>Haute-Garonne</td>\n      <td>2</td>\n      <td>Aignes</td>\n      <td>206</td>\n      <td>26</td>\n      <td>12.62</td>\n      <td>180</td>\n      <td>87.38</td>\n      <td>2</td>\n      <td>...</td>\n      <td>0.00</td>\n      <td>0.00</td>\n      <td>10</td>\n      <td>M</td>\n      <td>ASSELINEAU</td>\n      <td>François</td>\n      <td>0</td>\n      <td>0.0</td>\n      <td>0.00</td>\n      <td>31002</td>\n    </tr>\n    <tr>\n      <th>11414</th>\n      <td>31</td>\n      <td>Haute-Garonne</td>\n      <td>3</td>\n      <td>Aigrefeuille</td>\n      <td>989</td>\n      <td>99</td>\n      <td>10.01</td>\n      <td>890</td>\n      <td>89.99</td>\n      <td>16</td>\n      <td>...</td>\n      <td>0.40</td>\n      <td>0.46</td>\n      <td>5</td>\n      <td>F</td>\n      <td>ARTHAUD</td>\n      <td>Nathalie</td>\n      <td>2</td>\n      <td>0.2</td>\n      <td>0.23</td>\n      <td>31003</td>\n    </tr>\n    <tr>\n      <th>11415</th>\n      <td>31</td>\n      <td>Haute-Garonne</td>\n      <td>4</td>\n      <td>Ayguesvives</td>\n      <td>2058</td>\n      <td>227</td>\n      <td>11.03</td>\n      <td>1831</td>\n      <td>88.97</td>\n      <td>23</td>\n      <td>...</td>\n      <td>0.29</td>\n      <td>0.33</td>\n      <td>7</td>\n      <td>M</td>\n      <td>CHEMINADE</td>\n      <td>Jacques</td>\n      <td>2</td>\n      <td>0.1</td>\n      <td>0.11</td>\n      <td>31004</td>\n    </tr>\n  </tbody>\n</table>\n<p>4 rows × 96 columns</p>\n</div>"
     },
     "metadata": {},
     "execution_count": 8
    }
   ],
   "source": [
    "election_moins_1000['INSEE'] = election_moins_1000['Code du département'].astype('int') * 1000 + election_moins_1000['Code de la commune'].astype('int')\n",
    "election_moins_1000.head(4)"
   ]
  },
  {
   "cell_type": "code",
   "execution_count": 9,
   "metadata": {},
   "outputs": [],
   "source": [
    "communes = [31005, 31009, 31013, 31014, 31018, 31021, 31023,\n",
    "       31028, 31030, 31031, 31034, 31038, 31039, 31045,\n",
    "       31047, 31050, 31059, 31065, 31066, 31071, 31076,\n",
    "       31083, 31084, 31086, 31094, 31095, 31107, 31110,\n",
    "       31112, 31114, 31124, 31131, 31134, 31135, 31143,\n",
    "       31147, 31153, 31155, 31158, 31159, 31167, 31174,\n",
    "       31175, 31183, 31193, 31196, 31197, 31198, 31208,\n",
    "       31209, 31217, 31219, 31224, 31225, 31226, 31229,\n",
    "       31237, 31238, 31241, 31245, 31246, 31247, 31250,\n",
    "       31255, 31258, 31260, 31261, 31268, 31270, 31274,\n",
    "       31278, 31280, 31286, 31289, 31292, 31294, 31296,\n",
    "       31300, 31302, 31303, 31305, 31306, 31308, 31311,\n",
    "       31312, 31313, 31314, 31315, 31317, 31318, 31321,\n",
    "       31323, 31324, 31327, 31336, 31344, 31346, 31348,\n",
    "       31349, 31357, 31362, 31367, 31372, 31375, 31376,\n",
    "       31379, 31383, 31386, 31387, 31390, 31391, 31406,\n",
    "       31408, 31416, 31422, 31425, 31426, 31427, 31430,\n",
    "       31435, 31440, 31449, 31452, 31455, 31457, 31459,\n",
    "       31461, 31472, 31474, 31476, 31477, 31483, 31487,\n",
    "       31492, 31503, 31504, 31505, 31509, 31513, 31517,\n",
    "       31523, 31525, 31529, 31530, 31535, 31536, 31537,\n",
    "       31539, 31542, 31545, 31550, 31552, 31554, 31556,\n",
    "       31564, 31565, 31577, 31585, 31586, 31591, 32002,\n",
    "       32012, 32013, 32014, 32018, 32019, 32040, 32051,\n",
    "       32056, 32060, 32076, 32089, 32091, 32092, 32117,\n",
    "       32123, 32147, 32157, 32165, 32182, 32183, 32200,\n",
    "       32201, 32207, 32221, 32229, 32237, 32247, 32279,\n",
    "       32282, 32288, 32298, 32307, 32312, 32316, 32331,\n",
    "       32348, 32356, 32359, 32379, 32381, 32388, 32399,\n",
    "       32406, 32448, 32467, 65051, 65087, 65230, 65287,\n",
    "       65307, 65407, 65444, 81004, 81007, 81008, 81009,\n",
    "       81012, 81013, 81018, 81020, 81029, 81033, 81035,\n",
    "       81038, 81041, 81045, 81046, 81048, 81051, 81052,\n",
    "       81056, 81059, 81060, 81061, 81063, 81064, 81067,\n",
    "       81068, 81069, 81070, 81072, 81074, 81079, 81080,\n",
    "       81087, 81090, 81093, 81095, 81097, 81099, 81101,\n",
    "       81102, 81104, 81106, 81108, 81111, 81112, 81113,\n",
    "       81114, 81122, 81123, 81131, 81133, 81141, 81144,\n",
    "       81145, 81146, 81148, 81149, 81150, 81152, 81154,\n",
    "       81156, 81164, 81165, 81166, 81168, 81170, 81171,\n",
    "       81172, 81176, 81184, 81186, 81191, 81197, 81199,\n",
    "       81201, 81202, 81211, 81218, 81220, 81224, 81225,\n",
    "       81228, 81230, 81232, 81234, 81236, 81243, 81244,\n",
    "       81249, 81254, 81255, 81261, 81262, 81263, 81265,\n",
    "       81271, 81274, 81275, 81283, 81284, 81290, 81291,\n",
    "       81292, 81294, 81297, 81300, 81302, 81304, 81306,\n",
    "       81309, 81313, 81316, 81319, 81320, 81322, 81326]\n"
   ]
  },
  {
   "cell_type": "code",
   "execution_count": 10,
   "metadata": {},
   "outputs": [
    {
     "output_type": "execute_result",
     "data": {
      "text/plain": "      Code du département Libellé du département  Code de la commune  \\\nINSEE                                                                  \n31005                  31          Haute-Garonne                   5   \n31009                  31          Haute-Garonne                   9   \n31013                  31          Haute-Garonne                  13   \n\n        Libellé de la commune  Inscrits  Abstentions  % Abs/Ins  Votants  \\\nINSEE                                                                      \n31005                    Alan       251           50      19.92      201   \n31009  Antichan-de-Frontignes        81           11      13.58       70   \n31013                 Ardiège       289           38      13.15      251   \n\n       % Vot/Ins  Blancs  ...  Voix.9  % Voix/Ins.9  % Voix/Exp.9  \\\nINSEE                     ...                                       \n31005      80.08       4  ...       0          0.00          0.00   \n31009      86.42       1  ...       0          0.00          0.00   \n31013      86.85       9  ...       1          0.35          0.41   \n\n       N°Panneau.10  Sexe.10      Nom.10  Prénom.10  Voix.10  % Voix/Ins.10  \\\nINSEE                                                                         \n31005             7        M   CHEMINADE    Jacques        0            0.0   \n31009            10        M  ASSELINEAU   François        0            0.0   \n31013             7        M   CHEMINADE    Jacques        0            0.0   \n\n      % Voix/Exp.10  \nINSEE                \n31005           0.0  \n31009           0.0  \n31013           0.0  \n\n[3 rows x 95 columns]",
      "text/html": "<div>\n<style scoped>\n    .dataframe tbody tr th:only-of-type {\n        vertical-align: middle;\n    }\n\n    .dataframe tbody tr th {\n        vertical-align: top;\n    }\n\n    .dataframe thead th {\n        text-align: right;\n    }\n</style>\n<table border=\"1\" class=\"dataframe\">\n  <thead>\n    <tr style=\"text-align: right;\">\n      <th></th>\n      <th>Code du département</th>\n      <th>Libellé du département</th>\n      <th>Code de la commune</th>\n      <th>Libellé de la commune</th>\n      <th>Inscrits</th>\n      <th>Abstentions</th>\n      <th>% Abs/Ins</th>\n      <th>Votants</th>\n      <th>% Vot/Ins</th>\n      <th>Blancs</th>\n      <th>...</th>\n      <th>Voix.9</th>\n      <th>% Voix/Ins.9</th>\n      <th>% Voix/Exp.9</th>\n      <th>N°Panneau.10</th>\n      <th>Sexe.10</th>\n      <th>Nom.10</th>\n      <th>Prénom.10</th>\n      <th>Voix.10</th>\n      <th>% Voix/Ins.10</th>\n      <th>% Voix/Exp.10</th>\n    </tr>\n    <tr>\n      <th>INSEE</th>\n      <th></th>\n      <th></th>\n      <th></th>\n      <th></th>\n      <th></th>\n      <th></th>\n      <th></th>\n      <th></th>\n      <th></th>\n      <th></th>\n      <th></th>\n      <th></th>\n      <th></th>\n      <th></th>\n      <th></th>\n      <th></th>\n      <th></th>\n      <th></th>\n      <th></th>\n      <th></th>\n      <th></th>\n    </tr>\n  </thead>\n  <tbody>\n    <tr>\n      <th>31005</th>\n      <td>31</td>\n      <td>Haute-Garonne</td>\n      <td>5</td>\n      <td>Alan</td>\n      <td>251</td>\n      <td>50</td>\n      <td>19.92</td>\n      <td>201</td>\n      <td>80.08</td>\n      <td>4</td>\n      <td>...</td>\n      <td>0</td>\n      <td>0.00</td>\n      <td>0.00</td>\n      <td>7</td>\n      <td>M</td>\n      <td>CHEMINADE</td>\n      <td>Jacques</td>\n      <td>0</td>\n      <td>0.0</td>\n      <td>0.0</td>\n    </tr>\n    <tr>\n      <th>31009</th>\n      <td>31</td>\n      <td>Haute-Garonne</td>\n      <td>9</td>\n      <td>Antichan-de-Frontignes</td>\n      <td>81</td>\n      <td>11</td>\n      <td>13.58</td>\n      <td>70</td>\n      <td>86.42</td>\n      <td>1</td>\n      <td>...</td>\n      <td>0</td>\n      <td>0.00</td>\n      <td>0.00</td>\n      <td>10</td>\n      <td>M</td>\n      <td>ASSELINEAU</td>\n      <td>François</td>\n      <td>0</td>\n      <td>0.0</td>\n      <td>0.0</td>\n    </tr>\n    <tr>\n      <th>31013</th>\n      <td>31</td>\n      <td>Haute-Garonne</td>\n      <td>13</td>\n      <td>Ardiège</td>\n      <td>289</td>\n      <td>38</td>\n      <td>13.15</td>\n      <td>251</td>\n      <td>86.85</td>\n      <td>9</td>\n      <td>...</td>\n      <td>1</td>\n      <td>0.35</td>\n      <td>0.41</td>\n      <td>7</td>\n      <td>M</td>\n      <td>CHEMINADE</td>\n      <td>Jacques</td>\n      <td>0</td>\n      <td>0.0</td>\n      <td>0.0</td>\n    </tr>\n  </tbody>\n</table>\n<p>3 rows × 95 columns</p>\n</div>"
     },
     "metadata": {},
     "execution_count": 10
    }
   ],
   "source": [
    "election_moins_1000_selec = election_moins_1000.loc[election_moins_1000['INSEE'].isin(communes)]\n",
    "election_moins_1000_selec = election_moins_1000_selec.set_index('INSEE')\n",
    "election_moins_1000_selec.head(3)"
   ]
  },
  {
   "cell_type": "code",
   "execution_count": 13,
   "metadata": {
    "tags": [
     "outputPrepend",
     "outputPrepend"
    ]
   },
   "outputs": [
    {
     "output_type": "execute_result",
     "data": {
      "text/plain": "INSEE\n31005    18.73\n31009    25.93\n31013    24.91\n31014    27.38\n31018    21.70\n         ...  \n81316    17.42\n81319    20.60\n81320    22.30\n81322    20.86\n81326    26.26\nName: % Voix/Ins, Length: 328, dtype: float64"
     },
     "metadata": {},
     "execution_count": 13
    }
   ],
   "source": [
    "import re\n",
    "pat = r'Nom(|\\.\\d+)|\\% Voix\\/Ins(|\\.\\d+)'\n",
    "columns = [itm[0] for itm in election_moins_1000_selec.columns.str.findall(pat) if len(itm)>0]\n",
    "# Showing group information\n",
    "election_moins_1000_selec['% Voix/Ins']"
   ]
  },
  {
   "cell_type": "code",
   "execution_count": 17,
   "metadata": {
    "tags": [
     "outputPrepend",
     "outputPrepend",
     "outputPrepend",
     "outputPrepend",
     "outputPrepend",
     "outputPrepend",
     "outputPrepend",
     "outputPrepend",
     "outputPrepend",
     "outputPrepend",
     "outputPrepend",
     "outputPrepend",
     "outputPrepend",
     "outputPrepend",
     "outputPrepend",
     "outputPrepend",
     "outputPrepend",
     "outputPrepend",
     "outputPrepend",
     "outputPrepend",
     "outputPrepend",
     "outputPrepend",
     "outputPrepend",
     "outputPrepend",
     "outputPrepend",
     "outputPrepend",
     "outputPrepend",
     "outputPrepend",
     "outputPrepend",
     "outputPrepend",
     "outputPrepend",
     "outputPrepend",
     "outputPrepend",
     "outputPrepend",
     "outputPrepend",
     "outputPrepend",
     "outputPrepend",
     "outputPrepend",
     "outputPrepend",
     "outputPrepend",
     "outputPrepend",
     "outputPrepend",
     "outputPrepend",
     "outputPrepend",
     "outputPrepend",
     "outputPrepend",
     "outputPrepend",
     "outputPrepend",
     "outputPrepend",
     "outputPrepend",
     "outputPrepend",
     "outputPrepend",
     "outputPrepend",
     "outputPrepend",
     "outputPrepend",
     "outputPrepend",
     "outputPrepend",
     "outputPrepend",
     "outputPrepend",
     "outputPrepend",
     "outputPrepend",
     "outputPrepend",
     "outputPrepend",
     "outputPrepend",
     "outputPrepend",
     "outputPrepend",
     "outputPrepend",
     "outputPrepend",
     "outputPrepend",
     "outputPrepend",
     "outputPrepend",
     "outputPrepend",
     "outputPrepend",
     "outputPrepend",
     "outputPrepend",
     "outputPrepend",
     "outputPrepend",
     "outputPrepend",
     "outputPrepend",
     "outputPrepend",
     "outputPrepend",
     "outputPrepend",
     "outputPrepend",
     "outputPrepend",
     "outputPrepend",
     "outputPrepend",
     "outputPrepend",
     "outputPrepend",
     "outputPrepend",
     "outputPrepend",
     "outputPrepend",
     "outputPrepend",
     "outputPrepend",
     "outputPrepend",
     "outputPrepend",
     "outputPrepend",
     "outputPrepend",
     "outputPrepend",
     "outputPrepend",
     "outputPrepend",
     "outputPrepend",
     "outputPrepend",
     "outputPrepend",
     "outputPrepend",
     "outputPrepend",
     "outputPrepend",
     "outputPrepend",
     "outputPrepend",
     "outputPrepend",
     "outputPrepend",
     "outputPrepend",
     "outputPrepend",
     "outputPrepend",
     "outputPrepend",
     "outputPrepend",
     "outputPrepend",
     "outputPrepend",
     "outputPrepend",
     "outputPrepend",
     "outputPrepend",
     "outputPrepend",
     "outputPrepend",
     "outputPrepend",
     "outputPrepend",
     "outputPrepend",
     "outputPrepend",
     "outputPrepend",
     "outputPrepend",
     "outputPrepend",
     "outputPrepend",
     "outputPrepend",
     "outputPrepend",
     "outputPrepend",
     "outputPrepend",
     "outputPrepend",
     "outputPrepend",
     "outputPrepend",
     "outputPrepend",
     "outputPrepend",
     "outputPrepend",
     "outputPrepend",
     "outputPrepend",
     "outputPrepend",
     "outputPrepend",
     "outputPrepend",
     "outputPrepend",
     "outputPrepend",
     "outputPrepend",
     "outputPrepend",
     "outputPrepend",
     "outputPrepend",
     "outputPrepend",
     "outputPrepend",
     "outputPrepend",
     "outputPrepend",
     "outputPrepend",
     "outputPrepend",
     "outputPrepend",
     "outputPrepend",
     "outputPrepend",
     "outputPrepend",
     "outputPrepend",
     "outputPrepend",
     "outputPrepend",
     "outputPrepend",
     "outputPrepend",
     "outputPrepend",
     "outputPrepend",
     "outputPrepend",
     "outputPrepend",
     "outputPrepend",
     "outputPrepend",
     "outputPrepend",
     "outputPrepend",
     "outputPrepend",
     "outputPrepend",
     "outputPrepend",
     "outputPrepend",
     "outputPrepend",
     "outputPrepend",
     "outputPrepend",
     "outputPrepend",
     "outputPrepend",
     "outputPrepend",
     "outputPrepend",
     "outputPrepend",
     "outputPrepend",
     "outputPrepend",
     "outputPrepend",
     "outputPrepend",
     "outputPrepend",
     "outputPrepend",
     "outputPrepend",
     "outputPrepend"
    ]
   },
   "outputs": [
    {
     "output_type": "execute_result",
     "data": {
      "text/plain": "    INSEE            Nom   Voix\n0   31005         LE PEN  18.73\n1   31005         MACRON  15.14\n2   31005          HAMON  10.36\n3   31005         FILLON   9.56\n4   31005  DUPONT-AIGNAN   4.38\n5   31005       LASSALLE   3.19\n6   31005         POUTOU   0.40\n7   31005     ASSELINEAU   0.40\n8   31005        ARTHAUD   0.00\n9   31005      CHEMINADE   0.00\n10  31009         MACRON  25.93\n11  31009         LE PEN  17.28\n12  31009      MÉLENCHON   8.64\n13  31009       LASSALLE   4.94\n14  31009          HAMON   3.70",
      "text/html": "<div>\n<style scoped>\n    .dataframe tbody tr th:only-of-type {\n        vertical-align: middle;\n    }\n\n    .dataframe tbody tr th {\n        vertical-align: top;\n    }\n\n    .dataframe thead th {\n        text-align: right;\n    }\n</style>\n<table border=\"1\" class=\"dataframe\">\n  <thead>\n    <tr style=\"text-align: right;\">\n      <th></th>\n      <th>INSEE</th>\n      <th>Nom</th>\n      <th>Voix</th>\n    </tr>\n  </thead>\n  <tbody>\n    <tr>\n      <th>0</th>\n      <td>31005</td>\n      <td>LE PEN</td>\n      <td>18.73</td>\n    </tr>\n    <tr>\n      <th>1</th>\n      <td>31005</td>\n      <td>MACRON</td>\n      <td>15.14</td>\n    </tr>\n    <tr>\n      <th>2</th>\n      <td>31005</td>\n      <td>HAMON</td>\n      <td>10.36</td>\n    </tr>\n    <tr>\n      <th>3</th>\n      <td>31005</td>\n      <td>FILLON</td>\n      <td>9.56</td>\n    </tr>\n    <tr>\n      <th>4</th>\n      <td>31005</td>\n      <td>DUPONT-AIGNAN</td>\n      <td>4.38</td>\n    </tr>\n    <tr>\n      <th>5</th>\n      <td>31005</td>\n      <td>LASSALLE</td>\n      <td>3.19</td>\n    </tr>\n    <tr>\n      <th>6</th>\n      <td>31005</td>\n      <td>POUTOU</td>\n      <td>0.40</td>\n    </tr>\n    <tr>\n      <th>7</th>\n      <td>31005</td>\n      <td>ASSELINEAU</td>\n      <td>0.40</td>\n    </tr>\n    <tr>\n      <th>8</th>\n      <td>31005</td>\n      <td>ARTHAUD</td>\n      <td>0.00</td>\n    </tr>\n    <tr>\n      <th>9</th>\n      <td>31005</td>\n      <td>CHEMINADE</td>\n      <td>0.00</td>\n    </tr>\n    <tr>\n      <th>10</th>\n      <td>31009</td>\n      <td>MACRON</td>\n      <td>25.93</td>\n    </tr>\n    <tr>\n      <th>11</th>\n      <td>31009</td>\n      <td>LE PEN</td>\n      <td>17.28</td>\n    </tr>\n    <tr>\n      <th>12</th>\n      <td>31009</td>\n      <td>MÉLENCHON</td>\n      <td>8.64</td>\n    </tr>\n    <tr>\n      <th>13</th>\n      <td>31009</td>\n      <td>LASSALLE</td>\n      <td>4.94</td>\n    </tr>\n    <tr>\n      <th>14</th>\n      <td>31009</td>\n      <td>HAMON</td>\n      <td>3.70</td>\n    </tr>\n  </tbody>\n</table>\n</div>"
     },
     "metadata": {},
     "execution_count": 17
    }
   ],
   "source": [
    "dico_election_moins_1000 = {\n",
    "    \"INSEE\" : [],\n",
    "    \"Nom\": [],\n",
    "    \"Voix\": []\n",
    "}\n",
    "\n",
    "\n",
    "for index, row in election_moins_1000_selec.iterrows():\n",
    "    for i in range(1,11):\n",
    "        dico_election_moins_1000['INSEE'].append(index)\n",
    "        if i == 1:\n",
    "            dico_election_moins_1000['Nom'].append(row['Nom'])\n",
    "            dico_election_moins_1000['Voix'].append(row['% Voix/Ins'])\n",
    "        else:\n",
    "            dico_election_moins_1000['Nom'].append(row['Nom.'+str(i)])\n",
    "            dico_election_moins_1000['Voix'].append(row['% Voix/Ins.'+str(i)])\n",
    "\n",
    "elec_final = pd.DataFrame(dico_election_moins_1000)\n",
    "elec_final.head(15)"
   ]
  },
  {
   "cell_type": "code",
   "execution_count": 30,
   "metadata": {},
   "outputs": [
    {
     "output_type": "execute_result",
     "data": {
      "text/plain": "           INSEE  Voix\nNom                   \nFILLON        18    18\nLE PEN       111   111\nMACRON       110   110\nMÉLENCHON     90    90",
      "text/html": "<div>\n<style scoped>\n    .dataframe tbody tr th:only-of-type {\n        vertical-align: middle;\n    }\n\n    .dataframe tbody tr th {\n        vertical-align: top;\n    }\n\n    .dataframe thead th {\n        text-align: right;\n    }\n</style>\n<table border=\"1\" class=\"dataframe\">\n  <thead>\n    <tr style=\"text-align: right;\">\n      <th></th>\n      <th>INSEE</th>\n      <th>Voix</th>\n    </tr>\n    <tr>\n      <th>Nom</th>\n      <th></th>\n      <th></th>\n    </tr>\n  </thead>\n  <tbody>\n    <tr>\n      <th>FILLON</th>\n      <td>18</td>\n      <td>18</td>\n    </tr>\n    <tr>\n      <th>LE PEN</th>\n      <td>111</td>\n      <td>111</td>\n    </tr>\n    <tr>\n      <th>MACRON</th>\n      <td>110</td>\n      <td>110</td>\n    </tr>\n    <tr>\n      <th>MÉLENCHON</th>\n      <td>90</td>\n      <td>90</td>\n    </tr>\n  </tbody>\n</table>\n</div>"
     },
     "metadata": {},
     "execution_count": 30
    }
   ],
   "source": [
    "idx = elec_final.groupby(['INSEE'])['Voix'].transform(max) == elec_final['Voix']\n",
    "elec_final_max = elec_final[idx]\n",
    "elec_final_max.groupby('Nom').count()"
   ]
  },
  {
   "cell_type": "code",
   "execution_count": 31,
   "metadata": {},
   "outputs": [
    {
     "output_type": "execute_result",
     "data": {
      "text/plain": "    INSEE        Nom   Voix partis\n0   31005     LE PEN  18.73     RN\n10  31009     MACRON  25.93    LRM\n20  31013     MACRON  24.91    LRM\n30  31014     MACRON  27.38    LRM\n40  31018  MÉLENCHON  21.70     FI",
      "text/html": "<div>\n<style scoped>\n    .dataframe tbody tr th:only-of-type {\n        vertical-align: middle;\n    }\n\n    .dataframe tbody tr th {\n        vertical-align: top;\n    }\n\n    .dataframe thead th {\n        text-align: right;\n    }\n</style>\n<table border=\"1\" class=\"dataframe\">\n  <thead>\n    <tr style=\"text-align: right;\">\n      <th></th>\n      <th>INSEE</th>\n      <th>Nom</th>\n      <th>Voix</th>\n      <th>partis</th>\n    </tr>\n  </thead>\n  <tbody>\n    <tr>\n      <th>0</th>\n      <td>31005</td>\n      <td>LE PEN</td>\n      <td>18.73</td>\n      <td>RN</td>\n    </tr>\n    <tr>\n      <th>10</th>\n      <td>31009</td>\n      <td>MACRON</td>\n      <td>25.93</td>\n      <td>LRM</td>\n    </tr>\n    <tr>\n      <th>20</th>\n      <td>31013</td>\n      <td>MACRON</td>\n      <td>24.91</td>\n      <td>LRM</td>\n    </tr>\n    <tr>\n      <th>30</th>\n      <td>31014</td>\n      <td>MACRON</td>\n      <td>27.38</td>\n      <td>LRM</td>\n    </tr>\n    <tr>\n      <th>40</th>\n      <td>31018</td>\n      <td>MÉLENCHON</td>\n      <td>21.70</td>\n      <td>FI</td>\n    </tr>\n  </tbody>\n</table>\n</div>"
     },
     "metadata": {},
     "execution_count": 31
    }
   ],
   "source": [
    "mapping = {'FILLON':'LR', \n",
    "           'LE PEN':'RN', \n",
    "           'MACRON':'LRM', \n",
    "           'MÉLENCHON':'FI'}\n",
    "elec_final_max['partis'] = elec_final_max['Nom'].map(mapping)\n"
   ]
  },
  {
   "cell_type": "code",
   "execution_count": 32,
   "metadata": {},
   "outputs": [],
   "source": [
    "elec_final_max.to_csv('data/resulats-presidentielles-communes.csv', encoding='utf-8')"
   ]
  },
  {
   "cell_type": "code",
   "execution_count": null,
   "metadata": {},
   "outputs": [],
   "source": []
  }
 ],
 "metadata": {
  "language_info": {
   "codemirror_mode": {
    "name": "ipython",
    "version": 3
   },
   "file_extension": ".py",
   "mimetype": "text/x-python",
   "name": "python",
   "nbconvert_exporter": "python",
   "pygments_lexer": "ipython3",
   "version": "3.7.5-final"
  },
  "orig_nbformat": 2,
  "kernelspec": {
   "name": "python37564bitdf7e01cea00f4b91bf0d4f98b0317dd3",
   "display_name": "Python 3.7.5 64-bit"
  }
 },
 "nbformat": 4,
 "nbformat_minor": 2
}