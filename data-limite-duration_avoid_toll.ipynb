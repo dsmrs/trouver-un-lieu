{
 "cells": [
  {
   "cell_type": "markdown",
   "metadata": {},
   "source": [
    "# Vive La Campagne! "
   ]
  },
  {
   "cell_type": "markdown",
   "metadata": {},
   "source": [
    "Ce notebook a pour objectif de selectionner et visualiser les communes "
   ]
  },
  {
   "cell_type": "markdown",
   "metadata": {},
   "source": [
    "## Communes"
   ]
  },
  {
   "cell_type": "code",
   "execution_count": 67,
   "metadata": {},
   "outputs": [],
   "source": [
    "from urllib.request import urlopen\n",
    "import json\n",
    "import pandas as pd\n",
    "from datetime import datetime\n",
    "from random import uniform\n",
    "from time import sleep"
   ]
  },
  {
   "cell_type": "markdown",
   "metadata": {},
   "source": [
    "Pour ce faire nous commençons par importer une basée de données reprennant toutes les communes de France:\n",
    "[Base de données villes française CC-BY-SA](https://sql.sh/736-base-donnees-villes-francaises)\n"
   ]
  },
  {
   "cell_type": "code",
   "execution_count": 68,
   "metadata": {},
   "outputs": [
    {
     "output_type": "execute_result",
     "data": {
      "text/plain": "  ville_id ville_departement             ville_slug              ville_nom  \\\n0        1                01                   ozan                   OZAN   \n1        2                01  cormoranche-sur-saone  CORMORANCHE-SUR-SAONE   \n2        3                01              plagne-01                 PLAGNE   \n\n        ville_nom_simple         ville_nom_reel ville_nom_soundex  \\\n0                   ozan                   Ozan              O250   \n1  cormoranche sur saone  Cormoranche-sur-Saône         C65652625   \n2                 plagne                 Plagne              P425   \n\n  ville_nom_metaphone ville_code_postal ville_commune  ... ville_densite_2010  \\\n0                 OSN             01190           284  ...                 93   \n1          KRMRNXSRSN             01290           123  ...                107   \n2                PLKN             01130           298  ...                 20   \n\n  ville_surface ville_longitude_deg ville_latitude_deg ville_longitude_grd  \\\n0           6.6             4.91667            46.3833                2866   \n1          9.85             4.83333            46.2333                2772   \n2           6.2             5.73333            46.1833                3769   \n\n  ville_latitude_grd ville_longitude_dms ville_latitude_dms ville_zmin  \\\n0              51546              +45456             462330        170   \n1              51379              +44953             461427        168   \n2              51324              +54342             461131        560   \n\n  ville_zmax  \n0        205  \n1        211  \n2        922  \n\n[3 rows x 27 columns]",
      "text/html": "<div>\n<style scoped>\n    .dataframe tbody tr th:only-of-type {\n        vertical-align: middle;\n    }\n\n    .dataframe tbody tr th {\n        vertical-align: top;\n    }\n\n    .dataframe thead th {\n        text-align: right;\n    }\n</style>\n<table border=\"1\" class=\"dataframe\">\n  <thead>\n    <tr style=\"text-align: right;\">\n      <th></th>\n      <th>ville_id</th>\n      <th>ville_departement</th>\n      <th>ville_slug</th>\n      <th>ville_nom</th>\n      <th>ville_nom_simple</th>\n      <th>ville_nom_reel</th>\n      <th>ville_nom_soundex</th>\n      <th>ville_nom_metaphone</th>\n      <th>ville_code_postal</th>\n      <th>ville_commune</th>\n      <th>...</th>\n      <th>ville_densite_2010</th>\n      <th>ville_surface</th>\n      <th>ville_longitude_deg</th>\n      <th>ville_latitude_deg</th>\n      <th>ville_longitude_grd</th>\n      <th>ville_latitude_grd</th>\n      <th>ville_longitude_dms</th>\n      <th>ville_latitude_dms</th>\n      <th>ville_zmin</th>\n      <th>ville_zmax</th>\n    </tr>\n  </thead>\n  <tbody>\n    <tr>\n      <th>0</th>\n      <td>1</td>\n      <td>01</td>\n      <td>ozan</td>\n      <td>OZAN</td>\n      <td>ozan</td>\n      <td>Ozan</td>\n      <td>O250</td>\n      <td>OSN</td>\n      <td>01190</td>\n      <td>284</td>\n      <td>...</td>\n      <td>93</td>\n      <td>6.6</td>\n      <td>4.91667</td>\n      <td>46.3833</td>\n      <td>2866</td>\n      <td>51546</td>\n      <td>+45456</td>\n      <td>462330</td>\n      <td>170</td>\n      <td>205</td>\n    </tr>\n    <tr>\n      <th>1</th>\n      <td>2</td>\n      <td>01</td>\n      <td>cormoranche-sur-saone</td>\n      <td>CORMORANCHE-SUR-SAONE</td>\n      <td>cormoranche sur saone</td>\n      <td>Cormoranche-sur-Saône</td>\n      <td>C65652625</td>\n      <td>KRMRNXSRSN</td>\n      <td>01290</td>\n      <td>123</td>\n      <td>...</td>\n      <td>107</td>\n      <td>9.85</td>\n      <td>4.83333</td>\n      <td>46.2333</td>\n      <td>2772</td>\n      <td>51379</td>\n      <td>+44953</td>\n      <td>461427</td>\n      <td>168</td>\n      <td>211</td>\n    </tr>\n    <tr>\n      <th>2</th>\n      <td>3</td>\n      <td>01</td>\n      <td>plagne-01</td>\n      <td>PLAGNE</td>\n      <td>plagne</td>\n      <td>Plagne</td>\n      <td>P425</td>\n      <td>PLKN</td>\n      <td>01130</td>\n      <td>298</td>\n      <td>...</td>\n      <td>20</td>\n      <td>6.2</td>\n      <td>5.73333</td>\n      <td>46.1833</td>\n      <td>3769</td>\n      <td>51324</td>\n      <td>+54342</td>\n      <td>461131</td>\n      <td>560</td>\n      <td>922</td>\n    </tr>\n  </tbody>\n</table>\n<p>3 rows × 27 columns</p>\n</div>"
     },
     "metadata": {},
     "execution_count": 68
    }
   ],
   "source": [
    "communes = pd.read_csv(\"data/villes_france.csv\", sep=',', error_bad_lines=False, index_col=False, dtype='unicode')\n",
    "communes.head(3)"
   ]
  },
  {
   "cell_type": "markdown",
   "metadata": {},
   "source": [
    "Sur les 27 colomnes, nous garderons que les suivantes:"
   ]
  },
  {
   "cell_type": "code",
   "execution_count": 69,
   "metadata": {},
   "outputs": [
    {
     "output_type": "execute_result",
     "data": {
      "text/plain": "  ville_id ville_departement              ville_nom       ville_nom_simple  \\\n0        1                01                   OZAN                   ozan   \n1        2                01  CORMORANCHE-SUR-SAONE  cormoranche sur saone   \n2        3                01                 PLAGNE                 plagne   \n\n          ville_nom_reel ville_code_postal ville_commune ville_code_commune  \\\n0                   Ozan             01190           284              01284   \n1  Cormoranche-sur-Saône             01290           123              01123   \n2                 Plagne             01130           298              01298   \n\n  ville_arrondissement ville_canton ville_amdi ville_population_2010  \\\n0                    2           26          6                   618   \n1                    2           27          6                  1058   \n2                    4           03          6                   129   \n\n  ville_population_1999 ville_population_2012 ville_densite_2010  \\\n0                   469                   500                 93   \n1                   903                  1000                107   \n2                    83                   100                 20   \n\n  ville_surface ville_longitude_deg ville_latitude_deg ville_zmax  \n0           6.6             4.91667            46.3833        205  \n1          9.85             4.83333            46.2333        211  \n2           6.2             5.73333            46.1833        922  ",
      "text/html": "<div>\n<style scoped>\n    .dataframe tbody tr th:only-of-type {\n        vertical-align: middle;\n    }\n\n    .dataframe tbody tr th {\n        vertical-align: top;\n    }\n\n    .dataframe thead th {\n        text-align: right;\n    }\n</style>\n<table border=\"1\" class=\"dataframe\">\n  <thead>\n    <tr style=\"text-align: right;\">\n      <th></th>\n      <th>ville_id</th>\n      <th>ville_departement</th>\n      <th>ville_nom</th>\n      <th>ville_nom_simple</th>\n      <th>ville_nom_reel</th>\n      <th>ville_code_postal</th>\n      <th>ville_commune</th>\n      <th>ville_code_commune</th>\n      <th>ville_arrondissement</th>\n      <th>ville_canton</th>\n      <th>ville_amdi</th>\n      <th>ville_population_2010</th>\n      <th>ville_population_1999</th>\n      <th>ville_population_2012</th>\n      <th>ville_densite_2010</th>\n      <th>ville_surface</th>\n      <th>ville_longitude_deg</th>\n      <th>ville_latitude_deg</th>\n      <th>ville_zmax</th>\n    </tr>\n  </thead>\n  <tbody>\n    <tr>\n      <th>0</th>\n      <td>1</td>\n      <td>01</td>\n      <td>OZAN</td>\n      <td>ozan</td>\n      <td>Ozan</td>\n      <td>01190</td>\n      <td>284</td>\n      <td>01284</td>\n      <td>2</td>\n      <td>26</td>\n      <td>6</td>\n      <td>618</td>\n      <td>469</td>\n      <td>500</td>\n      <td>93</td>\n      <td>6.6</td>\n      <td>4.91667</td>\n      <td>46.3833</td>\n      <td>205</td>\n    </tr>\n    <tr>\n      <th>1</th>\n      <td>2</td>\n      <td>01</td>\n      <td>CORMORANCHE-SUR-SAONE</td>\n      <td>cormoranche sur saone</td>\n      <td>Cormoranche-sur-Saône</td>\n      <td>01290</td>\n      <td>123</td>\n      <td>01123</td>\n      <td>2</td>\n      <td>27</td>\n      <td>6</td>\n      <td>1058</td>\n      <td>903</td>\n      <td>1000</td>\n      <td>107</td>\n      <td>9.85</td>\n      <td>4.83333</td>\n      <td>46.2333</td>\n      <td>211</td>\n    </tr>\n    <tr>\n      <th>2</th>\n      <td>3</td>\n      <td>01</td>\n      <td>PLAGNE</td>\n      <td>plagne</td>\n      <td>Plagne</td>\n      <td>01130</td>\n      <td>298</td>\n      <td>01298</td>\n      <td>4</td>\n      <td>03</td>\n      <td>6</td>\n      <td>129</td>\n      <td>83</td>\n      <td>100</td>\n      <td>20</td>\n      <td>6.2</td>\n      <td>5.73333</td>\n      <td>46.1833</td>\n      <td>922</td>\n    </tr>\n  </tbody>\n</table>\n</div>"
     },
     "metadata": {},
     "execution_count": 69
    }
   ],
   "source": [
    "colmnuns = [\n",
    "    \"ville_id\",\n",
    "    \"ville_departement\",\n",
    "    \"ville_nom\",             # En majuscule sans accents\n",
    "    \"ville_nom_simple\",      # En minuscule sans accents ni tirets\n",
    "    \"ville_nom_reel\", \n",
    "    \"ville_code_postal\",\n",
    "    \"ville_commune\",\n",
    "    \"ville_code_commune\",    # ou INSEE\n",
    "    \"ville_arrondissement\",\n",
    "    \"ville_canton\",\n",
    "    \"ville_amdi\",\n",
    "    \"ville_population_2010\",\n",
    "    \"ville_population_1999\",\n",
    "    \"ville_population_2012\",\n",
    "    \"ville_densite_2010\",\n",
    "    \"ville_surface\",\n",
    "    \"ville_longitude_deg\",\n",
    "    \"ville_latitude_deg\",\n",
    "    \"ville_zmax\"              # L'altitude\n",
    "]           \n",
    "\n",
    "communes = communes.filter(colmnuns)\n",
    "communes.head(3)"
   ]
  },
  {
   "cell_type": "markdown",
   "metadata": {},
   "source": [
    "Maintenant nous allons reprendre uniquement les communes des départements suivants:"
   ]
  },
  {
   "cell_type": "code",
   "execution_count": 70,
   "metadata": {},
   "outputs": [
    {
     "output_type": "execute_result",
     "data": {
      "text/plain": "      ville_id ville_departement    ville_nom ville_nom_simple ville_nom_reel  \\\n11514    11515                31        LUNAX            lunax          Lunax   \n11515    11516                31  FONTENILLES      fontenilles    Fontenilles   \n11516    11517                31        ARBON            arbon          Arbon   \n\n      ville_code_postal ville_commune ville_code_commune ville_arrondissement  \\\n11514             31350           307              31307                    2   \n11515             31470           188              31188                    1   \n11516             31160           012              31012                    2   \n\n      ville_canton ville_amdi ville_population_2010 ville_population_1999  \\\n11514           06          6                    60                    56   \n11515           30          6                  4505                  2920   \n11516           01          6                    92                    76   \n\n      ville_population_2012 ville_densite_2010 ville_surface  \\\n11514                   100                 11           5.1   \n11515                  3900                222         20.22   \n11516                   100                 20          4.47   \n\n      ville_longitude_deg ville_latitude_deg ville_zmax  \n11514            0.683333            43.3333        298  \n11515                 1.2              43.55        280  \n11516                0.75                 43        896  ",
      "text/html": "<div>\n<style scoped>\n    .dataframe tbody tr th:only-of-type {\n        vertical-align: middle;\n    }\n\n    .dataframe tbody tr th {\n        vertical-align: top;\n    }\n\n    .dataframe thead th {\n        text-align: right;\n    }\n</style>\n<table border=\"1\" class=\"dataframe\">\n  <thead>\n    <tr style=\"text-align: right;\">\n      <th></th>\n      <th>ville_id</th>\n      <th>ville_departement</th>\n      <th>ville_nom</th>\n      <th>ville_nom_simple</th>\n      <th>ville_nom_reel</th>\n      <th>ville_code_postal</th>\n      <th>ville_commune</th>\n      <th>ville_code_commune</th>\n      <th>ville_arrondissement</th>\n      <th>ville_canton</th>\n      <th>ville_amdi</th>\n      <th>ville_population_2010</th>\n      <th>ville_population_1999</th>\n      <th>ville_population_2012</th>\n      <th>ville_densite_2010</th>\n      <th>ville_surface</th>\n      <th>ville_longitude_deg</th>\n      <th>ville_latitude_deg</th>\n      <th>ville_zmax</th>\n    </tr>\n  </thead>\n  <tbody>\n    <tr>\n      <th>11514</th>\n      <td>11515</td>\n      <td>31</td>\n      <td>LUNAX</td>\n      <td>lunax</td>\n      <td>Lunax</td>\n      <td>31350</td>\n      <td>307</td>\n      <td>31307</td>\n      <td>2</td>\n      <td>06</td>\n      <td>6</td>\n      <td>60</td>\n      <td>56</td>\n      <td>100</td>\n      <td>11</td>\n      <td>5.1</td>\n      <td>0.683333</td>\n      <td>43.3333</td>\n      <td>298</td>\n    </tr>\n    <tr>\n      <th>11515</th>\n      <td>11516</td>\n      <td>31</td>\n      <td>FONTENILLES</td>\n      <td>fontenilles</td>\n      <td>Fontenilles</td>\n      <td>31470</td>\n      <td>188</td>\n      <td>31188</td>\n      <td>1</td>\n      <td>30</td>\n      <td>6</td>\n      <td>4505</td>\n      <td>2920</td>\n      <td>3900</td>\n      <td>222</td>\n      <td>20.22</td>\n      <td>1.2</td>\n      <td>43.55</td>\n      <td>280</td>\n    </tr>\n    <tr>\n      <th>11516</th>\n      <td>11517</td>\n      <td>31</td>\n      <td>ARBON</td>\n      <td>arbon</td>\n      <td>Arbon</td>\n      <td>31160</td>\n      <td>012</td>\n      <td>31012</td>\n      <td>2</td>\n      <td>01</td>\n      <td>6</td>\n      <td>92</td>\n      <td>76</td>\n      <td>100</td>\n      <td>20</td>\n      <td>4.47</td>\n      <td>0.75</td>\n      <td>43</td>\n      <td>896</td>\n    </tr>\n  </tbody>\n</table>\n</div>"
     },
     "metadata": {},
     "execution_count": 70
    }
   ],
   "source": [
    "departements = [\n",
    "    \"31\",  # Haute-Garonne\n",
    "    \"32\",  # Gers\n",
    "    \"65\",  # Hautes-Pyrénées\n",
    "    \"81\",  # Tarn\n",
    "]\n",
    "\n",
    "toulouse_counrtyside = communes.loc[communes['ville_departement'].isin(departements)]\n",
    "toulouse_counrtyside.head(3)"
   ]
  },
  {
   "cell_type": "code",
   "execution_count": 71,
   "metadata": {},
   "outputs": [
    {
     "output_type": "execute_result",
     "data": {
      "text/plain": "ville_id                 1849\nville_departement        1849\nville_nom                1849\nville_nom_simple         1849\nville_nom_reel           1849\nville_code_postal        1849\nville_commune            1849\nville_code_commune       1849\nville_arrondissement     1849\nville_canton             1849\nville_amdi               1849\nville_population_2010    1849\nville_population_1999    1849\nville_population_2012    1849\nville_densite_2010       1849\nville_surface            1849\nville_longitude_deg      1849\nville_latitude_deg       1849\nville_zmax               1849\ndtype: int64"
     },
     "metadata": {},
     "execution_count": 71
    }
   ],
   "source": [
    "toulouse_counrtyside.count()"
   ]
  },
  {
   "cell_type": "code",
   "execution_count": 72,
   "metadata": {},
   "outputs": [],
   "source": [
    "gares = pd.read_csv(\"data/localisation-des-gares-et-haltes-ferroviaires-doccitanie.csv\", sep=';', error_bad_lines=False, index_col=False, dtype='unicode')\n",
    "departements = [\n",
    "    \"31\",  # Haute-Garonne\n",
    "    \"32\",  # Gers\n",
    "    \"65\",  # Hautes-Pyrénées\n",
    "    \"81\",  # Tarn\n",
    "        ]\n",
    "\n",
    "codeuic = [\n",
    "\"87615476\",\n",
    "\"87615484\",\n",
    "\"87615468\",\n",
    "\"87615526\",\n",
    "\"87775197\",\n",
    "\"87328021\",\n",
    "\"87615542\",\n",
    "\"87615013\",\n",
    "\"87618215\",\n",
    "\"87611723\",\n",
    "\"87618207\",\n",
    "\"87611707\",\n",
    "\"87612028\",\n",
    "\"87612002\",\n",
    "\"87616011\",\n",
    "\"87611400\",\n",
    "\"87611301\",\n",
    "\"87611665\",\n",
    "\"87611657\",\n",
    "\"87446179\",\n",
    "\"87353573\",\n",
    "\"87611467\",\n",
    "\"87611962\",\n",
    "\"87611004\",\n",
    "\"87618116\",\n",
    "\"87611384\",\n",
    "\"87353581\",\n",
    "\"87611434\",\n",
    "\"87611954\",\n",
    "\"87611392\",\n",
    "\"87353599\",\n",
    "\"87611947\",\n",
    "\"87497461\",\n",
    "\"87612010\",\n",
    "\"87611939\",\n",
    "\"87611376\",\n",
    "\"87611921\"\n",
    "]\n",
    "\n",
    "gares = gares.loc[gares['departement'].isin(departements)]\n",
    "#gares = gares.loc[~gares['codeuic'].isin(codeuic)]"
   ]
  },
  {
   "cell_type": "code",
   "execution_count": 52,
   "metadata": {},
   "outputs": [
    {
     "output_type": "execute_result",
     "data": {
      "text/plain": "    objectid id_rte500                        nature  \\\n11        46      2064             Gare de voyageurs   \n13        51      2088  Gare de voyageurs et de fret   \n18        68      2255             Gare de voyageurs   \n38       177      3366  Gare de voyageurs et de fret   \n41       194      3655             Gare de voyageurs   \n50       245      4233             Gare de voyageurs   \n51       246      4238             Gare de voyageurs   \n59       291      4779             Gare de voyageurs   \n69        60      2222             Gare de voyageurs   \n74        95      2560  Gare de voyageurs et de fret   \n76       102      2575  Gare de voyageurs et de fret   \n78       106      2585  Gare de voyageurs et de fret   \n83       136      3037             Gare de voyageurs   \n97       244      4232             Gare de voyageurs   \n98       248      4242             Gare de voyageurs   \n102      260      4444             Gare de voyageurs   \n108      293      4782             Gare de voyageurs   \n110      312     10000  Gare de voyageurs et de fret   \n122       94      2559             Gare de voyageurs   \n123       96      2563  Gare de voyageurs et de fret   \n139      175      3357             Gare de voyageurs   \n140      176      3358  Gare de voyageurs et de fret   \n143      220      3938  Gare de voyageurs et de fret   \n150      256      4429  Gare de voyageurs et de fret   \n155      276      4519             Gare de voyageurs   \n159      283      4680             Gare de voyageurs   \n162      297      4790             Gare de voyageurs   \n167       18      1601             Gare de voyageurs   \n170       40      1921             Gare de voyageurs   \n181      100      2573  Gare de voyageurs et de fret   \n182      103      2576             Gare de voyageurs   \n187      119      2744             Gare de voyageurs   \n190      130      3004  Gare de voyageurs et de fret   \n191      135      3035  Gare de voyageurs et de fret   \n195      168      3341             Gare de voyageurs   \n203      201      3669             Gare de voyageurs   \n207      212      3896  Gare de voyageurs et de fret   \n210      240      4203             Gare de voyageurs   \n214      269      4506  Gare de voyageurs et de fret   \n220        4      1457             Gare de voyageurs   \n233       73      2263  Gare de voyageurs et de fret   \n243      118      2743  Gare de voyageurs et de fret   \n256      196      3659             Gare de voyageurs   \n257      198      3661             Gare de voyageurs   \n259      202      3670             Gare de voyageurs   \n264      225      3954             Gare de voyageurs   \n\n                        toponyme                         type   codeuic  \\\n11               L'Isle-Jourdain  gare avec accueil du public  87611806   \n13           Cazères-sur-Garonne  gare avec accueil du public  87611079   \n18                        Aubiet            halte ferroviaire  87611764   \n38                         Lexos            halte ferroviaire  87613489   \n41           Marignac-Saint-Béat            halte ferroviaire  87611194   \n50              Saléchan-Siradan            halte ferroviaire  87618710   \n51                   Mérenvielle            halte ferroviaire  87611814   \n59                Gimont-Cahuzac  gare avec accueil du public  87611772   \n69                        Luchon  gare avec accueil du public  87611236   \n74   Montréjeau-Gourdan-Polignan  gare avec accueil du public  87611152   \n76                       Gaillac  gare avec accueil du public  87615252   \n78                Cordes-Vindrac  gare avec accueil du public  87613802   \n83              Martres-Tolosane            halte ferroviaire  87611087   \n97               Loures-Barbazan            halte ferroviaire  87611178   \n98                     Gragnague            halte ferroviaire  87615377   \n102               Labarthe-Inard            halte ferroviaire  87611129   \n108           Saint-Sulpice-Tarn  gare avec accueil du public  87615344   \n110                        Ossun            halte ferroviaire  87671313   \n122                      Capvern            halte ferroviaire  87671156   \n123                        Muret  gare avec accueil du public  87611038   \n139                 Tessonnières            halte ferroviaire  87615245   \n140               Albi-Madeleine  gare avec accueil du public  87615195   \n143                      Lourdes  gare avec accueil du public  87671339   \n150                      Carmaux  gare avec accueil du public  87615625   \n155               Lisle-sur-Tarn  gare avec accueil du public  87615310   \n159                      Tournay  gare avec accueil du public  87671172   \n162                        Tanus            halte ferroviaire  87615674   \n167              Marssac-surTarn            halte ferroviaire  87615419   \n170         Rabastens-Coufouleux  gare avec accueil du public  87615328   \n181                         Auch  gare avec accueil du public  87611749   \n182    Montastruc-la-Conseillère            halte ferroviaire  87615369   \n187                     Le Fauga            halte ferroviaire  87611046   \n190                     Boussens  gare avec accueil du public  87611095   \n191                Saint-Gaudens  gare avec accueil du public  87611137   \n195                 Longages-Noé            halte ferroviaire  87611053   \n203                Brax-Léguevin            halte ferroviaire  87611822   \n207                   Lannemezan  gare avec accueil du public  87671123   \n210                     Lestelle            halte ferroviaire  87611111   \n214                     Carbonne  gare avec accueil du public  87611061   \n220                     Montrabé            halte ferroviaire  87611848   \n233                   Albi-Ville  gare avec accueil du public  87615005   \n243                       Tarbes  gare avec accueil du public  87671008   \n256          Saint-Pé-de-Bigorre            halte ferroviaire  87671362   \n257                Saint-Martory            halte ferroviaire  87611103   \n259                       Pibrac            halte ferroviaire  87611830   \n264           Roquesérière-Buzet            halte ferroviaire  87615351   \n\n        region departement                   date_maj  \\\n11   Occitanie          32  2018-02-07T02:00:00+01:00   \n13   Occitanie          31  2018-02-07T02:00:00+01:00   \n18   Occitanie          32  2018-02-07T02:00:00+01:00   \n38   Occitanie          81  2018-02-07T02:00:00+01:00   \n41   Occitanie          31  2018-02-07T02:00:00+01:00   \n50   Occitanie          65  2018-02-07T02:00:00+01:00   \n51   Occitanie          31  2018-02-07T02:00:00+01:00   \n59   Occitanie          32  2018-02-07T02:00:00+01:00   \n69   Occitanie          31  2018-02-07T02:00:00+01:00   \n74   Occitanie          31  2018-02-07T02:00:00+01:00   \n76   Occitanie          81  2018-02-07T02:00:00+01:00   \n78   Occitanie          81  2018-02-07T02:00:00+01:00   \n83   Occitanie          31  2018-02-07T02:00:00+01:00   \n97   Occitanie          65  2018-02-07T02:00:00+01:00   \n98   Occitanie          31  2018-02-07T02:00:00+01:00   \n102  Occitanie          31  2018-02-07T02:00:00+01:00   \n108  Occitanie          81  2018-02-07T02:00:00+01:00   \n110  Occitanie          65  2018-02-07T02:00:00+01:00   \n122  Occitanie          65  2018-02-07T02:00:00+01:00   \n123  Occitanie          31  2018-02-07T02:00:00+01:00   \n139  Occitanie          81  2018-02-07T02:00:00+01:00   \n140  Occitanie          81  2018-02-07T02:00:00+01:00   \n143  Occitanie          65  2018-02-07T02:00:00+01:00   \n150  Occitanie          81  2018-02-07T02:00:00+01:00   \n155  Occitanie          81  2018-02-07T02:00:00+01:00   \n159  Occitanie          65  2018-02-07T02:00:00+01:00   \n162  Occitanie          81  2018-02-07T02:00:00+01:00   \n167  Occitanie          81  2018-02-07T02:00:00+01:00   \n170  Occitanie          81  2018-02-07T02:00:00+01:00   \n181  Occitanie          32  2018-02-07T02:00:00+01:00   \n182  Occitanie          31  2018-02-07T02:00:00+01:00   \n187  Occitanie          31  2018-02-07T02:00:00+01:00   \n190  Occitanie          31  2018-02-07T02:00:00+01:00   \n191  Occitanie          31  2018-02-07T02:00:00+01:00   \n195  Occitanie          31  2018-02-07T02:00:00+01:00   \n203  Occitanie          31  2018-02-07T02:00:00+01:00   \n207  Occitanie          65  2018-02-07T02:00:00+01:00   \n210  Occitanie          31  2018-02-07T02:00:00+01:00   \n214  Occitanie          31  2018-02-07T02:00:00+01:00   \n220  Occitanie          31  2018-02-07T02:00:00+01:00   \n233  Occitanie          81  2018-02-07T02:00:00+01:00   \n243  Occitanie          65  2018-02-07T02:00:00+01:00   \n256  Occitanie          65  2018-02-07T02:00:00+01:00   \n257  Occitanie          31  2018-02-07T02:00:00+01:00   \n259  Occitanie          31  2018-02-07T02:00:00+01:00   \n264  Occitanie          31  2018-02-07T02:00:00+01:00   \n\n                                             geo_shape  \\\n11   {\"type\": \"Point\", \"coordinates\": [1.0897045076...   \n13   {\"type\": \"Point\", \"coordinates\": [1.0823282310...   \n18   {\"type\": \"Point\", \"coordinates\": [0.7892317734...   \n38   {\"type\": \"Point\", \"coordinates\": [1.8850624224...   \n41   {\"type\": \"Point\", \"coordinates\": [0.6521641313...   \n50   {\"type\": \"Point\", \"coordinates\": [0.6316603800...   \n51   {\"type\": \"Point\", \"coordinates\": [1.1515214744...   \n59   {\"type\": \"Point\", \"coordinates\": [0.8676288726...   \n69   {\"type\": \"Point\", \"coordinates\": [0.5965996459...   \n74   {\"type\": \"Point\", \"coordinates\": [0.5735091098...   \n76   {\"type\": \"Point\", \"coordinates\": [1.8947346357...   \n78   {\"type\": \"Point\", \"coordinates\": [1.9000871521...   \n83   {\"type\": \"Point\", \"coordinates\": [1.0165881605...   \n97   {\"type\": \"Point\", \"coordinates\": [0.6104470007...   \n98   {\"type\": \"Point\", \"coordinates\": [1.5675837534...   \n102  {\"type\": \"Point\", \"coordinates\": [0.8532185313...   \n108  {\"type\": \"Point\", \"coordinates\": [1.6810387972...   \n110  {\"type\": \"Point\", \"coordinates\": [-0.021347550...   \n122  {\"type\": \"Point\", \"coordinates\": [0.3295941682...   \n123  {\"type\": \"Point\", \"coordinates\": [1.3242969764...   \n139  {\"type\": \"Point\", \"coordinates\": [1.9371056894...   \n140  {\"type\": \"Point\", \"coordinates\": [2.1409487160...   \n143  {\"type\": \"Point\", \"coordinates\": [-0.042259496...   \n150  {\"type\": \"Point\", \"coordinates\": [2.1523689320...   \n155  {\"type\": \"Point\", \"coordinates\": [1.8079560948...   \n159  {\"type\": \"Point\", \"coordinates\": [0.2390209950...   \n162  {\"type\": \"Point\", \"coordinates\": [2.3152072653...   \n167  {\"type\": \"Point\", \"coordinates\": [2.0270250657...   \n170  {\"type\": \"Point\", \"coordinates\": [1.7310239804...   \n181  {\"type\": \"Point\", \"coordinates\": [0.5970597207...   \n182  {\"type\": \"Point\", \"coordinates\": [1.5974276883...   \n187  {\"type\": \"Point\", \"coordinates\": [1.2824836013...   \n190  {\"type\": \"Point\", \"coordinates\": [0.9723650177...   \n191  {\"type\": \"Point\", \"coordinates\": [0.7295495840...   \n195  {\"type\": \"Point\", \"coordinates\": [1.2522251796...   \n203  {\"type\": \"Point\", \"coordinates\": [1.2368284981...   \n207  {\"type\": \"Point\", \"coordinates\": [0.3874288549...   \n210  {\"type\": \"Point\", \"coordinates\": [0.9128340560...   \n214  {\"type\": \"Point\", \"coordinates\": [1.2126116808...   \n220  {\"type\": \"Point\", \"coordinates\": [1.5233678762...   \n233  {\"type\": \"Point\", \"coordinates\": [2.1375690544...   \n243  {\"type\": \"Point\", \"coordinates\": [0.0694724942...   \n256  {\"type\": \"Point\", \"coordinates\": [-0.160877885...   \n257  {\"type\": \"Point\", \"coordinates\": [0.9339500432...   \n259  {\"type\": \"Point\", \"coordinates\": [1.2891869589...   \n264  {\"type\": \"Point\", \"coordinates\": [1.6187228071...   \n\n                       geo_point_2d       latitude         longitude  \n11      43.6173114196,1.08970450764  43.6173114196     1.08970450764  \n13      43.2127599987,1.08232823102  43.2127599987     1.08232823102  \n18     43.6500715921,0.789231773446  43.6500715921    0.789231773446  \n38      44.1422304256,1.88506242248  44.1422304256     1.88506242248  \n41     42.9157573682,0.652164131336  42.9157573682    0.652164131336  \n50      42.9630705836,0.63166038007  42.9630705836     0.63166038007  \n51      43.6368842109,1.15152147448  43.6368842109     1.15152147448  \n59      43.6331940821,0.86762887265  43.6331940821     0.86762887265  \n69     42.7971107969,0.596599645992  42.7971107969    0.596599645992  \n74     43.0780437575,0.573509109825  43.0780437575    0.573509109825  \n76        43.906275024,1.8947346358   43.906275024      1.8947346358  \n78      44.0669197249,1.90008715216  44.0669197249     1.90008715216  \n83      43.1961326128,1.01658816051  43.1961326128     1.01658816051  \n97     43.0211262603,0.610447000725  43.0211262603    0.610447000725  \n98      43.6965091735,1.56758375346  43.6965091735     1.56758375346  \n102     43.105060364,0.853218531318   43.105060364    0.853218531318  \n108     43.7753995037,1.68103879727  43.7753995037     1.68103879727  \n110   43.183495732,-0.0213475504314   43.183495732  -0.0213475504314  \n122    43.1035171569,0.329594168204  43.1035171569    0.329594168204  \n123     43.4649586224,1.32429697641  43.4649586224     1.32429697641  \n139     43.9282126179,1.93710568944  43.9282126179     1.93710568944  \n140       43.9374378767,2.140948716  43.9374378767       2.140948716  \n143  43.1005396479,-0.0422594968728  43.1005396479  -0.0422594968728  \n150      44.048256148,2.15236893204   44.048256148     2.15236893204  \n155     43.8564870388,1.80795609481  43.8564870388     1.80795609481  \n159     43.1834462947,0.23902099504  43.1834462947     0.23902099504  \n162     44.1003870737,2.31520726536  44.1003870737     2.31520726536  \n167       43.91508485,2.02702506577    43.91508485     2.02702506577  \n170     43.8196492582,1.73102398044  43.8196492582     1.73102398044  \n181    43.6473223883,0.597059720783  43.6473223883    0.597059720783  \n182     43.7157469018,1.59742768831  43.7157469018     1.59742768831  \n187     43.4044402573,1.28248360131  43.4044402573     1.28248360131  \n190    43.1798586983,0.972365017776  43.1798586983    0.972365017776  \n191    43.1050472275,0.729549584049  43.1050472275    0.729549584049  \n195     43.3567143917,1.25222517968  43.3567143917     1.25222517968  \n203      43.614782443,1.23682849814   43.614782443     1.23682849814  \n207     43.1142180051,0.38742885497  43.1142180051     0.38742885497  \n210    43.1188479641,0.912834056029  43.1188479641    0.912834056029  \n214     43.2985312182,1.21261168084  43.2985312182     1.21261168084  \n220     43.6452456688,1.52336787628  43.6452456688     1.52336787628  \n233     43.9224009249,2.13756905448  43.9224009249     2.13756905448  \n243    43.2403061285,0.069472494225  43.2403061285    0.069472494225  \n256    43.101158055,-0.160877885639   43.101158055   -0.160877885639  \n257    43.1384348559,0.933950043202  43.1384348559    0.933950043202  \n259      43.621496301,1.28918695899   43.621496301     1.28918695899  \n264      43.7508044018,1.6187228071  43.7508044018      1.6187228071  ",
      "text/html": "<div>\n<style scoped>\n    .dataframe tbody tr th:only-of-type {\n        vertical-align: middle;\n    }\n\n    .dataframe tbody tr th {\n        vertical-align: top;\n    }\n\n    .dataframe thead th {\n        text-align: right;\n    }\n</style>\n<table border=\"1\" class=\"dataframe\">\n  <thead>\n    <tr style=\"text-align: right;\">\n      <th></th>\n      <th>objectid</th>\n      <th>id_rte500</th>\n      <th>nature</th>\n      <th>toponyme</th>\n      <th>type</th>\n      <th>codeuic</th>\n      <th>region</th>\n      <th>departement</th>\n      <th>date_maj</th>\n      <th>geo_shape</th>\n      <th>geo_point_2d</th>\n      <th>latitude</th>\n      <th>longitude</th>\n    </tr>\n  </thead>\n  <tbody>\n    <tr>\n      <th>11</th>\n      <td>46</td>\n      <td>2064</td>\n      <td>Gare de voyageurs</td>\n      <td>L'Isle-Jourdain</td>\n      <td>gare avec accueil du public</td>\n      <td>87611806</td>\n      <td>Occitanie</td>\n      <td>32</td>\n      <td>2018-02-07T02:00:00+01:00</td>\n      <td>{\"type\": \"Point\", \"coordinates\": [1.0897045076...</td>\n      <td>43.6173114196,1.08970450764</td>\n      <td>43.6173114196</td>\n      <td>1.08970450764</td>\n    </tr>\n    <tr>\n      <th>13</th>\n      <td>51</td>\n      <td>2088</td>\n      <td>Gare de voyageurs et de fret</td>\n      <td>Cazères-sur-Garonne</td>\n      <td>gare avec accueil du public</td>\n      <td>87611079</td>\n      <td>Occitanie</td>\n      <td>31</td>\n      <td>2018-02-07T02:00:00+01:00</td>\n      <td>{\"type\": \"Point\", \"coordinates\": [1.0823282310...</td>\n      <td>43.2127599987,1.08232823102</td>\n      <td>43.2127599987</td>\n      <td>1.08232823102</td>\n    </tr>\n    <tr>\n      <th>18</th>\n      <td>68</td>\n      <td>2255</td>\n      <td>Gare de voyageurs</td>\n      <td>Aubiet</td>\n      <td>halte ferroviaire</td>\n      <td>87611764</td>\n      <td>Occitanie</td>\n      <td>32</td>\n      <td>2018-02-07T02:00:00+01:00</td>\n      <td>{\"type\": \"Point\", \"coordinates\": [0.7892317734...</td>\n      <td>43.6500715921,0.789231773446</td>\n      <td>43.6500715921</td>\n      <td>0.789231773446</td>\n    </tr>\n    <tr>\n      <th>38</th>\n      <td>177</td>\n      <td>3366</td>\n      <td>Gare de voyageurs et de fret</td>\n      <td>Lexos</td>\n      <td>halte ferroviaire</td>\n      <td>87613489</td>\n      <td>Occitanie</td>\n      <td>81</td>\n      <td>2018-02-07T02:00:00+01:00</td>\n      <td>{\"type\": \"Point\", \"coordinates\": [1.8850624224...</td>\n      <td>44.1422304256,1.88506242248</td>\n      <td>44.1422304256</td>\n      <td>1.88506242248</td>\n    </tr>\n    <tr>\n      <th>41</th>\n      <td>194</td>\n      <td>3655</td>\n      <td>Gare de voyageurs</td>\n      <td>Marignac-Saint-Béat</td>\n      <td>halte ferroviaire</td>\n      <td>87611194</td>\n      <td>Occitanie</td>\n      <td>31</td>\n      <td>2018-02-07T02:00:00+01:00</td>\n      <td>{\"type\": \"Point\", \"coordinates\": [0.6521641313...</td>\n      <td>42.9157573682,0.652164131336</td>\n      <td>42.9157573682</td>\n      <td>0.652164131336</td>\n    </tr>\n    <tr>\n      <th>50</th>\n      <td>245</td>\n      <td>4233</td>\n      <td>Gare de voyageurs</td>\n      <td>Saléchan-Siradan</td>\n      <td>halte ferroviaire</td>\n      <td>87618710</td>\n      <td>Occitanie</td>\n      <td>65</td>\n      <td>2018-02-07T02:00:00+01:00</td>\n      <td>{\"type\": \"Point\", \"coordinates\": [0.6316603800...</td>\n      <td>42.9630705836,0.63166038007</td>\n      <td>42.9630705836</td>\n      <td>0.63166038007</td>\n    </tr>\n    <tr>\n      <th>51</th>\n      <td>246</td>\n      <td>4238</td>\n      <td>Gare de voyageurs</td>\n      <td>Mérenvielle</td>\n      <td>halte ferroviaire</td>\n      <td>87611814</td>\n      <td>Occitanie</td>\n      <td>31</td>\n      <td>2018-02-07T02:00:00+01:00</td>\n      <td>{\"type\": \"Point\", \"coordinates\": [1.1515214744...</td>\n      <td>43.6368842109,1.15152147448</td>\n      <td>43.6368842109</td>\n      <td>1.15152147448</td>\n    </tr>\n    <tr>\n      <th>59</th>\n      <td>291</td>\n      <td>4779</td>\n      <td>Gare de voyageurs</td>\n      <td>Gimont-Cahuzac</td>\n      <td>gare avec accueil du public</td>\n      <td>87611772</td>\n      <td>Occitanie</td>\n      <td>32</td>\n      <td>2018-02-07T02:00:00+01:00</td>\n      <td>{\"type\": \"Point\", \"coordinates\": [0.8676288726...</td>\n      <td>43.6331940821,0.86762887265</td>\n      <td>43.6331940821</td>\n      <td>0.86762887265</td>\n    </tr>\n    <tr>\n      <th>69</th>\n      <td>60</td>\n      <td>2222</td>\n      <td>Gare de voyageurs</td>\n      <td>Luchon</td>\n      <td>gare avec accueil du public</td>\n      <td>87611236</td>\n      <td>Occitanie</td>\n      <td>31</td>\n      <td>2018-02-07T02:00:00+01:00</td>\n      <td>{\"type\": \"Point\", \"coordinates\": [0.5965996459...</td>\n      <td>42.7971107969,0.596599645992</td>\n      <td>42.7971107969</td>\n      <td>0.596599645992</td>\n    </tr>\n    <tr>\n      <th>74</th>\n      <td>95</td>\n      <td>2560</td>\n      <td>Gare de voyageurs et de fret</td>\n      <td>Montréjeau-Gourdan-Polignan</td>\n      <td>gare avec accueil du public</td>\n      <td>87611152</td>\n      <td>Occitanie</td>\n      <td>31</td>\n      <td>2018-02-07T02:00:00+01:00</td>\n      <td>{\"type\": \"Point\", \"coordinates\": [0.5735091098...</td>\n      <td>43.0780437575,0.573509109825</td>\n      <td>43.0780437575</td>\n      <td>0.573509109825</td>\n    </tr>\n    <tr>\n      <th>76</th>\n      <td>102</td>\n      <td>2575</td>\n      <td>Gare de voyageurs et de fret</td>\n      <td>Gaillac</td>\n      <td>gare avec accueil du public</td>\n      <td>87615252</td>\n      <td>Occitanie</td>\n      <td>81</td>\n      <td>2018-02-07T02:00:00+01:00</td>\n      <td>{\"type\": \"Point\", \"coordinates\": [1.8947346357...</td>\n      <td>43.906275024,1.8947346358</td>\n      <td>43.906275024</td>\n      <td>1.8947346358</td>\n    </tr>\n    <tr>\n      <th>78</th>\n      <td>106</td>\n      <td>2585</td>\n      <td>Gare de voyageurs et de fret</td>\n      <td>Cordes-Vindrac</td>\n      <td>gare avec accueil du public</td>\n      <td>87613802</td>\n      <td>Occitanie</td>\n      <td>81</td>\n      <td>2018-02-07T02:00:00+01:00</td>\n      <td>{\"type\": \"Point\", \"coordinates\": [1.9000871521...</td>\n      <td>44.0669197249,1.90008715216</td>\n      <td>44.0669197249</td>\n      <td>1.90008715216</td>\n    </tr>\n    <tr>\n      <th>83</th>\n      <td>136</td>\n      <td>3037</td>\n      <td>Gare de voyageurs</td>\n      <td>Martres-Tolosane</td>\n      <td>halte ferroviaire</td>\n      <td>87611087</td>\n      <td>Occitanie</td>\n      <td>31</td>\n      <td>2018-02-07T02:00:00+01:00</td>\n      <td>{\"type\": \"Point\", \"coordinates\": [1.0165881605...</td>\n      <td>43.1961326128,1.01658816051</td>\n      <td>43.1961326128</td>\n      <td>1.01658816051</td>\n    </tr>\n    <tr>\n      <th>97</th>\n      <td>244</td>\n      <td>4232</td>\n      <td>Gare de voyageurs</td>\n      <td>Loures-Barbazan</td>\n      <td>halte ferroviaire</td>\n      <td>87611178</td>\n      <td>Occitanie</td>\n      <td>65</td>\n      <td>2018-02-07T02:00:00+01:00</td>\n      <td>{\"type\": \"Point\", \"coordinates\": [0.6104470007...</td>\n      <td>43.0211262603,0.610447000725</td>\n      <td>43.0211262603</td>\n      <td>0.610447000725</td>\n    </tr>\n    <tr>\n      <th>98</th>\n      <td>248</td>\n      <td>4242</td>\n      <td>Gare de voyageurs</td>\n      <td>Gragnague</td>\n      <td>halte ferroviaire</td>\n      <td>87615377</td>\n      <td>Occitanie</td>\n      <td>31</td>\n      <td>2018-02-07T02:00:00+01:00</td>\n      <td>{\"type\": \"Point\", \"coordinates\": [1.5675837534...</td>\n      <td>43.6965091735,1.56758375346</td>\n      <td>43.6965091735</td>\n      <td>1.56758375346</td>\n    </tr>\n    <tr>\n      <th>102</th>\n      <td>260</td>\n      <td>4444</td>\n      <td>Gare de voyageurs</td>\n      <td>Labarthe-Inard</td>\n      <td>halte ferroviaire</td>\n      <td>87611129</td>\n      <td>Occitanie</td>\n      <td>31</td>\n      <td>2018-02-07T02:00:00+01:00</td>\n      <td>{\"type\": \"Point\", \"coordinates\": [0.8532185313...</td>\n      <td>43.105060364,0.853218531318</td>\n      <td>43.105060364</td>\n      <td>0.853218531318</td>\n    </tr>\n    <tr>\n      <th>108</th>\n      <td>293</td>\n      <td>4782</td>\n      <td>Gare de voyageurs</td>\n      <td>Saint-Sulpice-Tarn</td>\n      <td>gare avec accueil du public</td>\n      <td>87615344</td>\n      <td>Occitanie</td>\n      <td>81</td>\n      <td>2018-02-07T02:00:00+01:00</td>\n      <td>{\"type\": \"Point\", \"coordinates\": [1.6810387972...</td>\n      <td>43.7753995037,1.68103879727</td>\n      <td>43.7753995037</td>\n      <td>1.68103879727</td>\n    </tr>\n    <tr>\n      <th>110</th>\n      <td>312</td>\n      <td>10000</td>\n      <td>Gare de voyageurs et de fret</td>\n      <td>Ossun</td>\n      <td>halte ferroviaire</td>\n      <td>87671313</td>\n      <td>Occitanie</td>\n      <td>65</td>\n      <td>2018-02-07T02:00:00+01:00</td>\n      <td>{\"type\": \"Point\", \"coordinates\": [-0.021347550...</td>\n      <td>43.183495732,-0.0213475504314</td>\n      <td>43.183495732</td>\n      <td>-0.0213475504314</td>\n    </tr>\n    <tr>\n      <th>122</th>\n      <td>94</td>\n      <td>2559</td>\n      <td>Gare de voyageurs</td>\n      <td>Capvern</td>\n      <td>halte ferroviaire</td>\n      <td>87671156</td>\n      <td>Occitanie</td>\n      <td>65</td>\n      <td>2018-02-07T02:00:00+01:00</td>\n      <td>{\"type\": \"Point\", \"coordinates\": [0.3295941682...</td>\n      <td>43.1035171569,0.329594168204</td>\n      <td>43.1035171569</td>\n      <td>0.329594168204</td>\n    </tr>\n    <tr>\n      <th>123</th>\n      <td>96</td>\n      <td>2563</td>\n      <td>Gare de voyageurs et de fret</td>\n      <td>Muret</td>\n      <td>gare avec accueil du public</td>\n      <td>87611038</td>\n      <td>Occitanie</td>\n      <td>31</td>\n      <td>2018-02-07T02:00:00+01:00</td>\n      <td>{\"type\": \"Point\", \"coordinates\": [1.3242969764...</td>\n      <td>43.4649586224,1.32429697641</td>\n      <td>43.4649586224</td>\n      <td>1.32429697641</td>\n    </tr>\n    <tr>\n      <th>139</th>\n      <td>175</td>\n      <td>3357</td>\n      <td>Gare de voyageurs</td>\n      <td>Tessonnières</td>\n      <td>halte ferroviaire</td>\n      <td>87615245</td>\n      <td>Occitanie</td>\n      <td>81</td>\n      <td>2018-02-07T02:00:00+01:00</td>\n      <td>{\"type\": \"Point\", \"coordinates\": [1.9371056894...</td>\n      <td>43.9282126179,1.93710568944</td>\n      <td>43.9282126179</td>\n      <td>1.93710568944</td>\n    </tr>\n    <tr>\n      <th>140</th>\n      <td>176</td>\n      <td>3358</td>\n      <td>Gare de voyageurs et de fret</td>\n      <td>Albi-Madeleine</td>\n      <td>gare avec accueil du public</td>\n      <td>87615195</td>\n      <td>Occitanie</td>\n      <td>81</td>\n      <td>2018-02-07T02:00:00+01:00</td>\n      <td>{\"type\": \"Point\", \"coordinates\": [2.1409487160...</td>\n      <td>43.9374378767,2.140948716</td>\n      <td>43.9374378767</td>\n      <td>2.140948716</td>\n    </tr>\n    <tr>\n      <th>143</th>\n      <td>220</td>\n      <td>3938</td>\n      <td>Gare de voyageurs et de fret</td>\n      <td>Lourdes</td>\n      <td>gare avec accueil du public</td>\n      <td>87671339</td>\n      <td>Occitanie</td>\n      <td>65</td>\n      <td>2018-02-07T02:00:00+01:00</td>\n      <td>{\"type\": \"Point\", \"coordinates\": [-0.042259496...</td>\n      <td>43.1005396479,-0.0422594968728</td>\n      <td>43.1005396479</td>\n      <td>-0.0422594968728</td>\n    </tr>\n    <tr>\n      <th>150</th>\n      <td>256</td>\n      <td>4429</td>\n      <td>Gare de voyageurs et de fret</td>\n      <td>Carmaux</td>\n      <td>gare avec accueil du public</td>\n      <td>87615625</td>\n      <td>Occitanie</td>\n      <td>81</td>\n      <td>2018-02-07T02:00:00+01:00</td>\n      <td>{\"type\": \"Point\", \"coordinates\": [2.1523689320...</td>\n      <td>44.048256148,2.15236893204</td>\n      <td>44.048256148</td>\n      <td>2.15236893204</td>\n    </tr>\n    <tr>\n      <th>155</th>\n      <td>276</td>\n      <td>4519</td>\n      <td>Gare de voyageurs</td>\n      <td>Lisle-sur-Tarn</td>\n      <td>gare avec accueil du public</td>\n      <td>87615310</td>\n      <td>Occitanie</td>\n      <td>81</td>\n      <td>2018-02-07T02:00:00+01:00</td>\n      <td>{\"type\": \"Point\", \"coordinates\": [1.8079560948...</td>\n      <td>43.8564870388,1.80795609481</td>\n      <td>43.8564870388</td>\n      <td>1.80795609481</td>\n    </tr>\n    <tr>\n      <th>159</th>\n      <td>283</td>\n      <td>4680</td>\n      <td>Gare de voyageurs</td>\n      <td>Tournay</td>\n      <td>gare avec accueil du public</td>\n      <td>87671172</td>\n      <td>Occitanie</td>\n      <td>65</td>\n      <td>2018-02-07T02:00:00+01:00</td>\n      <td>{\"type\": \"Point\", \"coordinates\": [0.2390209950...</td>\n      <td>43.1834462947,0.23902099504</td>\n      <td>43.1834462947</td>\n      <td>0.23902099504</td>\n    </tr>\n    <tr>\n      <th>162</th>\n      <td>297</td>\n      <td>4790</td>\n      <td>Gare de voyageurs</td>\n      <td>Tanus</td>\n      <td>halte ferroviaire</td>\n      <td>87615674</td>\n      <td>Occitanie</td>\n      <td>81</td>\n      <td>2018-02-07T02:00:00+01:00</td>\n      <td>{\"type\": \"Point\", \"coordinates\": [2.3152072653...</td>\n      <td>44.1003870737,2.31520726536</td>\n      <td>44.1003870737</td>\n      <td>2.31520726536</td>\n    </tr>\n    <tr>\n      <th>167</th>\n      <td>18</td>\n      <td>1601</td>\n      <td>Gare de voyageurs</td>\n      <td>Marssac-surTarn</td>\n      <td>halte ferroviaire</td>\n      <td>87615419</td>\n      <td>Occitanie</td>\n      <td>81</td>\n      <td>2018-02-07T02:00:00+01:00</td>\n      <td>{\"type\": \"Point\", \"coordinates\": [2.0270250657...</td>\n      <td>43.91508485,2.02702506577</td>\n      <td>43.91508485</td>\n      <td>2.02702506577</td>\n    </tr>\n    <tr>\n      <th>170</th>\n      <td>40</td>\n      <td>1921</td>\n      <td>Gare de voyageurs</td>\n      <td>Rabastens-Coufouleux</td>\n      <td>gare avec accueil du public</td>\n      <td>87615328</td>\n      <td>Occitanie</td>\n      <td>81</td>\n      <td>2018-02-07T02:00:00+01:00</td>\n      <td>{\"type\": \"Point\", \"coordinates\": [1.7310239804...</td>\n      <td>43.8196492582,1.73102398044</td>\n      <td>43.8196492582</td>\n      <td>1.73102398044</td>\n    </tr>\n    <tr>\n      <th>181</th>\n      <td>100</td>\n      <td>2573</td>\n      <td>Gare de voyageurs et de fret</td>\n      <td>Auch</td>\n      <td>gare avec accueil du public</td>\n      <td>87611749</td>\n      <td>Occitanie</td>\n      <td>32</td>\n      <td>2018-02-07T02:00:00+01:00</td>\n      <td>{\"type\": \"Point\", \"coordinates\": [0.5970597207...</td>\n      <td>43.6473223883,0.597059720783</td>\n      <td>43.6473223883</td>\n      <td>0.597059720783</td>\n    </tr>\n    <tr>\n      <th>182</th>\n      <td>103</td>\n      <td>2576</td>\n      <td>Gare de voyageurs</td>\n      <td>Montastruc-la-Conseillère</td>\n      <td>halte ferroviaire</td>\n      <td>87615369</td>\n      <td>Occitanie</td>\n      <td>31</td>\n      <td>2018-02-07T02:00:00+01:00</td>\n      <td>{\"type\": \"Point\", \"coordinates\": [1.5974276883...</td>\n      <td>43.7157469018,1.59742768831</td>\n      <td>43.7157469018</td>\n      <td>1.59742768831</td>\n    </tr>\n    <tr>\n      <th>187</th>\n      <td>119</td>\n      <td>2744</td>\n      <td>Gare de voyageurs</td>\n      <td>Le Fauga</td>\n      <td>halte ferroviaire</td>\n      <td>87611046</td>\n      <td>Occitanie</td>\n      <td>31</td>\n      <td>2018-02-07T02:00:00+01:00</td>\n      <td>{\"type\": \"Point\", \"coordinates\": [1.2824836013...</td>\n      <td>43.4044402573,1.28248360131</td>\n      <td>43.4044402573</td>\n      <td>1.28248360131</td>\n    </tr>\n    <tr>\n      <th>190</th>\n      <td>130</td>\n      <td>3004</td>\n      <td>Gare de voyageurs et de fret</td>\n      <td>Boussens</td>\n      <td>gare avec accueil du public</td>\n      <td>87611095</td>\n      <td>Occitanie</td>\n      <td>31</td>\n      <td>2018-02-07T02:00:00+01:00</td>\n      <td>{\"type\": \"Point\", \"coordinates\": [0.9723650177...</td>\n      <td>43.1798586983,0.972365017776</td>\n      <td>43.1798586983</td>\n      <td>0.972365017776</td>\n    </tr>\n    <tr>\n      <th>191</th>\n      <td>135</td>\n      <td>3035</td>\n      <td>Gare de voyageurs et de fret</td>\n      <td>Saint-Gaudens</td>\n      <td>gare avec accueil du public</td>\n      <td>87611137</td>\n      <td>Occitanie</td>\n      <td>31</td>\n      <td>2018-02-07T02:00:00+01:00</td>\n      <td>{\"type\": \"Point\", \"coordinates\": [0.7295495840...</td>\n      <td>43.1050472275,0.729549584049</td>\n      <td>43.1050472275</td>\n      <td>0.729549584049</td>\n    </tr>\n    <tr>\n      <th>195</th>\n      <td>168</td>\n      <td>3341</td>\n      <td>Gare de voyageurs</td>\n      <td>Longages-Noé</td>\n      <td>halte ferroviaire</td>\n      <td>87611053</td>\n      <td>Occitanie</td>\n      <td>31</td>\n      <td>2018-02-07T02:00:00+01:00</td>\n      <td>{\"type\": \"Point\", \"coordinates\": [1.2522251796...</td>\n      <td>43.3567143917,1.25222517968</td>\n      <td>43.3567143917</td>\n      <td>1.25222517968</td>\n    </tr>\n    <tr>\n      <th>203</th>\n      <td>201</td>\n      <td>3669</td>\n      <td>Gare de voyageurs</td>\n      <td>Brax-Léguevin</td>\n      <td>halte ferroviaire</td>\n      <td>87611822</td>\n      <td>Occitanie</td>\n      <td>31</td>\n      <td>2018-02-07T02:00:00+01:00</td>\n      <td>{\"type\": \"Point\", \"coordinates\": [1.2368284981...</td>\n      <td>43.614782443,1.23682849814</td>\n      <td>43.614782443</td>\n      <td>1.23682849814</td>\n    </tr>\n    <tr>\n      <th>207</th>\n      <td>212</td>\n      <td>3896</td>\n      <td>Gare de voyageurs et de fret</td>\n      <td>Lannemezan</td>\n      <td>gare avec accueil du public</td>\n      <td>87671123</td>\n      <td>Occitanie</td>\n      <td>65</td>\n      <td>2018-02-07T02:00:00+01:00</td>\n      <td>{\"type\": \"Point\", \"coordinates\": [0.3874288549...</td>\n      <td>43.1142180051,0.38742885497</td>\n      <td>43.1142180051</td>\n      <td>0.38742885497</td>\n    </tr>\n    <tr>\n      <th>210</th>\n      <td>240</td>\n      <td>4203</td>\n      <td>Gare de voyageurs</td>\n      <td>Lestelle</td>\n      <td>halte ferroviaire</td>\n      <td>87611111</td>\n      <td>Occitanie</td>\n      <td>31</td>\n      <td>2018-02-07T02:00:00+01:00</td>\n      <td>{\"type\": \"Point\", \"coordinates\": [0.9128340560...</td>\n      <td>43.1188479641,0.912834056029</td>\n      <td>43.1188479641</td>\n      <td>0.912834056029</td>\n    </tr>\n    <tr>\n      <th>214</th>\n      <td>269</td>\n      <td>4506</td>\n      <td>Gare de voyageurs et de fret</td>\n      <td>Carbonne</td>\n      <td>gare avec accueil du public</td>\n      <td>87611061</td>\n      <td>Occitanie</td>\n      <td>31</td>\n      <td>2018-02-07T02:00:00+01:00</td>\n      <td>{\"type\": \"Point\", \"coordinates\": [1.2126116808...</td>\n      <td>43.2985312182,1.21261168084</td>\n      <td>43.2985312182</td>\n      <td>1.21261168084</td>\n    </tr>\n    <tr>\n      <th>220</th>\n      <td>4</td>\n      <td>1457</td>\n      <td>Gare de voyageurs</td>\n      <td>Montrabé</td>\n      <td>halte ferroviaire</td>\n      <td>87611848</td>\n      <td>Occitanie</td>\n      <td>31</td>\n      <td>2018-02-07T02:00:00+01:00</td>\n      <td>{\"type\": \"Point\", \"coordinates\": [1.5233678762...</td>\n      <td>43.6452456688,1.52336787628</td>\n      <td>43.6452456688</td>\n      <td>1.52336787628</td>\n    </tr>\n    <tr>\n      <th>233</th>\n      <td>73</td>\n      <td>2263</td>\n      <td>Gare de voyageurs et de fret</td>\n      <td>Albi-Ville</td>\n      <td>gare avec accueil du public</td>\n      <td>87615005</td>\n      <td>Occitanie</td>\n      <td>81</td>\n      <td>2018-02-07T02:00:00+01:00</td>\n      <td>{\"type\": \"Point\", \"coordinates\": [2.1375690544...</td>\n      <td>43.9224009249,2.13756905448</td>\n      <td>43.9224009249</td>\n      <td>2.13756905448</td>\n    </tr>\n    <tr>\n      <th>243</th>\n      <td>118</td>\n      <td>2743</td>\n      <td>Gare de voyageurs et de fret</td>\n      <td>Tarbes</td>\n      <td>gare avec accueil du public</td>\n      <td>87671008</td>\n      <td>Occitanie</td>\n      <td>65</td>\n      <td>2018-02-07T02:00:00+01:00</td>\n      <td>{\"type\": \"Point\", \"coordinates\": [0.0694724942...</td>\n      <td>43.2403061285,0.069472494225</td>\n      <td>43.2403061285</td>\n      <td>0.069472494225</td>\n    </tr>\n    <tr>\n      <th>256</th>\n      <td>196</td>\n      <td>3659</td>\n      <td>Gare de voyageurs</td>\n      <td>Saint-Pé-de-Bigorre</td>\n      <td>halte ferroviaire</td>\n      <td>87671362</td>\n      <td>Occitanie</td>\n      <td>65</td>\n      <td>2018-02-07T02:00:00+01:00</td>\n      <td>{\"type\": \"Point\", \"coordinates\": [-0.160877885...</td>\n      <td>43.101158055,-0.160877885639</td>\n      <td>43.101158055</td>\n      <td>-0.160877885639</td>\n    </tr>\n    <tr>\n      <th>257</th>\n      <td>198</td>\n      <td>3661</td>\n      <td>Gare de voyageurs</td>\n      <td>Saint-Martory</td>\n      <td>halte ferroviaire</td>\n      <td>87611103</td>\n      <td>Occitanie</td>\n      <td>31</td>\n      <td>2018-02-07T02:00:00+01:00</td>\n      <td>{\"type\": \"Point\", \"coordinates\": [0.9339500432...</td>\n      <td>43.1384348559,0.933950043202</td>\n      <td>43.1384348559</td>\n      <td>0.933950043202</td>\n    </tr>\n    <tr>\n      <th>259</th>\n      <td>202</td>\n      <td>3670</td>\n      <td>Gare de voyageurs</td>\n      <td>Pibrac</td>\n      <td>halte ferroviaire</td>\n      <td>87611830</td>\n      <td>Occitanie</td>\n      <td>31</td>\n      <td>2018-02-07T02:00:00+01:00</td>\n      <td>{\"type\": \"Point\", \"coordinates\": [1.2891869589...</td>\n      <td>43.621496301,1.28918695899</td>\n      <td>43.621496301</td>\n      <td>1.28918695899</td>\n    </tr>\n    <tr>\n      <th>264</th>\n      <td>225</td>\n      <td>3954</td>\n      <td>Gare de voyageurs</td>\n      <td>Roquesérière-Buzet</td>\n      <td>halte ferroviaire</td>\n      <td>87615351</td>\n      <td>Occitanie</td>\n      <td>31</td>\n      <td>2018-02-07T02:00:00+01:00</td>\n      <td>{\"type\": \"Point\", \"coordinates\": [1.6187228071...</td>\n      <td>43.7508044018,1.6187228071</td>\n      <td>43.7508044018</td>\n      <td>1.6187228071</td>\n    </tr>\n  </tbody>\n</table>\n</div>"
     },
     "metadata": {},
     "execution_count": 52
    }
   ],
   "source": [
    "# Create two lists for the loop results to be placed\n",
    "lat = []\n",
    "lon = []\n",
    "\n",
    "# For each row in a varible,\n",
    "for row in gares['geo_point_2d']:\n",
    "    # Try to,\n",
    "    try:\n",
    "        # Split the row by comma and append\n",
    "        # everything before the comma to lat\n",
    "        lat.append(row.split(',')[0])\n",
    "        # Split the row by comma and append\n",
    "        # everything after the comma to lon\n",
    "        lon.append(row.split(',')[1])\n",
    "    # But if you get an error\n",
    "    except:\n",
    "        # append a missing value to lat\n",
    "        lat.append(np.NaN)\n",
    "        # append a missing value to lon\n",
    "        lon.append(np.NaN)\n",
    "\n",
    "# Create two new columns from lat and lon\n",
    "gares['latitude'] = lat\n",
    "gares['longitude'] = lon"
   ]
  },
  {
   "cell_type": "markdown",
   "metadata": {},
   "source": [
    "Let's see the distance between two points"
   ]
  },
  {
   "cell_type": "code",
   "execution_count": 73,
   "metadata": {},
   "outputs": [],
   "source": [
    "from math import radians, cos, sin, asin, sqrt\n",
    "\n",
    "def haversine(lon1, lat1, lon2, lat2):\n",
    "    \"\"\"\n",
    "    Calculate the great circle distance between two points \n",
    "    on the earth (specified in decimal degrees)\n",
    "    \"\"\"\n",
    "    # convert decimal degrees to radians \n",
    "    lon1, lat1, lon2, lat2 = map(radians, [float(lon1), float(lat1), float(lon2), float(lat2)])\n",
    "\n",
    "    # haversine formula \n",
    "    dlon = lon2 - lon1 \n",
    "    dlat = lat2 - lat1 \n",
    "    a = sin(dlat/2)**2 + cos(lat1) * cos(lat2) * sin(dlon/2)**2\n",
    "    c = 2 * asin(sqrt(a)) \n",
    "    r = 6371 # Radius of earth in kilometers. Use 3956 for miles\n",
    "    return c * r\n"
   ]
  },
  {
   "cell_type": "code",
   "execution_count": 74,
   "metadata": {},
   "outputs": [],
   "source": [
    "df_all = pd.merge(toulouse_counrtyside.assign(key=0), gares.assign(key=0), on='key').drop('key', axis=1)"
   ]
  },
  {
   "cell_type": "code",
   "execution_count": 76,
   "metadata": {},
   "outputs": [
    {
     "output_type": "error",
     "ename": "KeyError",
     "evalue": "'latitude'",
     "traceback": [
      "\u001b[0;31m---------------------------------------------------------------------------\u001b[0m",
      "\u001b[0;31mTypeError\u001b[0m                                 Traceback (most recent call last)",
      "\u001b[0;32m~/.local/lib/python3.7/site-packages/pandas/core/indexes/base.py\u001b[0m in \u001b[0;36mget_value\u001b[0;34m(self, series, key)\u001b[0m\n\u001b[1;32m   4409\u001b[0m             \u001b[0;32mtry\u001b[0m\u001b[0;34m:\u001b[0m\u001b[0;34m\u001b[0m\u001b[0;34m\u001b[0m\u001b[0m\n\u001b[0;32m-> 4410\u001b[0;31m                 \u001b[0;32mreturn\u001b[0m \u001b[0mlibindex\u001b[0m\u001b[0;34m.\u001b[0m\u001b[0mget_value_at\u001b[0m\u001b[0;34m(\u001b[0m\u001b[0ms\u001b[0m\u001b[0;34m,\u001b[0m \u001b[0mkey\u001b[0m\u001b[0;34m)\u001b[0m\u001b[0;34m\u001b[0m\u001b[0;34m\u001b[0m\u001b[0m\n\u001b[0m\u001b[1;32m   4411\u001b[0m             \u001b[0;32mexcept\u001b[0m \u001b[0mIndexError\u001b[0m\u001b[0;34m:\u001b[0m\u001b[0;34m\u001b[0m\u001b[0;34m\u001b[0m\u001b[0m\n",
      "\u001b[0;32mpandas/_libs/index.pyx\u001b[0m in \u001b[0;36mpandas._libs.index.get_value_at\u001b[0;34m()\u001b[0m\n",
      "\u001b[0;32mpandas/_libs/index.pyx\u001b[0m in \u001b[0;36mpandas._libs.index.get_value_at\u001b[0;34m()\u001b[0m\n",
      "\u001b[0;32mpandas/_libs/util.pxd\u001b[0m in \u001b[0;36mpandas._libs.util.get_value_at\u001b[0;34m()\u001b[0m\n",
      "\u001b[0;32mpandas/_libs/util.pxd\u001b[0m in \u001b[0;36mpandas._libs.util.validate_indexer\u001b[0;34m()\u001b[0m\n",
      "\u001b[0;31mTypeError\u001b[0m: 'str' object cannot be interpreted as an integer",
      "\nDuring handling of the above exception, another exception occurred:\n",
      "\u001b[0;31mKeyError\u001b[0m                                  Traceback (most recent call last)",
      "\u001b[0;32m<ipython-input-76-b096411cba5a>\u001b[0m in \u001b[0;36m<module>\u001b[0;34m\u001b[0m\n\u001b[1;32m      4\u001b[0m         \u001b[0mrow\u001b[0m\u001b[0;34m[\u001b[0m\u001b[0;34m'latitude'\u001b[0m\u001b[0;34m]\u001b[0m\u001b[0;34m,\u001b[0m \u001b[0mrow\u001b[0m\u001b[0;34m[\u001b[0m\u001b[0;34m'latitude'\u001b[0m\u001b[0;34m]\u001b[0m\u001b[0;34m\u001b[0m\u001b[0;34m\u001b[0m\u001b[0m\n\u001b[1;32m      5\u001b[0m     )),\n\u001b[0;32m----> 6\u001b[0;31m     \u001b[0maxis\u001b[0m\u001b[0;34m=\u001b[0m\u001b[0;36m1\u001b[0m\u001b[0;34m\u001b[0m\u001b[0;34m\u001b[0m\u001b[0m\n\u001b[0m\u001b[1;32m      7\u001b[0m )\n",
      "\u001b[0;32m~/.local/lib/python3.7/site-packages/pandas/core/frame.py\u001b[0m in \u001b[0;36mapply\u001b[0;34m(self, func, axis, raw, result_type, args, **kwds)\u001b[0m\n\u001b[1;32m   6876\u001b[0m             \u001b[0mkwds\u001b[0m\u001b[0;34m=\u001b[0m\u001b[0mkwds\u001b[0m\u001b[0;34m,\u001b[0m\u001b[0;34m\u001b[0m\u001b[0;34m\u001b[0m\u001b[0m\n\u001b[1;32m   6877\u001b[0m         )\n\u001b[0;32m-> 6878\u001b[0;31m         \u001b[0;32mreturn\u001b[0m \u001b[0mop\u001b[0m\u001b[0;34m.\u001b[0m\u001b[0mget_result\u001b[0m\u001b[0;34m(\u001b[0m\u001b[0;34m)\u001b[0m\u001b[0;34m\u001b[0m\u001b[0;34m\u001b[0m\u001b[0m\n\u001b[0m\u001b[1;32m   6879\u001b[0m \u001b[0;34m\u001b[0m\u001b[0m\n\u001b[1;32m   6880\u001b[0m     \u001b[0;32mdef\u001b[0m \u001b[0mapplymap\u001b[0m\u001b[0;34m(\u001b[0m\u001b[0mself\u001b[0m\u001b[0;34m,\u001b[0m \u001b[0mfunc\u001b[0m\u001b[0;34m)\u001b[0m \u001b[0;34m->\u001b[0m \u001b[0;34m\"DataFrame\"\u001b[0m\u001b[0;34m:\u001b[0m\u001b[0;34m\u001b[0m\u001b[0;34m\u001b[0m\u001b[0m\n",
      "\u001b[0;32m~/.local/lib/python3.7/site-packages/pandas/core/apply.py\u001b[0m in \u001b[0;36mget_result\u001b[0;34m(self)\u001b[0m\n\u001b[1;32m    184\u001b[0m             \u001b[0;32mreturn\u001b[0m \u001b[0mself\u001b[0m\u001b[0;34m.\u001b[0m\u001b[0mapply_raw\u001b[0m\u001b[0;34m(\u001b[0m\u001b[0;34m)\u001b[0m\u001b[0;34m\u001b[0m\u001b[0;34m\u001b[0m\u001b[0m\n\u001b[1;32m    185\u001b[0m \u001b[0;34m\u001b[0m\u001b[0m\n\u001b[0;32m--> 186\u001b[0;31m         \u001b[0;32mreturn\u001b[0m \u001b[0mself\u001b[0m\u001b[0;34m.\u001b[0m\u001b[0mapply_standard\u001b[0m\u001b[0;34m(\u001b[0m\u001b[0;34m)\u001b[0m\u001b[0;34m\u001b[0m\u001b[0;34m\u001b[0m\u001b[0m\n\u001b[0m\u001b[1;32m    187\u001b[0m \u001b[0;34m\u001b[0m\u001b[0m\n\u001b[1;32m    188\u001b[0m     \u001b[0;32mdef\u001b[0m \u001b[0mapply_empty_result\u001b[0m\u001b[0;34m(\u001b[0m\u001b[0mself\u001b[0m\u001b[0;34m)\u001b[0m\u001b[0;34m:\u001b[0m\u001b[0;34m\u001b[0m\u001b[0;34m\u001b[0m\u001b[0m\n",
      "\u001b[0;32m~/.local/lib/python3.7/site-packages/pandas/core/apply.py\u001b[0m in \u001b[0;36mapply_standard\u001b[0;34m(self)\u001b[0m\n\u001b[1;32m    294\u001b[0m             \u001b[0;32mtry\u001b[0m\u001b[0;34m:\u001b[0m\u001b[0;34m\u001b[0m\u001b[0;34m\u001b[0m\u001b[0m\n\u001b[1;32m    295\u001b[0m                 result = libreduction.compute_reduction(\n\u001b[0;32m--> 296\u001b[0;31m                     \u001b[0mvalues\u001b[0m\u001b[0;34m,\u001b[0m \u001b[0mself\u001b[0m\u001b[0;34m.\u001b[0m\u001b[0mf\u001b[0m\u001b[0;34m,\u001b[0m \u001b[0maxis\u001b[0m\u001b[0;34m=\u001b[0m\u001b[0mself\u001b[0m\u001b[0;34m.\u001b[0m\u001b[0maxis\u001b[0m\u001b[0;34m,\u001b[0m \u001b[0mdummy\u001b[0m\u001b[0;34m=\u001b[0m\u001b[0mdummy\u001b[0m\u001b[0;34m,\u001b[0m \u001b[0mlabels\u001b[0m\u001b[0;34m=\u001b[0m\u001b[0mlabels\u001b[0m\u001b[0;34m\u001b[0m\u001b[0;34m\u001b[0m\u001b[0m\n\u001b[0m\u001b[1;32m    297\u001b[0m                 )\n\u001b[1;32m    298\u001b[0m             \u001b[0;32mexcept\u001b[0m \u001b[0mValueError\u001b[0m \u001b[0;32mas\u001b[0m \u001b[0merr\u001b[0m\u001b[0;34m:\u001b[0m\u001b[0;34m\u001b[0m\u001b[0;34m\u001b[0m\u001b[0m\n",
      "\u001b[0;32mpandas/_libs/reduction.pyx\u001b[0m in \u001b[0;36mpandas._libs.reduction.compute_reduction\u001b[0;34m()\u001b[0m\n",
      "\u001b[0;32mpandas/_libs/reduction.pyx\u001b[0m in \u001b[0;36mpandas._libs.reduction.Reducer.get_result\u001b[0;34m()\u001b[0m\n",
      "\u001b[0;32m<ipython-input-76-b096411cba5a>\u001b[0m in \u001b[0;36m<lambda>\u001b[0;34m(row)\u001b[0m\n\u001b[1;32m      2\u001b[0m     (lambda row: haversine(\n\u001b[1;32m      3\u001b[0m         \u001b[0mrow\u001b[0m\u001b[0;34m[\u001b[0m\u001b[0;34m'ville_latitude_deg'\u001b[0m\u001b[0;34m]\u001b[0m\u001b[0;34m,\u001b[0m \u001b[0mrow\u001b[0m\u001b[0;34m[\u001b[0m\u001b[0;34m'ville_longitude_deg'\u001b[0m\u001b[0;34m]\u001b[0m\u001b[0;34m,\u001b[0m\u001b[0;34m\u001b[0m\u001b[0;34m\u001b[0m\u001b[0m\n\u001b[0;32m----> 4\u001b[0;31m         \u001b[0mrow\u001b[0m\u001b[0;34m[\u001b[0m\u001b[0;34m'latitude'\u001b[0m\u001b[0;34m]\u001b[0m\u001b[0;34m,\u001b[0m \u001b[0mrow\u001b[0m\u001b[0;34m[\u001b[0m\u001b[0;34m'latitude'\u001b[0m\u001b[0;34m]\u001b[0m\u001b[0;34m\u001b[0m\u001b[0;34m\u001b[0m\u001b[0m\n\u001b[0m\u001b[1;32m      5\u001b[0m     )),\n\u001b[1;32m      6\u001b[0m     \u001b[0maxis\u001b[0m\u001b[0;34m=\u001b[0m\u001b[0;36m1\u001b[0m\u001b[0;34m\u001b[0m\u001b[0;34m\u001b[0m\u001b[0m\n",
      "\u001b[0;32m~/.local/lib/python3.7/site-packages/pandas/core/series.py\u001b[0m in \u001b[0;36m__getitem__\u001b[0;34m(self, key)\u001b[0m\n\u001b[1;32m    869\u001b[0m         \u001b[0mkey\u001b[0m \u001b[0;34m=\u001b[0m \u001b[0mcom\u001b[0m\u001b[0;34m.\u001b[0m\u001b[0mapply_if_callable\u001b[0m\u001b[0;34m(\u001b[0m\u001b[0mkey\u001b[0m\u001b[0;34m,\u001b[0m \u001b[0mself\u001b[0m\u001b[0;34m)\u001b[0m\u001b[0;34m\u001b[0m\u001b[0;34m\u001b[0m\u001b[0m\n\u001b[1;32m    870\u001b[0m         \u001b[0;32mtry\u001b[0m\u001b[0;34m:\u001b[0m\u001b[0;34m\u001b[0m\u001b[0;34m\u001b[0m\u001b[0m\n\u001b[0;32m--> 871\u001b[0;31m             \u001b[0mresult\u001b[0m \u001b[0;34m=\u001b[0m \u001b[0mself\u001b[0m\u001b[0;34m.\u001b[0m\u001b[0mindex\u001b[0m\u001b[0;34m.\u001b[0m\u001b[0mget_value\u001b[0m\u001b[0;34m(\u001b[0m\u001b[0mself\u001b[0m\u001b[0;34m,\u001b[0m \u001b[0mkey\u001b[0m\u001b[0;34m)\u001b[0m\u001b[0;34m\u001b[0m\u001b[0;34m\u001b[0m\u001b[0m\n\u001b[0m\u001b[1;32m    872\u001b[0m \u001b[0;34m\u001b[0m\u001b[0m\n\u001b[1;32m    873\u001b[0m             \u001b[0;32mif\u001b[0m \u001b[0;32mnot\u001b[0m \u001b[0mis_scalar\u001b[0m\u001b[0;34m(\u001b[0m\u001b[0mresult\u001b[0m\u001b[0;34m)\u001b[0m\u001b[0;34m:\u001b[0m\u001b[0;34m\u001b[0m\u001b[0;34m\u001b[0m\u001b[0m\n",
      "\u001b[0;32m~/.local/lib/python3.7/site-packages/pandas/core/indexes/base.py\u001b[0m in \u001b[0;36mget_value\u001b[0;34m(self, series, key)\u001b[0m\n\u001b[1;32m   4416\u001b[0m                     \u001b[0;32mraise\u001b[0m \u001b[0mInvalidIndexError\u001b[0m\u001b[0;34m(\u001b[0m\u001b[0mkey\u001b[0m\u001b[0;34m)\u001b[0m\u001b[0;34m\u001b[0m\u001b[0;34m\u001b[0m\u001b[0m\n\u001b[1;32m   4417\u001b[0m                 \u001b[0;32melse\u001b[0m\u001b[0;34m:\u001b[0m\u001b[0;34m\u001b[0m\u001b[0;34m\u001b[0m\u001b[0m\n\u001b[0;32m-> 4418\u001b[0;31m                     \u001b[0;32mraise\u001b[0m \u001b[0me1\u001b[0m\u001b[0;34m\u001b[0m\u001b[0;34m\u001b[0m\u001b[0m\n\u001b[0m\u001b[1;32m   4419\u001b[0m             \u001b[0;32mexcept\u001b[0m \u001b[0mException\u001b[0m\u001b[0;34m:\u001b[0m\u001b[0;34m\u001b[0m\u001b[0;34m\u001b[0m\u001b[0m\n\u001b[1;32m   4420\u001b[0m                 \u001b[0;32mraise\u001b[0m \u001b[0me1\u001b[0m\u001b[0;34m\u001b[0m\u001b[0;34m\u001b[0m\u001b[0m\n",
      "\u001b[0;32m~/.local/lib/python3.7/site-packages/pandas/core/indexes/base.py\u001b[0m in \u001b[0;36mget_value\u001b[0;34m(self, series, key)\u001b[0m\n\u001b[1;32m   4402\u001b[0m         \u001b[0mk\u001b[0m \u001b[0;34m=\u001b[0m \u001b[0mself\u001b[0m\u001b[0;34m.\u001b[0m\u001b[0m_convert_scalar_indexer\u001b[0m\u001b[0;34m(\u001b[0m\u001b[0mk\u001b[0m\u001b[0;34m,\u001b[0m \u001b[0mkind\u001b[0m\u001b[0;34m=\u001b[0m\u001b[0;34m\"getitem\"\u001b[0m\u001b[0;34m)\u001b[0m\u001b[0;34m\u001b[0m\u001b[0;34m\u001b[0m\u001b[0m\n\u001b[1;32m   4403\u001b[0m         \u001b[0;32mtry\u001b[0m\u001b[0;34m:\u001b[0m\u001b[0;34m\u001b[0m\u001b[0;34m\u001b[0m\u001b[0m\n\u001b[0;32m-> 4404\u001b[0;31m             \u001b[0;32mreturn\u001b[0m \u001b[0mself\u001b[0m\u001b[0;34m.\u001b[0m\u001b[0m_engine\u001b[0m\u001b[0;34m.\u001b[0m\u001b[0mget_value\u001b[0m\u001b[0;34m(\u001b[0m\u001b[0ms\u001b[0m\u001b[0;34m,\u001b[0m \u001b[0mk\u001b[0m\u001b[0;34m,\u001b[0m \u001b[0mtz\u001b[0m\u001b[0;34m=\u001b[0m\u001b[0mgetattr\u001b[0m\u001b[0;34m(\u001b[0m\u001b[0mseries\u001b[0m\u001b[0;34m.\u001b[0m\u001b[0mdtype\u001b[0m\u001b[0;34m,\u001b[0m \u001b[0;34m\"tz\"\u001b[0m\u001b[0;34m,\u001b[0m \u001b[0;32mNone\u001b[0m\u001b[0;34m)\u001b[0m\u001b[0;34m)\u001b[0m\u001b[0;34m\u001b[0m\u001b[0;34m\u001b[0m\u001b[0m\n\u001b[0m\u001b[1;32m   4405\u001b[0m         \u001b[0;32mexcept\u001b[0m \u001b[0mKeyError\u001b[0m \u001b[0;32mas\u001b[0m \u001b[0me1\u001b[0m\u001b[0;34m:\u001b[0m\u001b[0;34m\u001b[0m\u001b[0;34m\u001b[0m\u001b[0m\n\u001b[1;32m   4406\u001b[0m             \u001b[0;32mif\u001b[0m \u001b[0mlen\u001b[0m\u001b[0;34m(\u001b[0m\u001b[0mself\u001b[0m\u001b[0;34m)\u001b[0m \u001b[0;34m>\u001b[0m \u001b[0;36m0\u001b[0m \u001b[0;32mand\u001b[0m \u001b[0;34m(\u001b[0m\u001b[0mself\u001b[0m\u001b[0;34m.\u001b[0m\u001b[0mholds_integer\u001b[0m\u001b[0;34m(\u001b[0m\u001b[0;34m)\u001b[0m \u001b[0;32mor\u001b[0m \u001b[0mself\u001b[0m\u001b[0;34m.\u001b[0m\u001b[0mis_boolean\u001b[0m\u001b[0;34m(\u001b[0m\u001b[0;34m)\u001b[0m\u001b[0;34m)\u001b[0m\u001b[0;34m:\u001b[0m\u001b[0;34m\u001b[0m\u001b[0;34m\u001b[0m\u001b[0m\n",
      "\u001b[0;32mpandas/_libs/index.pyx\u001b[0m in \u001b[0;36mpandas._libs.index.IndexEngine.get_value\u001b[0;34m()\u001b[0m\n",
      "\u001b[0;32mpandas/_libs/index.pyx\u001b[0m in \u001b[0;36mpandas._libs.index.IndexEngine.get_value\u001b[0;34m()\u001b[0m\n",
      "\u001b[0;32mpandas/_libs/index.pyx\u001b[0m in \u001b[0;36mpandas._libs.index.IndexEngine.get_loc\u001b[0;34m()\u001b[0m\n",
      "\u001b[0;32mpandas/_libs/hashtable_class_helper.pxi\u001b[0m in \u001b[0;36mpandas._libs.hashtable.PyObjectHashTable.get_item\u001b[0;34m()\u001b[0m\n",
      "\u001b[0;32mpandas/_libs/hashtable_class_helper.pxi\u001b[0m in \u001b[0;36mpandas._libs.hashtable.PyObjectHashTable.get_item\u001b[0;34m()\u001b[0m\n",
      "\u001b[0;31mKeyError\u001b[0m: 'latitude'"
     ]
    }
   ],
   "source": [
    "df_all['DISTANCE_GARE'] = df_all.apply(\n",
    "    (lambda row: haversine(\n",
    "        row['ville_latitude_deg'], row['ville_longitude_deg'],\n",
    "        row['latitude'], row['latitude']\n",
    "    )),\n",
    "    axis=1\n",
    ")"
   ]
  },
  {
   "cell_type": "code",
   "execution_count": 56,
   "metadata": {},
   "outputs": [],
   "source": [
    "closest = df_all.loc[df_all.groupby([\"ville_id\", 'ville_latitude_deg', 'ville_longitude_deg'])[\"DISTANCE_GARE\"].idxmin()]"
   ]
  },
  {
   "cell_type": "code",
   "execution_count": 57,
   "metadata": {},
   "outputs": [],
   "source": [
    "toulouse_counrtyside_w_dist = toulouse_counrtyside.merge(\n",
    "    closest,\n",
    "    on=[\"ville_id\", 'ville_latitude_deg', 'ville_longitude_deg'],\n",
    "    suffixes=('', '_cl')\n",
    ").drop(['latitude', 'latitude'], axis=1)"
   ]
  },
  {
   "cell_type": "code",
   "execution_count": 58,
   "metadata": {},
   "outputs": [
    {
     "output_type": "execute_result",
     "data": {
      "text/plain": "     ville_id ville_departement            ville_nom     ville_nom_simple  \\\n1656    33177                81      MURAT-SUR-VEBRE      murat sur vebre   \n1711    33232                81                BARRE                barre   \n1677    33198                81          MOULIN-MAGE          moulin mage   \n1549    33070                81                NAGES                nages   \n1680    33201                81              LACAUNE              lacaune   \n1564    33085                81          SAINT-JUERY          saint juery   \n1655    33176                81  LABASTIDE-ROUAIROUX  labastide rouairoux   \n\n           ville_nom_reel ville_code_postal ville_commune ville_code_commune  \\\n1656      Murat-sur-Vèbre             81320           192              81192   \n1711                Barre             81320           023              81023   \n1677          Moulin-Mage             81320           188              81188   \n1549                Nages             81320           193              81193   \n1680              Lacaune             81230           124              81124   \n1564          Saint-Juéry             81160           257              81257   \n1655  Labastide-Rouairoux             81270           115              81115   \n\n     ville_arrondissement ville_canton  ... toponyme  \\\n1656                    2           22  ...   Luchon   \n1711                    2           22  ...   Luchon   \n1677                    2           22  ...   Luchon   \n1549                    2           22  ...   Luchon   \n1680                    2           15  ...   Luchon   \n1564                    1           36  ...   Luchon   \n1655                    2           28  ...   Luchon   \n\n                             type   codeuic     region departement  \\\n1656  gare avec accueil du public  87611236  Occitanie          31   \n1711  gare avec accueil du public  87611236  Occitanie          31   \n1677  gare avec accueil du public  87611236  Occitanie          31   \n1549  gare avec accueil du public  87611236  Occitanie          31   \n1680  gare avec accueil du public  87611236  Occitanie          31   \n1564  gare avec accueil du public  87611236  Occitanie          31   \n1655  gare avec accueil du public  87611236  Occitanie          31   \n\n                       date_maj  \\\n1656  2018-02-07T02:00:00+01:00   \n1711  2018-02-07T02:00:00+01:00   \n1677  2018-02-07T02:00:00+01:00   \n1549  2018-02-07T02:00:00+01:00   \n1680  2018-02-07T02:00:00+01:00   \n1564  2018-02-07T02:00:00+01:00   \n1655  2018-02-07T02:00:00+01:00   \n\n                                              geo_shape  \\\n1656  {\"type\": \"Point\", \"coordinates\": [0.5965996459...   \n1711  {\"type\": \"Point\", \"coordinates\": [0.5965996459...   \n1677  {\"type\": \"Point\", \"coordinates\": [0.5965996459...   \n1549  {\"type\": \"Point\", \"coordinates\": [0.5965996459...   \n1680  {\"type\": \"Point\", \"coordinates\": [0.5965996459...   \n1564  {\"type\": \"Point\", \"coordinates\": [0.5965996459...   \n1655  {\"type\": \"Point\", \"coordinates\": [0.5965996459...   \n\n                      geo_point_2d       longitude DISTANCE_GARE  \n1656  42.7971107969,0.596599645992  0.596599645992   4441.859649  \n1711  42.7971107969,0.596599645992  0.596599645992   4445.465577  \n1677  42.7971107969,0.596599645992  0.596599645992   4447.884542  \n1549  42.7971107969,0.596599645992  0.596599645992   4450.590770  \n1680  42.7971107969,0.596599645992  0.596599645992   4459.528986  \n1564  42.7971107969,0.596599645992  0.596599645992   4459.979213  \n1655  42.7971107969,0.596599645992  0.596599645992   4464.649605  \n\n[7 rows x 48 columns]",
      "text/html": "<div>\n<style scoped>\n    .dataframe tbody tr th:only-of-type {\n        vertical-align: middle;\n    }\n\n    .dataframe tbody tr th {\n        vertical-align: top;\n    }\n\n    .dataframe thead th {\n        text-align: right;\n    }\n</style>\n<table border=\"1\" class=\"dataframe\">\n  <thead>\n    <tr style=\"text-align: right;\">\n      <th></th>\n      <th>ville_id</th>\n      <th>ville_departement</th>\n      <th>ville_nom</th>\n      <th>ville_nom_simple</th>\n      <th>ville_nom_reel</th>\n      <th>ville_code_postal</th>\n      <th>ville_commune</th>\n      <th>ville_code_commune</th>\n      <th>ville_arrondissement</th>\n      <th>ville_canton</th>\n      <th>...</th>\n      <th>toponyme</th>\n      <th>type</th>\n      <th>codeuic</th>\n      <th>region</th>\n      <th>departement</th>\n      <th>date_maj</th>\n      <th>geo_shape</th>\n      <th>geo_point_2d</th>\n      <th>longitude</th>\n      <th>DISTANCE_GARE</th>\n    </tr>\n  </thead>\n  <tbody>\n    <tr>\n      <th>1656</th>\n      <td>33177</td>\n      <td>81</td>\n      <td>MURAT-SUR-VEBRE</td>\n      <td>murat sur vebre</td>\n      <td>Murat-sur-Vèbre</td>\n      <td>81320</td>\n      <td>192</td>\n      <td>81192</td>\n      <td>2</td>\n      <td>22</td>\n      <td>...</td>\n      <td>Luchon</td>\n      <td>gare avec accueil du public</td>\n      <td>87611236</td>\n      <td>Occitanie</td>\n      <td>31</td>\n      <td>2018-02-07T02:00:00+01:00</td>\n      <td>{\"type\": \"Point\", \"coordinates\": [0.5965996459...</td>\n      <td>42.7971107969,0.596599645992</td>\n      <td>0.596599645992</td>\n      <td>4441.859649</td>\n    </tr>\n    <tr>\n      <th>1711</th>\n      <td>33232</td>\n      <td>81</td>\n      <td>BARRE</td>\n      <td>barre</td>\n      <td>Barre</td>\n      <td>81320</td>\n      <td>023</td>\n      <td>81023</td>\n      <td>2</td>\n      <td>22</td>\n      <td>...</td>\n      <td>Luchon</td>\n      <td>gare avec accueil du public</td>\n      <td>87611236</td>\n      <td>Occitanie</td>\n      <td>31</td>\n      <td>2018-02-07T02:00:00+01:00</td>\n      <td>{\"type\": \"Point\", \"coordinates\": [0.5965996459...</td>\n      <td>42.7971107969,0.596599645992</td>\n      <td>0.596599645992</td>\n      <td>4445.465577</td>\n    </tr>\n    <tr>\n      <th>1677</th>\n      <td>33198</td>\n      <td>81</td>\n      <td>MOULIN-MAGE</td>\n      <td>moulin mage</td>\n      <td>Moulin-Mage</td>\n      <td>81320</td>\n      <td>188</td>\n      <td>81188</td>\n      <td>2</td>\n      <td>22</td>\n      <td>...</td>\n      <td>Luchon</td>\n      <td>gare avec accueil du public</td>\n      <td>87611236</td>\n      <td>Occitanie</td>\n      <td>31</td>\n      <td>2018-02-07T02:00:00+01:00</td>\n      <td>{\"type\": \"Point\", \"coordinates\": [0.5965996459...</td>\n      <td>42.7971107969,0.596599645992</td>\n      <td>0.596599645992</td>\n      <td>4447.884542</td>\n    </tr>\n    <tr>\n      <th>1549</th>\n      <td>33070</td>\n      <td>81</td>\n      <td>NAGES</td>\n      <td>nages</td>\n      <td>Nages</td>\n      <td>81320</td>\n      <td>193</td>\n      <td>81193</td>\n      <td>2</td>\n      <td>22</td>\n      <td>...</td>\n      <td>Luchon</td>\n      <td>gare avec accueil du public</td>\n      <td>87611236</td>\n      <td>Occitanie</td>\n      <td>31</td>\n      <td>2018-02-07T02:00:00+01:00</td>\n      <td>{\"type\": \"Point\", \"coordinates\": [0.5965996459...</td>\n      <td>42.7971107969,0.596599645992</td>\n      <td>0.596599645992</td>\n      <td>4450.590770</td>\n    </tr>\n    <tr>\n      <th>1680</th>\n      <td>33201</td>\n      <td>81</td>\n      <td>LACAUNE</td>\n      <td>lacaune</td>\n      <td>Lacaune</td>\n      <td>81230</td>\n      <td>124</td>\n      <td>81124</td>\n      <td>2</td>\n      <td>15</td>\n      <td>...</td>\n      <td>Luchon</td>\n      <td>gare avec accueil du public</td>\n      <td>87611236</td>\n      <td>Occitanie</td>\n      <td>31</td>\n      <td>2018-02-07T02:00:00+01:00</td>\n      <td>{\"type\": \"Point\", \"coordinates\": [0.5965996459...</td>\n      <td>42.7971107969,0.596599645992</td>\n      <td>0.596599645992</td>\n      <td>4459.528986</td>\n    </tr>\n    <tr>\n      <th>1564</th>\n      <td>33085</td>\n      <td>81</td>\n      <td>SAINT-JUERY</td>\n      <td>saint juery</td>\n      <td>Saint-Juéry</td>\n      <td>81160</td>\n      <td>257</td>\n      <td>81257</td>\n      <td>1</td>\n      <td>36</td>\n      <td>...</td>\n      <td>Luchon</td>\n      <td>gare avec accueil du public</td>\n      <td>87611236</td>\n      <td>Occitanie</td>\n      <td>31</td>\n      <td>2018-02-07T02:00:00+01:00</td>\n      <td>{\"type\": \"Point\", \"coordinates\": [0.5965996459...</td>\n      <td>42.7971107969,0.596599645992</td>\n      <td>0.596599645992</td>\n      <td>4459.979213</td>\n    </tr>\n    <tr>\n      <th>1655</th>\n      <td>33176</td>\n      <td>81</td>\n      <td>LABASTIDE-ROUAIROUX</td>\n      <td>labastide rouairoux</td>\n      <td>Labastide-Rouairoux</td>\n      <td>81270</td>\n      <td>115</td>\n      <td>81115</td>\n      <td>2</td>\n      <td>28</td>\n      <td>...</td>\n      <td>Luchon</td>\n      <td>gare avec accueil du public</td>\n      <td>87611236</td>\n      <td>Occitanie</td>\n      <td>31</td>\n      <td>2018-02-07T02:00:00+01:00</td>\n      <td>{\"type\": \"Point\", \"coordinates\": [0.5965996459...</td>\n      <td>42.7971107969,0.596599645992</td>\n      <td>0.596599645992</td>\n      <td>4464.649605</td>\n    </tr>\n  </tbody>\n</table>\n<p>7 rows × 48 columns</p>\n</div>"
     },
     "metadata": {},
     "execution_count": 58
    }
   ],
   "source": [
    "toulouse_counrtyside_w_dist.sort_values(by=['DISTANCE_GARE']).head(7)"
   ]
  },
  {
   "cell_type": "code",
   "execution_count": 25,
   "metadata": {},
   "outputs": [],
   "source": [
    "toulouse_counrtyside_w_dist.to_csv('data/tls-communes-gares.csv', encoding='utf-8')"
   ]
  },
  {
   "cell_type": "markdown",
   "metadata": {},
   "source": [
    "Yes on a maintenant nos communes qui nous intéresse!"
   ]
  },
  {
   "cell_type": "code",
   "execution_count": 5,
   "metadata": {},
   "outputs": [
    {
     "ename": "KeyboardInterrupt",
     "evalue": "",
     "output_type": "error",
     "traceback": [
      "\u001b[0;31m----------------------------------------------------------\u001b[0m",
      "\u001b[0;31mKeyboardInterrupt\u001b[0m        Traceback (most recent call last)",
      "\u001b[0;32m<ipython-input-5-087174598930>\u001b[0m in \u001b[0;36m<module>\u001b[0;34m\u001b[0m\n\u001b[1;32m     24\u001b[0m     \u001b[0mdurations\u001b[0m\u001b[0;34m[\u001b[0m\u001b[0;34m'base_duration_toulouse'\u001b[0m\u001b[0;34m]\u001b[0m\u001b[0;34m.\u001b[0m\u001b[0mappend\u001b[0m\u001b[0;34m(\u001b[0m\u001b[0msum\u001b[0m\u001b[0;34m[\u001b[0m\u001b[0;34m'baseDuration'\u001b[0m\u001b[0;34m]\u001b[0m\u001b[0;34m)\u001b[0m\u001b[0;34m\u001b[0m\u001b[0;34m\u001b[0m\u001b[0m\n\u001b[1;32m     25\u001b[0m \u001b[0;34m\u001b[0m\u001b[0m\n\u001b[0;32m---> 26\u001b[0;31m     \u001b[0msleep\u001b[0m\u001b[0;34m(\u001b[0m\u001b[0muniform\u001b[0m\u001b[0;34m(\u001b[0m\u001b[0;36m0.5\u001b[0m\u001b[0;34m,\u001b[0m\u001b[0;36m0.1\u001b[0m\u001b[0;34m)\u001b[0m\u001b[0;34m)\u001b[0m\u001b[0;34m\u001b[0m\u001b[0;34m\u001b[0m\u001b[0m\n\u001b[0m\u001b[1;32m     27\u001b[0m \u001b[0;34m\u001b[0m\u001b[0m\n\u001b[1;32m     28\u001b[0m \u001b[0;34m\u001b[0m\u001b[0m\n",
      "\u001b[0;31mKeyboardInterrupt\u001b[0m: "
     ]
    }
   ],
   "source": [
    "durations = {\n",
    "    'ville_code_commune': [],\n",
    "    'duration_toulouse': [], \n",
    "    'distance_toulouse': [], \n",
    "    'base_duration_toulouse': []\n",
    "}\n",
    "toulouse_coord= '43.6,1.43333'\n",
    "api_key = 'uJLrVPP4drsWQQjj3nqWDbG1W-FKZfsmlvg_SZxGyWs'\n",
    "\n",
    "for i,j in toulouse_counrtyside.iterrows():\n",
    "    lat = j['ville_latitude_deg']\n",
    "    long = j['ville_longitude_deg']\n",
    "\n",
    "    url = 'https://router.hereapi.com/v8/routes?transportMode=car&origin='+str(lat)+','+str(long)+'&destination='+toulouse_coord+'&return=summary&apiKey='+api_key\n",
    "\n",
    "    res = urlopen(url).read()\n",
    "    res_json = json.loads(res)\n",
    "\n",
    "    sum = (res_json.get('routes')[0]['sections'][0]['summary'])\n",
    "    \n",
    "    durations['ville_code_commune'].append(j['ville_code_commune'])\n",
    "    durations['duration_toulouse'].append(sum['duration'])\n",
    "    durations['distance_toulouse'].append(sum['length'])\n",
    "    durations['base_duration_toulouse'].append(sum['baseDuration'])\n",
    "    \n",
    "    sleep(uniform(0.5,0.1))\n",
    "\n",
    "    \n",
    "durations = pd.DataFrame(durations)\n",
    "durations.to_csv('data/durations.csv', encoding='utf-8')\n",
    "durations.head(10)"
   ]
  },
  {
   "cell_type": "code",
   "execution_count": null,
   "metadata": {},
   "outputs": [],
   "source": []
  },
  {
   "cell_type": "markdown",
   "metadata": {},
   "source": [
    "### A vous : "
   ]
  },
  {
   "cell_type": "markdown",
   "metadata": {},
   "source": [
    "   - Quelle a été la plus grande subvention allouée en 2011 ? \n",
    "   - Quel est le parlementaire qui a reçu le plus grand nombre de subventions ? \n",
    "   - Quel est le parlementaire qui a reçu le plus de subventions en valeur ? \n",
    "   - Quel est le département qui a reçu le plus de subventions ? "
   ]
  },
  {
   "cell_type": "code",
   "execution_count": null,
   "metadata": {},
   "outputs": [],
   "source": [
    "reserve = pd.read_csv(\"data/reserve.csv\")\n",
    "reserve.head(2)"
   ]
  },
  {
   "cell_type": "markdown",
   "metadata": {},
   "source": [
    "Nous pouvons appliquer plusieurs clés : **quel est le nombre de subventions par partis politiques et par chambre ?**"
   ]
  },
  {
   "cell_type": "code",
   "execution_count": null,
   "metadata": {},
   "outputs": [],
   "source": [
    "chambres = reserve['Subvention allouée'].groupby([reserve['Groupe politique du parlementaire'],reserve['Nature']]).count()\n",
    "chambres"
   ]
  },
  {
   "cell_type": "markdown",
   "metadata": {},
   "source": [
    "Nous créons dans ce cas une série avec deux index (partis et nature). \n",
    "\n",
    "Nous pouvons faire 'déplier' cette série avec la méthode **unstack** :"
   ]
  },
  {
   "cell_type": "code",
   "execution_count": null,
   "metadata": {},
   "outputs": [],
   "source": [
    "groupes_chambres = chambres.unstack()\n",
    "groupes_chambres"
   ]
  },
  {
   "cell_type": "markdown",
   "metadata": {},
   "source": [
    "Nous pouvons également grouper sans spécifier de colonne. Si les données à grouper se trouvent dans mon DataFrame, je peux grouper de la façon suivante : "
   ]
  },
  {
   "cell_type": "code",
   "execution_count": null,
   "metadata": {},
   "outputs": [],
   "source": [
    "reserve.groupby('Nature').count()"
   ]
  },
  {
   "cell_type": "markdown",
   "metadata": {},
   "source": [
    "(Attention aux aggrégations hâtives ;))"
   ]
  },
  {
   "cell_type": "markdown",
   "metadata": {},
   "source": [
    "### A vous : "
   ]
  },
  {
   "cell_type": "markdown",
   "metadata": {},
   "source": [
    "- Quelle est la moyenne des coûts de projets par type d'assemblée ? \n",
    "- Combien de projets le Sénat a - t-il financé dans les Yvelines ? \n",
    "- Quelle a été la subvention allouée pour à Paris ? "
   ]
  },
  {
   "cell_type": "markdown",
   "metadata": {},
   "source": [
    "Pandas nous permet également de passer des dictionnaires ou des séries au sein des groupes. \n",
    "\n",
    "Cela est intéressant lorsque nous souhaitons faire un mapping entre les colonnes (ou les lignes). \n",
    "\n",
    "Dans notre cas, les acronymes entre l'Assemblée Nationale et le Sénat varient (i.e : SOC et SRC désignent tous deux les groupes du Parti Socialiste). On peut donc écrire la correspondance suivante : "
   ]
  },
  {
   "cell_type": "code",
   "execution_count": null,
   "metadata": {},
   "outputs": [],
   "source": [
    "mapping = {'CRC':'Partis de Gauche', \n",
    "           'CRC-SPG':'Partis de Gauche', \n",
    "           'ECO':'Ecologistes', \n",
    "           'GDR':'Radicaux', \n",
    "           'NC':'Centristes', \n",
    "           'NI':'Non Inscrits', \n",
    "           'RDSE':'Radicaux',\n",
    "           'SOC':'Parti Socialiste',\n",
    "           'SOCV':'Parti Socialiste',\n",
    "           'SRC':'Parti Socialiste',\n",
    "           'UC':'Centristes', \n",
    "           'UDI':'Centristes', \n",
    "           'UMP':'Union Mouvement Populaire'}"
   ]
  },
  {
   "cell_type": "markdown",
   "metadata": {},
   "source": [
    "Dans ce cas, nous souhaitons grouper selon la correspondance des index (axis =0) du DataFrame **groupes_chambres** avec le dictionnaire **mapping**, soit : "
   ]
  },
  {
   "cell_type": "code",
   "execution_count": null,
   "metadata": {},
   "outputs": [],
   "source": [
    "groupes_chambres"
   ]
  },
  {
   "cell_type": "code",
   "execution_count": null,
   "metadata": {},
   "outputs": [],
   "source": [
    "groupes_chambres.groupby(mapping, axis=0).sum()"
   ]
  },
  {
   "cell_type": "markdown",
   "metadata": {},
   "source": [
    "Une autre façon de réaliser facilement des mapping, est d'utiliser la méthode **map** sur une série. Dans notre cas : "
   ]
  },
  {
   "cell_type": "code",
   "execution_count": null,
   "metadata": {},
   "outputs": [],
   "source": [
    "reserve['parti'] = reserve['Groupe politique du parlementaire'].map(mapping)\n",
    "reserve.head(2)"
   ]
  },
  {
   "cell_type": "markdown",
   "metadata": {},
   "source": [
    "## Agrégation"
   ]
  },
  {
   "cell_type": "markdown",
   "metadata": {},
   "source": [
    "L'aggrégation de données correspond à une transformation d'un tableau de données en une valeur. \n",
    "\n",
    "Pandas permet d'accéder à des agrégations génériques (moyennes, somme etc..), mais il est également possible de créer ses propres fonctions d'agrégation. "
   ]
  },
  {
   "cell_type": "markdown",
   "metadata": {},
   "source": [
    "Il est ainsi possible d'aggréger ses données en utilisant plusieurs fonctions d'agrégations. Déclarons par exemple les trois fonctions suivantes moyenne, maximum et minimum : "
   ]
  },
  {
   "cell_type": "code",
   "execution_count": null,
   "metadata": {},
   "outputs": [],
   "source": [
    "functions = ['mean','max','min']"
   ]
  },
  {
   "cell_type": "markdown",
   "metadata": {},
   "source": [
    "Nous pouvons appeler la méthode **agg** qui appliquera pour chacun des groupes les fonctions appelées. \n",
    "\n",
    "Si nous souhaitons par exemple afficher la moyenne, le maximum et le minimum des subventions allouée par parti politique, nous pouvons écrire : "
   ]
  },
  {
   "cell_type": "code",
   "execution_count": null,
   "metadata": {},
   "outputs": [],
   "source": [
    "reserve.groupby('parti').agg(functions)"
   ]
  },
  {
   "cell_type": "markdown",
   "metadata": {},
   "source": [
    "Il est également possible de définir ses propres aggrégations grâce à la méthode **apply**\n",
    "\n",
    "Comme précisé précédemment, la méthode **apply** sépare un set de données suivant les clés spécifier dans la méthode **groupby** puis applique la fonction appelée en paramètre. \n",
    "\n",
    "Nous défninissons la fonction **part** qui renvoie la moyenne du ratio subvention allouée / coût du projet : "
   ]
  },
  {
   "cell_type": "code",
   "execution_count": null,
   "metadata": {},
   "outputs": [],
   "source": [
    "def part(df):\n",
    "    return np.mean(df['Subvention allouée']/df['Coût du projet'])"
   ]
  },
  {
   "cell_type": "markdown",
   "metadata": {},
   "source": [
    "La moyenne totale de la part des projets subventionnées peut donc s'écrire : "
   ]
  },
  {
   "cell_type": "code",
   "execution_count": null,
   "metadata": {},
   "outputs": [],
   "source": [
    "part(reserve)"
   ]
  },
  {
   "cell_type": "markdown",
   "metadata": {},
   "source": [
    "Il est dès lors possible d'appliqer la fonction **part** avec un groupby pour obtenir la part des subventions par Département : "
   ]
  },
  {
   "cell_type": "code",
   "execution_count": null,
   "metadata": {},
   "outputs": [],
   "source": [
    "reserve.groupby('Département').apply(part).sort_values(ascending=False)"
   ]
  },
  {
   "cell_type": "markdown",
   "metadata": {},
   "source": [
    "### A vous : "
   ]
  },
  {
   "cell_type": "markdown",
   "metadata": {},
   "source": [
    "- Quel est la part subventionnée des projets par partis politiques ? \n",
    "- Quel parlementaire, ayant réalisé plus de 50 subventions, a réalisé le plus de subventions dans sa région ? \n",
    "- Quel est le parti politique qui a réalisé le plus de subventions dans sa région ? "
   ]
  }
 ],
 "metadata": {
  "kernelspec": {
   "display_name": "Python 3.7.5 64-bit",
   "language": "python",
   "name": "python37564bitdf7e01cea00f4b91bf0d4f98b0317dd3"
  },
  "language_info": {
   "codemirror_mode": {
    "name": "ipython",
    "version": 3
   },
   "file_extension": ".py",
   "mimetype": "text/x-python",
   "name": "python",
   "nbconvert_exporter": "python",
   "pygments_lexer": "ipython3",
   "version": "3.7.5-final"
  }
 },
 "nbformat": 4,
 "nbformat_minor": 1
}